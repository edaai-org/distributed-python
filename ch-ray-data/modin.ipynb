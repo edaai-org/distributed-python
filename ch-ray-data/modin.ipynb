{
 "cells": [
  {
   "cell_type": "markdown",
   "metadata": {},
   "source": [
    "(sec-modin)=\n",
    "# Modin\n",
    "\n",
    "Ray Data 提供的各类数据处理工具相对比较简单，只能做一些比较简单的转换，无法胜任复杂的数据处理任务。Modin 是一款专门加速 pandas 的框架。它对大数据进行了切分，使 DataFrame 分布到多核和集群上。早期，它底层使用了 Ray 作为分布式执行引擎，又被称为 Ray 上的 pandas（pandas on Ray）。之后又添加了 Dask 和 [unidist](https://github.com/modin-project/unidist/) 执行引擎，unidist 是 Modin 团队自己开发的分布式执行引擎。\n",
    "\n",
    "在安装 Modin 时，要安装对应的执行引擎（Ray、Dask 或 unidist），比如 `pip install \"modin[ray]\"` 或 `pip install \"modin[dask]\"`。Modin 默认使用 Ray 作为其执行引擎。\n",
    "\n",
    "## API 兼容性\n",
    "\n",
    "Dask DataFrame 与 pandas DataFrame 其实有不少差异，很多 pandas 工作流并不能快速迁移到 Dask DataFrame 上。Modin 更看重与 pandas 的兼容性，用户只需要 `import modin.pandas as pd`，绝大多数 pandas 工作流可以快速迁移到 Modin 上。\n",
    "\n",
    "Dask DataFrame 只按列对大数据进行切分，且没有记录每个 Partition 有多少数据，Modin 在多维度对数据进行切分，保留行标签和列标签。Modin 支持行索引 `iloc()`；记录了每个数据块的数据量，可以支持`median()`、`quantile()`；支持行和列的转换（比如，`pivot()`、`transpose()`）等操作。有关 Modin 的设计，可以参考其两篇论文 {cite}`petersohn2020Scalable` {cite}`petersohn2021Flexible`。"
   ]
  },
  {
   "cell_type": "code",
   "execution_count": 1,
   "metadata": {},
   "outputs": [
    {
     "ename": "ModuleNotFoundError",
     "evalue": "No module named 'utils'",
     "output_type": "error",
     "traceback": [
      "\u001b[0;31m---------------------------------------------------------------------------\u001b[0m",
      "\u001b[0;31mModuleNotFoundError\u001b[0m                       Traceback (most recent call last)",
      "Cell \u001b[0;32mIn[1], line 5\u001b[0m\n\u001b[1;32m      3\u001b[0m \u001b[38;5;28;01mimport\u001b[39;00m \u001b[38;5;21;01msys\u001b[39;00m\n\u001b[1;32m      4\u001b[0m sys\u001b[38;5;241m.\u001b[39mpath\u001b[38;5;241m.\u001b[39mappend(\u001b[38;5;124m\"\u001b[39m\u001b[38;5;124m..\u001b[39m\u001b[38;5;124m\"\u001b[39m)\n\u001b[0;32m----> 5\u001b[0m \u001b[38;5;28;01mfrom\u001b[39;00m \u001b[38;5;21;01mutils\u001b[39;00m \u001b[38;5;28;01mimport\u001b[39;00m nyc_flights\n\u001b[1;32m      7\u001b[0m folder_path \u001b[38;5;241m=\u001b[39m nyc_flights()\n\u001b[1;32m      8\u001b[0m file_path \u001b[38;5;241m=\u001b[39m os\u001b[38;5;241m.\u001b[39mpath\u001b[38;5;241m.\u001b[39mjoin(folder_path, \u001b[38;5;124m\"\u001b[39m\u001b[38;5;124m*.csv\u001b[39m\u001b[38;5;124m\"\u001b[39m)\n",
      "\u001b[0;31mModuleNotFoundError\u001b[0m: No module named 'utils'"
     ]
    }
   ],
   "source": [
    "import os\n",
    "\n",
    "import sys\n",
    "sys.path.append(\"..\")\n",
    "from utils import nyc_flights\n",
    "\n",
    "folder_path = nyc_flights()\n",
    "file_path = os.path.join(folder_path, \"*.csv\")"
   ]
  },
  {
   "cell_type": "markdown",
   "metadata": {},
   "source": [
    ":::{note}\n",
    "Modin 的 API 尽量与 pandas 一致，比如，pandas 的 `read_csv()` 只能读一个文件，不能读 `*.csv` 这样的通配符。Modin 额外增加了一些 API，比如，Modin 拓展了 `read_csv()`，提出了 `read_csv_glob()` 方法 可以读取 `*.csv` 这样的通配符，适合读大数据。这些额外增加的 API 在 [`modin.experimental.pandas`](https://modin.readthedocs.io/en/stable/flow/modin/experimental/pandas.html) 中。\n",
    ":::"
   ]
  },
  {
   "cell_type": "code",
   "execution_count": null,
   "metadata": {},
   "outputs": [
    {
     "data": {
      "text/plain": [
       "Date                 1991-01-11 00:00:00\n",
       "DayOfWeek                              5\n",
       "DepTime                           1303.0\n",
       "CRSDepTime                          1215\n",
       "ArrTime                           1439.0\n",
       "CRSArrTime                          1336\n",
       "UniqueCarrier                         US\n",
       "FlightNum                            121\n",
       "TailNum                              NaN\n",
       "ActualElapsedTime                   96.0\n",
       "CRSElapsedTime                        81\n",
       "AirTime                              NaN\n",
       "ArrDelay                            63.0\n",
       "DepDelay                            48.0\n",
       "Origin                               EWR\n",
       "Dest                                 PIT\n",
       "Distance                           319.0\n",
       "TaxiIn                               NaN\n",
       "TaxiOut                              NaN\n",
       "Cancelled                              0\n",
       "Diverted                               0\n",
       "Name: 3, dtype: object"
      ]
     },
     "execution_count": 34,
     "metadata": {},
     "output_type": "execute_result"
    }
   ],
   "source": [
    "import modin.experimental.pandas as pd\n",
    "df = pd.read_csv_glob(file_path, parse_dates={'Date': [0, 1, 2]})\n",
    "df.iloc[3]"
   ]
  },
  {
   "cell_type": "code",
   "execution_count": null,
   "metadata": {},
   "outputs": [
    {
     "data": {
      "text/plain": [
       "0.0"
      ]
     },
     "execution_count": 35,
     "metadata": {},
     "output_type": "execute_result"
    }
   ],
   "source": [
    "df['ArrDelay'].median()"
   ]
  },
  {
   "cell_type": "markdown",
   "metadata": {},
   "source": [
    "如果某些 API 在 Modin 中还没实现，Modin 会退回（Fallback）到 pandas，这也保证了兼容性。当然，缺点也很明显：将 Modin 的 DataFrame 转换为 pandas DataFrame 时，会有额外的开销；如果这个 DataFrame 分布在多个节点上，转化回 pandas 时会把数据集中到单机内存，有可能把单机内存挤爆。\n",
    "\n",
    "## 立即执行\n",
    "\n",
    "Modin 是立即执行，这一点与 pandas 一致。用户不需要像 Dask 那样调用 `.compute()` 来触发计算。\n",
    "\n",
    "Modin 也没有 Dask DataFrame 的数据类型推断。{numref}`sec-dask-dataframe-read-write` 中的飞机起降数据上，Dask DataFrame `tail()` 会抛出异常，但 Modin 能够得到 pandas 一样的语义。"
   ]
  },
  {
   "cell_type": "code",
   "execution_count": null,
   "metadata": {},
   "outputs": [
    {
     "data": {
      "text/html": [
       "<div>\n",
       "<style scoped>\n",
       "    .dataframe tbody tr th:only-of-type {\n",
       "        vertical-align: middle;\n",
       "    }\n",
       "\n",
       "    .dataframe tbody tr th {\n",
       "        vertical-align: top;\n",
       "    }\n",
       "\n",
       "    .dataframe thead th {\n",
       "        text-align: right;\n",
       "    }\n",
       "</style>\n",
       "<table border=\"1\" class=\"dataframe\">\n",
       "  <thead>\n",
       "    <tr style=\"text-align: right;\">\n",
       "      <th></th>\n",
       "      <th>Date</th>\n",
       "      <th>DayOfWeek</th>\n",
       "      <th>DepTime</th>\n",
       "      <th>CRSDepTime</th>\n",
       "      <th>ArrTime</th>\n",
       "      <th>CRSArrTime</th>\n",
       "      <th>UniqueCarrier</th>\n",
       "      <th>FlightNum</th>\n",
       "      <th>TailNum</th>\n",
       "      <th>ActualElapsedTime</th>\n",
       "      <th>...</th>\n",
       "      <th>AirTime</th>\n",
       "      <th>ArrDelay</th>\n",
       "      <th>DepDelay</th>\n",
       "      <th>Origin</th>\n",
       "      <th>Dest</th>\n",
       "      <th>Distance</th>\n",
       "      <th>TaxiIn</th>\n",
       "      <th>TaxiOut</th>\n",
       "      <th>Cancelled</th>\n",
       "      <th>Diverted</th>\n",
       "    </tr>\n",
       "  </thead>\n",
       "  <tbody>\n",
       "    <tr>\n",
       "      <th>1555982</th>\n",
       "      <td>1994-12-27</td>\n",
       "      <td>2</td>\n",
       "      <td>1721.0</td>\n",
       "      <td>1715</td>\n",
       "      <td>1930.0</td>\n",
       "      <td>1945</td>\n",
       "      <td>DL</td>\n",
       "      <td>149</td>\n",
       "      <td>NaN</td>\n",
       "      <td>129.0</td>\n",
       "      <td>...</td>\n",
       "      <td>NaN</td>\n",
       "      <td>-15.0</td>\n",
       "      <td>6.0</td>\n",
       "      <td>JFK</td>\n",
       "      <td>ATL</td>\n",
       "      <td>760.0</td>\n",
       "      <td>NaN</td>\n",
       "      <td>NaN</td>\n",
       "      <td>0</td>\n",
       "      <td>0</td>\n",
       "    </tr>\n",
       "    <tr>\n",
       "      <th>1555983</th>\n",
       "      <td>1994-12-28</td>\n",
       "      <td>3</td>\n",
       "      <td>1715.0</td>\n",
       "      <td>1715</td>\n",
       "      <td>1934.0</td>\n",
       "      <td>1945</td>\n",
       "      <td>DL</td>\n",
       "      <td>149</td>\n",
       "      <td>NaN</td>\n",
       "      <td>139.0</td>\n",
       "      <td>...</td>\n",
       "      <td>NaN</td>\n",
       "      <td>-11.0</td>\n",
       "      <td>0.0</td>\n",
       "      <td>JFK</td>\n",
       "      <td>ATL</td>\n",
       "      <td>760.0</td>\n",
       "      <td>NaN</td>\n",
       "      <td>NaN</td>\n",
       "      <td>0</td>\n",
       "      <td>0</td>\n",
       "    </tr>\n",
       "    <tr>\n",
       "      <th>1555984</th>\n",
       "      <td>1994-12-29</td>\n",
       "      <td>4</td>\n",
       "      <td>1715.0</td>\n",
       "      <td>1715</td>\n",
       "      <td>1941.0</td>\n",
       "      <td>1945</td>\n",
       "      <td>DL</td>\n",
       "      <td>149</td>\n",
       "      <td>NaN</td>\n",
       "      <td>146.0</td>\n",
       "      <td>...</td>\n",
       "      <td>NaN</td>\n",
       "      <td>-4.0</td>\n",
       "      <td>0.0</td>\n",
       "      <td>JFK</td>\n",
       "      <td>ATL</td>\n",
       "      <td>760.0</td>\n",
       "      <td>NaN</td>\n",
       "      <td>NaN</td>\n",
       "      <td>0</td>\n",
       "      <td>0</td>\n",
       "    </tr>\n",
       "  </tbody>\n",
       "</table>\n",
       "<p>3 rows x 21 columns</p>\n",
       "</div>"
      ],
      "text/plain": [
       "              Date  DayOfWeek  DepTime  CRSDepTime  ArrTime  CRSArrTime  \\\n",
       "1555982 1994-12-27          2   1721.0        1715   1930.0        1945   \n",
       "1555983 1994-12-28          3   1715.0        1715   1934.0        1945   \n",
       "1555984 1994-12-29          4   1715.0        1715   1941.0        1945   \n",
       "\n",
       "        UniqueCarrier  FlightNum  TailNum  ActualElapsedTime  ...  AirTime  \\\n",
       "1555982            DL        149      NaN              129.0  ...      NaN   \n",
       "1555983            DL        149      NaN              139.0  ...      NaN   \n",
       "1555984            DL        149      NaN              146.0  ...      NaN   \n",
       "\n",
       "         ArrDelay  DepDelay  Origin Dest Distance  TaxiIn  TaxiOut  Cancelled  \\\n",
       "1555982     -15.0       6.0     JFK  ATL    760.0     NaN      NaN          0   \n",
       "1555983     -11.0       0.0     JFK  ATL    760.0     NaN      NaN          0   \n",
       "1555984      -4.0       0.0     JFK  ATL    760.0     NaN      NaN          0   \n",
       "\n",
       "         Diverted  \n",
       "1555982         0  \n",
       "1555983         0  \n",
       "1555984         0  \n",
       "\n",
       "[3 rows x 21 columns]"
      ]
     },
     "execution_count": 36,
     "metadata": {},
     "output_type": "execute_result"
    }
   ],
   "source": [
    "df.tail(3)"
   ]
  },
  {
   "cell_type": "markdown",
   "metadata": {},
   "source": [
    "## 执行引擎\n",
    "\n",
    "Modin 支持 Ray、Dask 和 unidist 分布式执行引擎：可以利用单机多核，也可以运行在集群上。以 Ray 为例，用户可以向 Ray 集群上提交作业，在代码中初始 Ray 运行时 `ray.init(address=\"auto\")` 后，会将作业运行 Ray 集群。\n",
    "\n",
    "Modin 默认使用 Ray 作为执行后端，也可以通过环境变量 `MODIN_ENGINE` 来设置执行后端，在命令行里：`export MODIN_ENGINE=dask`；或在 Jupyter Notebook 中：\n",
    "\n",
    "```python\n",
    "import modin.config as modin_cfg\n",
    "modin_cfg.Engine.put(\"ray\")\n",
    "```\n",
    "\n",
    "undist 是 Modin 自己实现的一个执行后端，它支持 MPI，如果想用 undist MPI，除了设置 `MODIN_ENGINE` 还要设置 `UNIDIST_BACKEND`：\n",
    "\n",
    "```shell\n",
    "export MODIN_ENGINE=unidist\n",
    "export UNIDIST_BACKEND=mpi \n",
    "```"
   ]
  },
  {
   "cell_type": "markdown",
   "metadata": {},
   "source": [
    "## 案例：纽约市出租车数据分析\n",
    "\n",
    "我们将使用 Modin 对出租车数据进行数据分析。"
   ]
  },
  {
   "cell_type": "code",
   "execution_count": 1,
   "metadata": {},
   "outputs": [],
   "source": [
    "import os\n",
    "\n",
    "os.environ[\"MODIN_ENGINE\"] = \"dask\"\n",
    "\n",
    "import modin.config as modin_cfg\n",
    "modin_cfg.Engine.put(\"dask\")\n",
    "\n",
    "import modin.experimental.pandas as pd\n",
    "import matplotlib.pyplot as plt\n",
    "from utils import nyc_taxi\n",
    "\n",
    "taxi_path = nyc_taxi()"
   ]
  },
  {
   "cell_type": "markdown",
   "metadata": {},
   "source": [
    "我们先读取数据。我们可以使用 `read_parquet_glob()` 与通配符 `*` 直接读取多个 Parquet 文件，在这里我们仅使用 `read_parquet()`。"
   ]
  },
  {
   "cell_type": "code",
   "execution_count": 2,
   "metadata": {},
   "outputs": [
    {
     "data": {
      "text/html": [
       "<div>\n",
       "<style scoped>\n",
       "    .dataframe tbody tr th:only-of-type {\n",
       "        vertical-align: middle;\n",
       "    }\n",
       "\n",
       "    .dataframe tbody tr th {\n",
       "        vertical-align: top;\n",
       "    }\n",
       "\n",
       "    .dataframe thead th {\n",
       "        text-align: right;\n",
       "    }\n",
       "</style>\n",
       "<table border=\"1\" class=\"dataframe\">\n",
       "  <thead>\n",
       "    <tr style=\"text-align: right;\">\n",
       "      <th></th>\n",
       "      <th>VendorID</th>\n",
       "      <th>tpep_pickup_datetime</th>\n",
       "      <th>tpep_dropoff_datetime</th>\n",
       "      <th>passenger_count</th>\n",
       "      <th>trip_distance</th>\n",
       "      <th>RatecodeID</th>\n",
       "      <th>store_and_fwd_flag</th>\n",
       "      <th>PULocationID</th>\n",
       "      <th>DOLocationID</th>\n",
       "      <th>payment_type</th>\n",
       "      <th>fare_amount</th>\n",
       "      <th>extra</th>\n",
       "      <th>mta_tax</th>\n",
       "      <th>tip_amount</th>\n",
       "      <th>tolls_amount</th>\n",
       "      <th>improvement_surcharge</th>\n",
       "      <th>total_amount</th>\n",
       "      <th>congestion_surcharge</th>\n",
       "      <th>airport_fee</th>\n",
       "    </tr>\n",
       "  </thead>\n",
       "  <tbody>\n",
       "    <tr>\n",
       "      <th>0</th>\n",
       "      <td>2</td>\n",
       "      <td>2023-01-01 00:32:10</td>\n",
       "      <td>2023-01-01 00:40:36</td>\n",
       "      <td>1.0</td>\n",
       "      <td>0.97</td>\n",
       "      <td>1.0</td>\n",
       "      <td>N</td>\n",
       "      <td>161</td>\n",
       "      <td>141</td>\n",
       "      <td>2</td>\n",
       "      <td>9.3</td>\n",
       "      <td>1.00</td>\n",
       "      <td>0.5</td>\n",
       "      <td>0.00</td>\n",
       "      <td>0.0</td>\n",
       "      <td>1.0</td>\n",
       "      <td>14.30</td>\n",
       "      <td>2.5</td>\n",
       "      <td>0.00</td>\n",
       "    </tr>\n",
       "    <tr>\n",
       "      <th>1</th>\n",
       "      <td>2</td>\n",
       "      <td>2023-01-01 00:55:08</td>\n",
       "      <td>2023-01-01 01:01:27</td>\n",
       "      <td>1.0</td>\n",
       "      <td>1.10</td>\n",
       "      <td>1.0</td>\n",
       "      <td>N</td>\n",
       "      <td>43</td>\n",
       "      <td>237</td>\n",
       "      <td>1</td>\n",
       "      <td>7.9</td>\n",
       "      <td>1.00</td>\n",
       "      <td>0.5</td>\n",
       "      <td>4.00</td>\n",
       "      <td>0.0</td>\n",
       "      <td>1.0</td>\n",
       "      <td>16.90</td>\n",
       "      <td>2.5</td>\n",
       "      <td>0.00</td>\n",
       "    </tr>\n",
       "    <tr>\n",
       "      <th>2</th>\n",
       "      <td>2</td>\n",
       "      <td>2023-01-01 00:25:04</td>\n",
       "      <td>2023-01-01 00:37:49</td>\n",
       "      <td>1.0</td>\n",
       "      <td>2.51</td>\n",
       "      <td>1.0</td>\n",
       "      <td>N</td>\n",
       "      <td>48</td>\n",
       "      <td>238</td>\n",
       "      <td>1</td>\n",
       "      <td>14.9</td>\n",
       "      <td>1.00</td>\n",
       "      <td>0.5</td>\n",
       "      <td>15.00</td>\n",
       "      <td>0.0</td>\n",
       "      <td>1.0</td>\n",
       "      <td>34.90</td>\n",
       "      <td>2.5</td>\n",
       "      <td>0.00</td>\n",
       "    </tr>\n",
       "    <tr>\n",
       "      <th>3</th>\n",
       "      <td>1</td>\n",
       "      <td>2023-01-01 00:03:48</td>\n",
       "      <td>2023-01-01 00:13:25</td>\n",
       "      <td>0.0</td>\n",
       "      <td>1.90</td>\n",
       "      <td>1.0</td>\n",
       "      <td>N</td>\n",
       "      <td>138</td>\n",
       "      <td>7</td>\n",
       "      <td>1</td>\n",
       "      <td>12.1</td>\n",
       "      <td>7.25</td>\n",
       "      <td>0.5</td>\n",
       "      <td>0.00</td>\n",
       "      <td>0.0</td>\n",
       "      <td>1.0</td>\n",
       "      <td>20.85</td>\n",
       "      <td>0.0</td>\n",
       "      <td>1.25</td>\n",
       "    </tr>\n",
       "    <tr>\n",
       "      <th>4</th>\n",
       "      <td>2</td>\n",
       "      <td>2023-01-01 00:10:29</td>\n",
       "      <td>2023-01-01 00:21:19</td>\n",
       "      <td>1.0</td>\n",
       "      <td>1.43</td>\n",
       "      <td>1.0</td>\n",
       "      <td>N</td>\n",
       "      <td>107</td>\n",
       "      <td>79</td>\n",
       "      <td>1</td>\n",
       "      <td>11.4</td>\n",
       "      <td>1.00</td>\n",
       "      <td>0.5</td>\n",
       "      <td>3.28</td>\n",
       "      <td>0.0</td>\n",
       "      <td>1.0</td>\n",
       "      <td>19.68</td>\n",
       "      <td>2.5</td>\n",
       "      <td>0.00</td>\n",
       "    </tr>\n",
       "  </tbody>\n",
       "</table>\n",
       "</div>"
      ],
      "text/plain": [
       "   VendorID tpep_pickup_datetime tpep_dropoff_datetime  passenger_count  \\\n",
       "0         2  2023-01-01 00:32:10   2023-01-01 00:40:36              1.0   \n",
       "1         2  2023-01-01 00:55:08   2023-01-01 01:01:27              1.0   \n",
       "2         2  2023-01-01 00:25:04   2023-01-01 00:37:49              1.0   \n",
       "3         1  2023-01-01 00:03:48   2023-01-01 00:13:25              0.0   \n",
       "4         2  2023-01-01 00:10:29   2023-01-01 00:21:19              1.0   \n",
       "\n",
       "   trip_distance  RatecodeID store_and_fwd_flag  PULocationID  DOLocationID  \\\n",
       "0           0.97         1.0                  N           161           141   \n",
       "1           1.10         1.0                  N            43           237   \n",
       "2           2.51         1.0                  N            48           238   \n",
       "3           1.90         1.0                  N           138             7   \n",
       "4           1.43         1.0                  N           107            79   \n",
       "\n",
       "   payment_type  fare_amount  extra  mta_tax  tip_amount  tolls_amount  \\\n",
       "0             2          9.3   1.00      0.5        0.00           0.0   \n",
       "1             1          7.9   1.00      0.5        4.00           0.0   \n",
       "2             1         14.9   1.00      0.5       15.00           0.0   \n",
       "3             1         12.1   7.25      0.5        0.00           0.0   \n",
       "4             1         11.4   1.00      0.5        3.28           0.0   \n",
       "\n",
       "   improvement_surcharge  total_amount  congestion_surcharge  airport_fee  \n",
       "0                    1.0         14.30                   2.5         0.00  \n",
       "1                    1.0         16.90                   2.5         0.00  \n",
       "2                    1.0         34.90                   2.5         0.00  \n",
       "3                    1.0         20.85                   0.0         1.25  \n",
       "4                    1.0         19.68                   2.5         0.00  "
      ]
     },
     "execution_count": 2,
     "metadata": {},
     "output_type": "execute_result"
    }
   ],
   "source": [
    "df = pd.read_parquet(os.path.join(taxi_path, \"yellow_tripdata_2023-01.parquet\"))\n",
    "\n",
    "df.head()"
   ]
  },
  {
   "cell_type": "markdown",
   "metadata": {},
   "source": [
    "\n",
    "下面我们展示数据预处理部分。"
   ]
  },
  {
   "cell_type": "code",
   "execution_count": 12,
   "metadata": {},
   "outputs": [],
   "source": [
    "df = df.dropna(subset=['total_amount', 'RatecodeID'])\n",
    "\n",
    "# 转换数据类型\n",
    "df['tpep_pickup_datetime'] = pd.to_datetime(df['tpep_pickup_datetime'])\n",
    "df['tpep_dropoff_datetime'] = pd.to_datetime(df['tpep_dropoff_datetime'])\n",
    "\n",
    "# 计算行程时长\n",
    "df['trip_duration'] = (df['tpep_dropoff_datetime'] - df['tpep_pickup_datetime']).dt.total_seconds() / 60"
   ]
  },
  {
   "cell_type": "markdown",
   "metadata": {},
   "source": [
    "接下来我们进行数据的条件筛选并使用 `groupby()` 切分数据。"
   ]
  },
  {
   "cell_type": "code",
   "execution_count": 13,
   "metadata": {},
   "outputs": [
    {
     "name": "stdout",
     "output_type": "stream",
     "text": [
      "平均行程时长（非零乘客）:\n",
      "15.68557239550762\n",
      "按支付方式分组的总费用:\n",
      "payment_type\n",
      "1    67232359.58\n",
      "2    12062049.01\n",
      "3      165402.32\n",
      "4       79019.28\n",
      "Name: total_amount, dtype: float64\n",
      "\n",
      "按总费用降序排序的支付方式:\n",
      "payment_type\n",
      "1    67232359.58\n",
      "2    12062049.01\n",
      "3      165402.32\n",
      "4       79019.28\n",
      "Name: total_amount, dtype: float64\n",
      "\n",
      "按乘客数量分组的平均行程距离和总费用:\n",
      "                 trip_distance  total_amount\n",
      "passenger_count                             \n",
      "0.0                   2.761904     24.162124\n",
      "1.0                   3.338169     26.443472\n",
      "2.0                   3.931051     29.313282\n",
      "3.0                   3.664393     28.475420\n",
      "4.0                   3.812581     29.611602\n",
      "5.0                   3.282478     26.588261\n",
      "6.0                   3.250963     26.558484\n",
      "7.0                   4.238333     85.111667\n",
      "8.0                   4.270769     99.336923\n",
      "9.0                   0.000000     92.250000\n"
     ]
    }
   ],
   "source": [
    "# 选择含有非零乘客的行程\n",
    "non_zero_passenger_df = df[df['passenger_count'] > 0]\n",
    "average_trip_duration = non_zero_passenger_df['trip_duration'].mean()\n",
    "print(\"平均行程时长（非零乘客）:\")\n",
    "print(average_trip_duration)\n",
    "\n",
    "# 按支付方式分组，计算总费用的分布\n",
    "total_amount_by_payment = non_zero_passenger_df.groupby('payment_type')['total_amount'].sum()\n",
    "print(\"按支付方式分组的总费用:\")\n",
    "print(total_amount_by_payment)\n",
    "\n",
    "# 对支付方式分组的数据进行排序\n",
    "sorted_total_by_payment = total_amount_by_payment.sort_values(ascending=False)\n",
    "print(\"\\n按总费用降序排序的支付方式:\")\n",
    "print(sorted_total_by_payment)\n",
    "\n",
    "# 按乘客数量分组，计算平均行程距离和总费用\n",
    "avg_distance_amount_by_passenger = df.groupby('passenger_count').agg({\n",
    "    'trip_distance': 'mean',\n",
    "    'total_amount': 'mean'\n",
    "})\n",
    "print(\"\\n按乘客数量分组的平均行程距离和总费用:\")\n",
    "print(avg_distance_amount_by_passenger)"
   ]
  },
  {
   "cell_type": "markdown",
   "metadata": {},
   "source": [
    "我们再使用 `apply()` 对数据进行操作，以及使用 `pivot_table()` 创建数据透视表。"
   ]
  },
  {
   "cell_type": "code",
   "execution_count": 14,
   "metadata": {},
   "outputs": [
    {
     "name": "stdout",
     "output_type": "stream",
     "text": [
      "计算含税车费:\n",
      "   fare_amount  mta_tax  fare_with_tax\n",
      "0          9.3      0.5            9.8\n",
      "1          7.9      0.5            8.4\n",
      "2         14.9      0.5           15.4\n",
      "3         12.1      0.5           12.6\n",
      "4         11.4      0.5           11.9\n",
      "\n",
      "数据透视表（总费用按下车地点和支付方式）:\n",
      "payment_type           1           2          3          4\n",
      "DOLocationID                                              \n",
      "1             130.041868  108.956124  73.196774   1.598767\n",
      "2              58.446250   31.411538        NaN   0.000000\n",
      "3              62.407438   65.358209   1.500000  12.360000\n",
      "4              27.395179   20.115848  12.228704   2.635455\n",
      "5             103.328113  135.500000        NaN        NaN\n"
     ]
    }
   ],
   "source": [
    "# 应用函数计算含税车费\n",
    "df['fare_with_tax'] = df.apply(lambda row: row['fare_amount'] + row['mta_tax'], axis=1)\n",
    "print(\"计算含税车费:\")\n",
    "print(df[['fare_amount', 'mta_tax', 'fare_with_tax']].head())\n",
    "\n",
    "# 重塑数据创建数据透视表\n",
    "pivot_table = df.pivot_table(values='total_amount', index='DOLocationID', columns='payment_type', aggfunc='mean')\n",
    "print(\"\\n数据透视表（总费用按下车地点和支付方式）:\")\n",
    "print(pivot_table.head())"
   ]
  },
  {
   "cell_type": "markdown",
   "metadata": {},
   "source": [
    "最后我们展示可视化部分。"
   ]
  },
  {
   "cell_type": "code",
   "execution_count": 15,
   "metadata": {},
   "outputs": [
    {
     "data": {
      "image/png": "[encoded data removed]",
      "text/plain": [
       "<Figure size 1000x600 with 2 Axes>"
      ]
     },
     "metadata": {},
     "output_type": "display_data"
    }
   ],
   "source": [
    "# 绘制乘客数量分组的平均行程距离和总费用柱状图\n",
    "fig, ax1 = plt.subplots(figsize=(10, 6))\n",
    "avg_distance_amount_by_passenger['trip_distance'].plot(kind='bar', color='blue', ax=ax1, position=1, width=0.4)\n",
    "ax1.set_ylabel('Average Trip Distance (miles)', color='blue')\n",
    "ax2 = ax1.twinx()\n",
    "avg_distance_amount_by_passenger['total_amount'].plot(kind='bar', color='red', ax=ax2, position=0, width=0.4)\n",
    "ax2.set_ylabel('Average Total Amount ($)', color='red')\n",
    "plt.title('Average Trip Distance and Total Amount by Passenger Count')\n",
    "ax1.set_xlabel('Passenger Count')\n",
    "plt.grid(True)\n",
    "plt.show()"
   ]
  },
  {
   "cell_type": "code",
   "execution_count": null,
   "metadata": {},
   "outputs": [],
   "source": []
  }
 ],
 "metadata": {
  "kernelspec": {
   "display_name": "dispy",
   "language": "python",
   "name": "python3"
  },
  "language_info": {
   "codemirror_mode": {
    "name": "ipython",
    "version": 3
   },
   "file_extension": ".py",
   "mimetype": "text/x-python",
   "name": "python",
   "nbconvert_exporter": "python",
   "pygments_lexer": "ipython3",
   "version": "3.11.8"
  }
 },
 "nbformat": 4,
 "nbformat_minor": 2
}
