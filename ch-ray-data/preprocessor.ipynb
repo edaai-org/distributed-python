{
 "cells": [
  {
   "cell_type": "markdown",
   "metadata": {},
   "source": [
    "(sec-ray-data-preprocessor)=\n",
    "# Preprocessor\n",
    "\n",
    "{numref}`sec-ray-data-transform` 介绍了较为通用的 `map()` 和 `map_batches()` 函数。对于结构化的表格类数据，Ray Data 在提供了预处理器（[Preprocessor](https://docs.ray.io/en/latest/data/api/preprocessor.html)），这是一系列特征处理操作，可以更好地与机器学习模型的训练和推理结合。其使用方式与 scikit-learn 的 [sklearn.preprocessing](https://scikit-learn.org/stable/modules/classes.html#module-sklearn.preprocessing) 非常相似，熟悉 scikit-learn 用户可以快速迁移到 Ray Data 的 Preprocessor 上来。对于非结构化数据，比如图片、视频等，仍然建议使用 `map()` 或者 `map_batches()`。"
   ]
  },
  {
   "cell_type": "code",
   "execution_count": null,
   "metadata": {},
   "outputs": [],
   "source": []
  }
 ],
 "metadata": {
  "kernelspec": {
   "display_name": "dispy",
   "language": "python",
   "name": "python3"
  },
  "language_info": {
   "codemirror_mode": {
    "name": "ipython",
    "version": 3
   },
   "file_extension": ".py",
   "mimetype": "text/x-python",
   "name": "python",
   "nbconvert_exporter": "python",
   "pygments_lexer": "ipython3",
   "version": "3.11.7"
  }
 },
 "nbformat": 4,
 "nbformat_minor": 2
}
