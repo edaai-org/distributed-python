{
 "cells": [
  {
   "cell_type": "markdown",
   "id": "87461dd7",
   "metadata": {},
   "source": [
    "# Series 与 DataFrame\n",
    "\n",
    "pandas 的核心数据结构有两个： Series 和 DataFrame。"
   ]
  },
  {
   "cell_type": "code",
   "execution_count": 49,
   "id": "c3935c76",
   "metadata": {
    "execution": {
     "iopub.execute_input": "2023-09-11T14:28:40.169042Z",
     "iopub.status.busy": "2023-09-11T14:28:40.168395Z",
     "iopub.status.idle": "2023-09-11T14:28:40.636678Z",
     "shell.execute_reply": "2023-09-11T14:28:40.635621Z"
    }
   },
   "outputs": [],
   "source": [
    "import pandas as pd"
   ]
  },
  {
   "cell_type": "markdown",
   "id": "d3a4406c",
   "metadata": {},
   "source": [
    "## Series\n",
    "\n",
    "在 pandas 中，`Series` 是一种一维的带标签的 **数组状** 数据结构。\n",
    "\n",
    "\n",
    "\n",
    "```{figure} ../img/ch-pandas/Series.svg\n",
    "---\n",
    "width: 200px\n",
    "name: Series-img\n",
    "---\n",
    "Series\n",
    "```"
   ]
  },
  {
   "cell_type": "markdown",
   "metadata": {},
   "source": [
    "我们创建一个 `Series`，这个数组有 4 个数，并命名为 `my_series`。"
   ]
  },
  {
   "cell_type": "code",
   "execution_count": 50,
   "id": "9f760577",
   "metadata": {
    "execution": {
     "iopub.execute_input": "2023-09-11T14:28:40.641587Z",
     "iopub.status.busy": "2023-09-11T14:28:40.640964Z",
     "iopub.status.idle": "2023-09-11T14:28:40.646056Z",
     "shell.execute_reply": "2023-09-11T14:28:40.645276Z"
    }
   },
   "outputs": [],
   "source": [
    "s = pd.Series([1, 2, 3, 4], name = 'my_series')"
   ]
  },
  {
   "cell_type": "markdown",
   "id": "acd1d896",
   "metadata": {},
   "source": [
    "`Series` 是一个数组状数据结构，其实就是 {numref}`numpy-ndarray` 中的 `ndarray`。 数组最重要的结构是索引（Index）。Index 主要用于标记第几个位置存储什么数据。`pd.Series()` 中不指定 Index 参数时，默认从 0 开始，逐一自增，形如： 0，1，...\n",
    "\n",
    "- Series 支持计算操作。"
   ]
  },
  {
   "cell_type": "code",
   "execution_count": 51,
   "id": "94626599",
   "metadata": {
    "execution": {
     "iopub.execute_input": "2023-09-11T14:28:40.649994Z",
     "iopub.status.busy": "2023-09-11T14:28:40.649658Z",
     "iopub.status.idle": "2023-09-11T14:28:40.657337Z",
     "shell.execute_reply": "2023-09-11T14:28:40.656733Z"
    }
   },
   "outputs": [
    {
     "data": {
      "text/plain": [
       "0    100\n",
       "1    200\n",
       "2    300\n",
       "3    400\n",
       "Name: my_series, dtype: int64"
      ]
     },
     "execution_count": 51,
     "metadata": {},
     "output_type": "execute_result"
    }
   ],
   "source": [
    "s * 100"
   ]
  },
  {
   "cell_type": "markdown",
   "id": "ee28bbf0",
   "metadata": {},
   "source": [
    "- Series 支持描述性统计。比如，获得所有统计信息。"
   ]
  },
  {
   "cell_type": "code",
   "execution_count": 52,
   "id": "3ccd82a9",
   "metadata": {
    "execution": {
     "iopub.execute_input": "2023-09-11T14:28:40.702114Z",
     "iopub.status.busy": "2023-09-11T14:28:40.701773Z",
     "iopub.status.idle": "2023-09-11T14:28:40.710251Z",
     "shell.execute_reply": "2023-09-11T14:28:40.709669Z"
    }
   },
   "outputs": [
    {
     "data": {
      "text/plain": [
       "count    4.000000\n",
       "mean     2.500000\n",
       "std      1.290994\n",
       "min      1.000000\n",
       "25%      1.750000\n",
       "50%      2.500000\n",
       "75%      3.250000\n",
       "max      4.000000\n",
       "Name: my_series, dtype: float64"
      ]
     },
     "execution_count": 52,
     "metadata": {},
     "output_type": "execute_result"
    }
   ],
   "source": [
    "s.describe()"
   ]
  },
  {
   "cell_type": "markdown",
   "id": "fb61cc9f",
   "metadata": {},
   "source": [
    "计算平均值，中位数和标准差。"
   ]
  },
  {
   "cell_type": "code",
   "execution_count": 53,
   "id": "4e7d31be",
   "metadata": {
    "execution": {
     "iopub.execute_input": "2023-09-11T14:28:40.713632Z",
     "iopub.status.busy": "2023-09-11T14:28:40.713273Z",
     "iopub.status.idle": "2023-09-11T14:28:40.717942Z",
     "shell.execute_reply": "2023-09-11T14:28:40.717294Z"
    }
   },
   "outputs": [
    {
     "data": {
      "text/plain": [
       "2.5"
      ]
     },
     "execution_count": 53,
     "metadata": {},
     "output_type": "execute_result"
    }
   ],
   "source": [
    "s.mean()"
   ]
  },
  {
   "cell_type": "code",
   "execution_count": 54,
   "id": "2c7599d6",
   "metadata": {
    "execution": {
     "iopub.execute_input": "2023-09-11T14:28:40.721152Z",
     "iopub.status.busy": "2023-09-11T14:28:40.720665Z",
     "iopub.status.idle": "2023-09-11T14:28:40.725392Z",
     "shell.execute_reply": "2023-09-11T14:28:40.724837Z"
    }
   },
   "outputs": [
    {
     "data": {
      "text/plain": [
       "2.5"
      ]
     },
     "execution_count": 54,
     "metadata": {},
     "output_type": "execute_result"
    }
   ],
   "source": [
    "s.median()"
   ]
  },
  {
   "cell_type": "code",
   "execution_count": 55,
   "id": "0c3aab52",
   "metadata": {
    "execution": {
     "iopub.execute_input": "2023-09-11T14:28:40.728378Z",
     "iopub.status.busy": "2023-09-11T14:28:40.728092Z",
     "iopub.status.idle": "2023-09-11T14:28:40.733034Z",
     "shell.execute_reply": "2023-09-11T14:28:40.732123Z"
    }
   },
   "outputs": [
    {
     "data": {
      "text/plain": [
       "1.2909944487358056"
      ]
     },
     "execution_count": 55,
     "metadata": {},
     "output_type": "execute_result"
    }
   ],
   "source": [
    "s.std()"
   ]
  },
  {
   "cell_type": "markdown",
   "id": "b9aafec8",
   "metadata": {},
   "source": [
    "- Series 的索引很灵活。"
   ]
  },
  {
   "cell_type": "code",
   "execution_count": 56,
   "id": "55e7037b",
   "metadata": {
    "execution": {
     "iopub.execute_input": "2023-09-11T14:28:40.736065Z",
     "iopub.status.busy": "2023-09-11T14:28:40.735796Z",
     "iopub.status.idle": "2023-09-11T14:28:40.739169Z",
     "shell.execute_reply": "2023-09-11T14:28:40.738588Z"
    }
   },
   "outputs": [],
   "source": [
    "s.index = ['number1','number2','number3','number4']"
   ]
  },
  {
   "cell_type": "markdown",
   "id": "c3c4636d",
   "metadata": {},
   "source": [
    "这时，`Series` 就像一个 Python 中的字典 `dict`，可以使用像 `dict` 一样的语法来访问 `Series` 中的元素，其中 `index` 相当于 `dict` 的键 `key`。例如，使用 `[]` 操作符访问 `number1` 对应的值。"
   ]
  },
  {
   "cell_type": "code",
   "execution_count": 57,
   "id": "a9287533",
   "metadata": {
    "execution": {
     "iopub.execute_input": "2023-09-11T14:28:40.742534Z",
     "iopub.status.busy": "2023-09-11T14:28:40.742224Z",
     "iopub.status.idle": "2023-09-11T14:28:40.746092Z",
     "shell.execute_reply": "2023-09-11T14:28:40.745569Z"
    }
   },
   "outputs": [
    {
     "data": {
      "text/plain": [
       "1"
      ]
     },
     "execution_count": 57,
     "metadata": {},
     "output_type": "execute_result"
    }
   ],
   "source": [
    "s['number1']"
   ]
  },
  {
   "cell_type": "markdown",
   "id": "742ad9b2",
   "metadata": {},
   "source": [
    "又例如，使用 `in` 表达式判断某个索引是否在 Series 中。"
   ]
  },
  {
   "cell_type": "code",
   "execution_count": 58,
   "id": "7cd8388f",
   "metadata": {
    "execution": {
     "iopub.execute_input": "2023-09-11T14:28:40.749589Z",
     "iopub.status.busy": "2023-09-11T14:28:40.749268Z",
     "iopub.status.idle": "2023-09-11T14:28:40.753266Z",
     "shell.execute_reply": "2023-09-11T14:28:40.752741Z"
    }
   },
   "outputs": [
    {
     "data": {
      "text/plain": [
       "True"
      ]
     },
     "execution_count": 58,
     "metadata": {},
     "output_type": "execute_result"
    }
   ],
   "source": [
    "'number1' in s"
   ]
  },
  {
   "cell_type": "markdown",
   "id": "803dff93",
   "metadata": {},
   "source": [
    "## DataFrame\n",
    "\n",
    "`DataFrame` 可以简单理解为一个 Excel 表，有很多列和很多行，如 {numref}`DataFrame-img` 所示。\n",
    "`DataFrame` 的列（column）表示一个字段；`DataFrame` 的行（row）表示一条数据。`DataFrame` 常被用来分析像 Excel 这样的、有行和列的表格类数据。Excel 也正在兼容 `DataFrame`，使得用户在 Excel 中进行 pandas 数据处理与分析。\n",
    "\n",
    "```{figure} ../img/ch-pandas/DataFrame.svg\n",
    "---\n",
    "width: 400px\n",
    "name: DataFrame-img\n",
    "---\n",
    "DataFrame 示意图\n",
    "```\n",
    "\n",
    "### 创建 DataFrame\n",
    "\n",
    "创建一个 `DataFrame` 有很多方式，比如从列表、字典、文件中读取数据，并创建一个 `DataFrame`。\n",
    "\n",
    "- 基于列表创建"
   ]
  },
  {
   "cell_type": "code",
   "execution_count": 59,
   "id": "29fda5e0",
   "metadata": {
    "execution": {
     "iopub.execute_input": "2023-09-11T14:28:40.756339Z",
     "iopub.status.busy": "2023-09-11T14:28:40.756048Z",
     "iopub.status.idle": "2023-09-11T14:28:40.760223Z",
     "shell.execute_reply": "2023-09-11T14:28:40.759646Z"
    }
   },
   "outputs": [],
   "source": [
    "names = ['Alice', 'Bob', 'Charlie']\n",
    "ages = [25, 30, 22]\n",
    "cities = ['New York', 'San Francisco', 'Los Angeles']\n",
    "data = {'Name': names, 'Age': ages, 'City': cities}\n",
    "df = pd.DataFrame(data)"
   ]
  },
  {
   "cell_type": "markdown",
   "id": "44c4ceb3",
   "metadata": {},
   "source": [
    "- 基于字典创建"
   ]
  },
  {
   "cell_type": "code",
   "execution_count": 60,
   "id": "12cbb41a",
   "metadata": {
    "execution": {
     "iopub.execute_input": "2023-09-11T14:28:40.763170Z",
     "iopub.status.busy": "2023-09-11T14:28:40.762893Z",
     "iopub.status.idle": "2023-09-11T14:28:40.766599Z",
     "shell.execute_reply": "2023-09-11T14:28:40.765960Z"
    }
   },
   "outputs": [],
   "source": [
    "data = {'Column1': [1, 2], 'Column2': [3, 4]}\n",
    "df = pd.DataFrame(data)"
   ]
  },
  {
   "cell_type": "markdown",
   "id": "3bcbc0ac",
   "metadata": {},
   "source": [
    "- 基于文件创建\n",
    "\n",
    "如 {numref}`file-img` 所示，pandas 可以读取不同类型的文件，进行处理，最后持久化地写入不同类型的文件中。\n",
    "\n",
    "```{figure} ../img/ch-pandas/file.svg\n",
    "---\n",
    "width: 600px\n",
    "name: file-img\n",
    "---\n",
    "文件读取/写入\n",
    "```\n"
   ]
  },
  {
   "cell_type": "markdown",
   "metadata": {},
   "source": [
    "对于不同类型的文件，使用不同的函数，比如 `read_csv` 读取 csv 类型的数据。`df = pd.read_csv('/path/file.csv')` 用来读取一个 csv 文件，`df =  pd.read_excel('/path/file.xlsx')` 用来读取一个 Excel 文件。\n",
    "\n",
    "```{note}\n",
    "注：csv 文件一般由很多个 column 组成，使用 pd.read_csv 时，默认每个 column 之间的分隔符为逗号（,），pd.read_table 默认分隔符为换行符。这些函数还支持许多其他参数，可以使用 help() 函数查看。\n",
    "\n",
    "同样地，我们最终也可以将处理过的 DataFrame 写入文件即以文件的格式输出，例：df.to_excel('/path/file.xlsx')则输出为excel文件。\n",
    "```\n",
    "\n"
   ]
  },
  {
   "cell_type": "markdown",
   "metadata": {},
   "source": [
    "### 计算统计量\n",
    "前面我们讲过对 `Series` 对象我们可以计算统计量，而 `DataFrame` 是由一列列 `Series` 对象构成的，自然也可以做相应的计算。\n",
    "\n",
    "- 对某一列计算相应统计量，本质上还是对 `Series` 对象做统计量计算，如 {numref}`s1-img`。\n",
    "\n",
    "```{figure} ../img/ch-pandas/s1.svg\n",
    "---\n",
    "width: 600px\n",
    "name: s1-img\n",
    "---\n",
    "对 Dataframe 一列对象做统计量\n",
    "```\n"
   ]
  },
  {
   "cell_type": "markdown",
   "metadata": {},
   "source": [
    "\n",
    "例：对 `df` 的第一列求平均值。（`DataFrame` 对象的切片操作后续会详细讲解。）"
   ]
  },
  {
   "cell_type": "code",
   "execution_count": 61,
   "metadata": {},
   "outputs": [
    {
     "name": "stdout",
     "output_type": "stream",
     "text": [
      "------- df is -------\n",
      "   Column1  Column2\n",
      "0        1        3\n",
      "1        2        4\n",
      "------- Column1.mean() -------\n",
      "\n",
      "Column1    1.5\n",
      "dtype: float64\n"
     ]
    }
   ],
   "source": [
    "print(\"------- df is -------\\n{}\".format(df))\n",
    "print(\"------- Column1.mean() -------\\n\")\n",
    "print(df[['Column1']].mean())"
   ]
  },
  {
   "cell_type": "markdown",
   "metadata": {},
   "source": [
    "- 对某几列计算相应统计量。\n",
    "\n",
    "```{figure} ../img/ch-pandas/s2.svg\n",
    "---\n",
    "width: 600px\n",
    "name: s2-img\n",
    "---\n",
    "对 Dataframe 几列对象做统计量\n",
    "```\n",
    "\n",
    "例：对 `df` 的第一列和第二列进行描述性统计。\n",
    "\n",
    "> 由于这里的 `df` 只有两列，也可以直接对整个 `DataFrame` 对象操作，即等价于 `df.describe()`\n"
   ]
  },
  {
   "cell_type": "code",
   "execution_count": 62,
   "metadata": {},
   "outputs": [
    {
     "data": {
      "text/html": [
       "<div>\n",
       "<style scoped>\n",
       "    .dataframe tbody tr th:only-of-type {\n",
       "        vertical-align: middle;\n",
       "    }\n",
       "\n",
       "    .dataframe tbody tr th {\n",
       "        vertical-align: top;\n",
       "    }\n",
       "\n",
       "    .dataframe thead th {\n",
       "        text-align: right;\n",
       "    }\n",
       "</style>\n",
       "<table border=\"1\" class=\"dataframe\">\n",
       "  <thead>\n",
       "    <tr style=\"text-align: right;\">\n",
       "      <th></th>\n",
       "      <th>Column1</th>\n",
       "      <th>Column2</th>\n",
       "    </tr>\n",
       "  </thead>\n",
       "  <tbody>\n",
       "    <tr>\n",
       "      <th>count</th>\n",
       "      <td>2.000000</td>\n",
       "      <td>2.000000</td>\n",
       "    </tr>\n",
       "    <tr>\n",
       "      <th>mean</th>\n",
       "      <td>1.500000</td>\n",
       "      <td>3.500000</td>\n",
       "    </tr>\n",
       "    <tr>\n",
       "      <th>std</th>\n",
       "      <td>0.707107</td>\n",
       "      <td>0.707107</td>\n",
       "    </tr>\n",
       "    <tr>\n",
       "      <th>min</th>\n",
       "      <td>1.000000</td>\n",
       "      <td>3.000000</td>\n",
       "    </tr>\n",
       "    <tr>\n",
       "      <th>25%</th>\n",
       "      <td>1.250000</td>\n",
       "      <td>3.250000</td>\n",
       "    </tr>\n",
       "    <tr>\n",
       "      <th>50%</th>\n",
       "      <td>1.500000</td>\n",
       "      <td>3.500000</td>\n",
       "    </tr>\n",
       "    <tr>\n",
       "      <th>75%</th>\n",
       "      <td>1.750000</td>\n",
       "      <td>3.750000</td>\n",
       "    </tr>\n",
       "    <tr>\n",
       "      <th>max</th>\n",
       "      <td>2.000000</td>\n",
       "      <td>4.000000</td>\n",
       "    </tr>\n",
       "  </tbody>\n",
       "</table>\n",
       "</div>"
      ],
      "text/plain": [
       "        Column1   Column2\n",
       "count  2.000000  2.000000\n",
       "mean   1.500000  3.500000\n",
       "std    0.707107  0.707107\n",
       "min    1.000000  3.000000\n",
       "25%    1.250000  3.250000\n",
       "50%    1.500000  3.500000\n",
       "75%    1.750000  3.750000\n",
       "max    2.000000  4.000000"
      ]
     },
     "execution_count": 62,
     "metadata": {},
     "output_type": "execute_result"
    }
   ],
   "source": [
    "df[['Column1','Column2']].describe()"
   ]
  },
  {
   "cell_type": "markdown",
   "metadata": {},
   "source": [
    "- 使用 `DataFrame.agg()` 方法计算特定的统计量组合。\n",
    "\n",
    "有时候我们对一列需要指定的一些统计量，对不同列又有不同的需求，则可以使用 `DataFrame.agg()` 方法，传入字典参数，`key` 为列名，`value` 为需要的统计量的列表。\n",
    "\n",
    "例：对 `df` 的第一列获得最小值 / 最大值 / 中位数 / 偏度，对第二列获得最小值 / 最大值 / 中位数 / 均值。"
   ]
  },
  {
   "cell_type": "code",
   "execution_count": 63,
   "metadata": {},
   "outputs": [
    {
     "data": {
      "text/html": [
       "<div>\n",
       "<style scoped>\n",
       "    .dataframe tbody tr th:only-of-type {\n",
       "        vertical-align: middle;\n",
       "    }\n",
       "\n",
       "    .dataframe tbody tr th {\n",
       "        vertical-align: top;\n",
       "    }\n",
       "\n",
       "    .dataframe thead th {\n",
       "        text-align: right;\n",
       "    }\n",
       "</style>\n",
       "<table border=\"1\" class=\"dataframe\">\n",
       "  <thead>\n",
       "    <tr style=\"text-align: right;\">\n",
       "      <th></th>\n",
       "      <th>Column1</th>\n",
       "      <th>Column2</th>\n",
       "    </tr>\n",
       "  </thead>\n",
       "  <tbody>\n",
       "    <tr>\n",
       "      <th>min</th>\n",
       "      <td>1.0</td>\n",
       "      <td>3.0</td>\n",
       "    </tr>\n",
       "    <tr>\n",
       "      <th>max</th>\n",
       "      <td>2.0</td>\n",
       "      <td>4.0</td>\n",
       "    </tr>\n",
       "    <tr>\n",
       "      <th>median</th>\n",
       "      <td>1.5</td>\n",
       "      <td>3.5</td>\n",
       "    </tr>\n",
       "    <tr>\n",
       "      <th>skew</th>\n",
       "      <td>NaN</td>\n",
       "      <td>NaN</td>\n",
       "    </tr>\n",
       "    <tr>\n",
       "      <th>mean</th>\n",
       "      <td>NaN</td>\n",
       "      <td>3.5</td>\n",
       "    </tr>\n",
       "  </tbody>\n",
       "</table>\n",
       "</div>"
      ],
      "text/plain": [
       "        Column1  Column2\n",
       "min         1.0      3.0\n",
       "max         2.0      4.0\n",
       "median      1.5      3.5\n",
       "skew        NaN      NaN\n",
       "mean        NaN      3.5"
      ]
     },
     "execution_count": 63,
     "metadata": {},
     "output_type": "execute_result"
    }
   ],
   "source": [
    "df.agg({\n",
    "    'Column1':['min','max','median','skew'],\n",
    "    'Column2':['min','max','median','mean']   \n",
    "})"
   ]
  },
  {
   "cell_type": "markdown",
   "metadata": {},
   "source": [
    "## 案例：PWT\n",
    "\n",
    "[PWT](https://www.rug.nl/ggdc/productivity/pwt/) 是一个经济学数据库，用于比较国家和地区之间的宏观经济数据，该数据集包含了各种宏观经济指标，如国内生产总值（GDP）、人均收入、劳动力和资本等因素，以及价格水平、汇率等信息。我们先下载，并使用 pandas 简单探索该数据集。"
   ]
  },
  {
   "cell_type": "code",
   "execution_count": 64,
   "id": "ec624d37",
   "metadata": {
    "execution": {
     "iopub.execute_input": "2023-09-11T14:28:40.769975Z",
     "iopub.status.busy": "2023-09-11T14:28:40.769708Z",
     "iopub.status.idle": "2023-09-11T14:28:40.775507Z",
     "shell.execute_reply": "2023-09-11T14:28:40.774814Z"
    },
    "tags": [
     "hide-cell"
    ]
   },
   "outputs": [
    {
     "name": "stdout",
     "output_type": "stream",
     "text": [
      "文件夹已存在，无需操作。\n"
     ]
    }
   ],
   "source": [
    "import os\n",
    "import urllib.request\n",
    "import zipfile\n",
    "\n",
    "folder_path = os.path.join(os.getcwd(), \"../data/pwt\")\n",
    "download_url = \"https://www.rug.nl/ggdc/docs/pwt70_06032011version.zip\"\n",
    "file_name = download_url.split(\"/\")[-1]\n",
    "if not os.path.exists(folder_path):\n",
    "    # 创建文件夹\n",
    "    os.makedirs(folder_path)\n",
    "    print(f\"文件夹不存在，已创建。\")\n",
    "\n",
    "    zip_file_path = os.path.join(folder_path, file_name)\n",
    "\n",
    "    urllib.request.urlretrieve(download_url, zip_file_path)\n",
    "    with zipfile.ZipFile(zip_file_path, 'r') as zip_ref:\n",
    "        zip_ref.extractall(folder_path)\n",
    "    print(\"数据已下载并解压缩。\")\n",
    "else:\n",
    "    print(f\"文件夹已存在，无需操作。\")"
   ]
  },
  {
   "cell_type": "markdown",
   "id": "95000970",
   "metadata": {},
   "source": [
    "### 查看数据\n",
    "\n",
    "- 使用 `read_csv()` 读取数据。"
   ]
  },
  {
   "cell_type": "code",
   "execution_count": 65,
   "id": "c052691d",
   "metadata": {
    "execution": {
     "iopub.execute_input": "2023-09-11T14:28:40.778644Z",
     "iopub.status.busy": "2023-09-11T14:28:40.778391Z",
     "iopub.status.idle": "2023-09-11T14:28:40.843164Z",
     "shell.execute_reply": "2023-09-11T14:28:40.842425Z"
    }
   },
   "outputs": [],
   "source": [
    "import pandas as pd\n",
    "\n",
    "df = pd.read_csv(os.path.join(folder_path, \"pwt70_w_country_names.csv\"))"
   ]
  },
  {
   "cell_type": "markdown",
   "id": "02bb3eac",
   "metadata": {},
   "source": [
    "- `head()` 函数可以指定查看前 n 行。"
   ]
  },
  {
   "cell_type": "code",
   "execution_count": 66,
   "id": "23a5ed20",
   "metadata": {
    "execution": {
     "iopub.execute_input": "2023-09-11T14:28:40.847188Z",
     "iopub.status.busy": "2023-09-11T14:28:40.846889Z",
     "iopub.status.idle": "2023-09-11T14:28:40.864154Z",
     "shell.execute_reply": "2023-09-11T14:28:40.863498Z"
    }
   },
   "outputs": [
    {
     "data": {
      "text/html": [
       "<div>\n",
       "<style scoped>\n",
       "    .dataframe tbody tr th:only-of-type {\n",
       "        vertical-align: middle;\n",
       "    }\n",
       "\n",
       "    .dataframe tbody tr th {\n",
       "        vertical-align: top;\n",
       "    }\n",
       "\n",
       "    .dataframe thead th {\n",
       "        text-align: right;\n",
       "    }\n",
       "</style>\n",
       "<table border=\"1\" class=\"dataframe\">\n",
       "  <thead>\n",
       "    <tr style=\"text-align: right;\">\n",
       "      <th></th>\n",
       "      <th>country</th>\n",
       "      <th>isocode</th>\n",
       "      <th>year</th>\n",
       "      <th>POP</th>\n",
       "      <th>XRAT</th>\n",
       "      <th>Currency_Unit</th>\n",
       "      <th>ppp</th>\n",
       "      <th>tcgdp</th>\n",
       "      <th>cgdp</th>\n",
       "      <th>cgdp2</th>\n",
       "      <th>...</th>\n",
       "      <th>kg</th>\n",
       "      <th>ki</th>\n",
       "      <th>openk</th>\n",
       "      <th>rgdpeqa</th>\n",
       "      <th>rgdpwok</th>\n",
       "      <th>rgdpl2wok</th>\n",
       "      <th>rgdpl2pe</th>\n",
       "      <th>rgdpl2te</th>\n",
       "      <th>rgdpl2th</th>\n",
       "      <th>rgdptt</th>\n",
       "    </tr>\n",
       "  </thead>\n",
       "  <tbody>\n",
       "    <tr>\n",
       "      <th>0</th>\n",
       "      <td>Afghanistan</td>\n",
       "      <td>AFG</td>\n",
       "      <td>1950</td>\n",
       "      <td>8150.368</td>\n",
       "      <td>NaN</td>\n",
       "      <td>NaN</td>\n",
       "      <td>NaN</td>\n",
       "      <td>NaN</td>\n",
       "      <td>NaN</td>\n",
       "      <td>NaN</td>\n",
       "      <td>...</td>\n",
       "      <td>NaN</td>\n",
       "      <td>NaN</td>\n",
       "      <td>NaN</td>\n",
       "      <td>NaN</td>\n",
       "      <td>NaN</td>\n",
       "      <td>NaN</td>\n",
       "      <td>NaN</td>\n",
       "      <td>NaN</td>\n",
       "      <td>NaN</td>\n",
       "      <td>NaN</td>\n",
       "    </tr>\n",
       "    <tr>\n",
       "      <th>1</th>\n",
       "      <td>Afghanistan</td>\n",
       "      <td>AFG</td>\n",
       "      <td>1951</td>\n",
       "      <td>8284.473</td>\n",
       "      <td>NaN</td>\n",
       "      <td>NaN</td>\n",
       "      <td>NaN</td>\n",
       "      <td>NaN</td>\n",
       "      <td>NaN</td>\n",
       "      <td>NaN</td>\n",
       "      <td>...</td>\n",
       "      <td>NaN</td>\n",
       "      <td>NaN</td>\n",
       "      <td>NaN</td>\n",
       "      <td>NaN</td>\n",
       "      <td>NaN</td>\n",
       "      <td>NaN</td>\n",
       "      <td>NaN</td>\n",
       "      <td>NaN</td>\n",
       "      <td>NaN</td>\n",
       "      <td>NaN</td>\n",
       "    </tr>\n",
       "    <tr>\n",
       "      <th>2</th>\n",
       "      <td>Afghanistan</td>\n",
       "      <td>AFG</td>\n",
       "      <td>1952</td>\n",
       "      <td>8425.333</td>\n",
       "      <td>NaN</td>\n",
       "      <td>NaN</td>\n",
       "      <td>NaN</td>\n",
       "      <td>NaN</td>\n",
       "      <td>NaN</td>\n",
       "      <td>NaN</td>\n",
       "      <td>...</td>\n",
       "      <td>NaN</td>\n",
       "      <td>NaN</td>\n",
       "      <td>NaN</td>\n",
       "      <td>NaN</td>\n",
       "      <td>NaN</td>\n",
       "      <td>NaN</td>\n",
       "      <td>NaN</td>\n",
       "      <td>NaN</td>\n",
       "      <td>NaN</td>\n",
       "      <td>NaN</td>\n",
       "    </tr>\n",
       "    <tr>\n",
       "      <th>3</th>\n",
       "      <td>Afghanistan</td>\n",
       "      <td>AFG</td>\n",
       "      <td>1953</td>\n",
       "      <td>8573.217</td>\n",
       "      <td>NaN</td>\n",
       "      <td>NaN</td>\n",
       "      <td>NaN</td>\n",
       "      <td>NaN</td>\n",
       "      <td>NaN</td>\n",
       "      <td>NaN</td>\n",
       "      <td>...</td>\n",
       "      <td>NaN</td>\n",
       "      <td>NaN</td>\n",
       "      <td>NaN</td>\n",
       "      <td>NaN</td>\n",
       "      <td>NaN</td>\n",
       "      <td>NaN</td>\n",
       "      <td>NaN</td>\n",
       "      <td>NaN</td>\n",
       "      <td>NaN</td>\n",
       "      <td>NaN</td>\n",
       "    </tr>\n",
       "    <tr>\n",
       "      <th>4</th>\n",
       "      <td>Afghanistan</td>\n",
       "      <td>AFG</td>\n",
       "      <td>1954</td>\n",
       "      <td>8728.408</td>\n",
       "      <td>NaN</td>\n",
       "      <td>NaN</td>\n",
       "      <td>NaN</td>\n",
       "      <td>NaN</td>\n",
       "      <td>NaN</td>\n",
       "      <td>NaN</td>\n",
       "      <td>...</td>\n",
       "      <td>NaN</td>\n",
       "      <td>NaN</td>\n",
       "      <td>NaN</td>\n",
       "      <td>NaN</td>\n",
       "      <td>NaN</td>\n",
       "      <td>NaN</td>\n",
       "      <td>NaN</td>\n",
       "      <td>NaN</td>\n",
       "      <td>NaN</td>\n",
       "      <td>NaN</td>\n",
       "    </tr>\n",
       "  </tbody>\n",
       "</table>\n",
       "<p>5 rows × 37 columns</p>\n",
       "</div>"
      ],
      "text/plain": [
       "       country isocode  year       POP  XRAT Currency_Unit  ppp  tcgdp  cgdp  \\\n",
       "0  Afghanistan     AFG  1950  8150.368   NaN           NaN  NaN    NaN   NaN   \n",
       "1  Afghanistan     AFG  1951  8284.473   NaN           NaN  NaN    NaN   NaN   \n",
       "2  Afghanistan     AFG  1952  8425.333   NaN           NaN  NaN    NaN   NaN   \n",
       "3  Afghanistan     AFG  1953  8573.217   NaN           NaN  NaN    NaN   NaN   \n",
       "4  Afghanistan     AFG  1954  8728.408   NaN           NaN  NaN    NaN   NaN   \n",
       "\n",
       "   cgdp2  ...  kg  ki  openk  rgdpeqa  rgdpwok  rgdpl2wok  rgdpl2pe  rgdpl2te  \\\n",
       "0    NaN  ... NaN NaN    NaN      NaN      NaN        NaN       NaN       NaN   \n",
       "1    NaN  ... NaN NaN    NaN      NaN      NaN        NaN       NaN       NaN   \n",
       "2    NaN  ... NaN NaN    NaN      NaN      NaN        NaN       NaN       NaN   \n",
       "3    NaN  ... NaN NaN    NaN      NaN      NaN        NaN       NaN       NaN   \n",
       "4    NaN  ... NaN NaN    NaN      NaN      NaN        NaN       NaN       NaN   \n",
       "\n",
       "   rgdpl2th  rgdptt  \n",
       "0       NaN     NaN  \n",
       "1       NaN     NaN  \n",
       "2       NaN     NaN  \n",
       "3       NaN     NaN  \n",
       "4       NaN     NaN  \n",
       "\n",
       "[5 rows x 37 columns]"
      ]
     },
     "execution_count": 66,
     "metadata": {},
     "output_type": "execute_result"
    }
   ],
   "source": [
    "n = 5\n",
    "df.head(n)"
   ]
  },
  {
   "cell_type": "markdown",
   "id": "e23f066a",
   "metadata": {},
   "source": [
    "- `tail()` 函数指定查看后 n 行。"
   ]
  },
  {
   "cell_type": "code",
   "execution_count": 67,
   "id": "f84177de",
   "metadata": {
    "execution": {
     "iopub.execute_input": "2023-09-11T14:28:40.867546Z",
     "iopub.status.busy": "2023-09-11T14:28:40.867222Z",
     "iopub.status.idle": "2023-09-11T14:28:40.882612Z",
     "shell.execute_reply": "2023-09-11T14:28:40.881929Z"
    }
   },
   "outputs": [
    {
     "data": {
      "text/html": [
       "<div>\n",
       "<style scoped>\n",
       "    .dataframe tbody tr th:only-of-type {\n",
       "        vertical-align: middle;\n",
       "    }\n",
       "\n",
       "    .dataframe tbody tr th {\n",
       "        vertical-align: top;\n",
       "    }\n",
       "\n",
       "    .dataframe thead th {\n",
       "        text-align: right;\n",
       "    }\n",
       "</style>\n",
       "<table border=\"1\" class=\"dataframe\">\n",
       "  <thead>\n",
       "    <tr style=\"text-align: right;\">\n",
       "      <th></th>\n",
       "      <th>country</th>\n",
       "      <th>isocode</th>\n",
       "      <th>year</th>\n",
       "      <th>POP</th>\n",
       "      <th>XRAT</th>\n",
       "      <th>Currency_Unit</th>\n",
       "      <th>ppp</th>\n",
       "      <th>tcgdp</th>\n",
       "      <th>cgdp</th>\n",
       "      <th>cgdp2</th>\n",
       "      <th>...</th>\n",
       "      <th>kg</th>\n",
       "      <th>ki</th>\n",
       "      <th>openk</th>\n",
       "      <th>rgdpeqa</th>\n",
       "      <th>rgdpwok</th>\n",
       "      <th>rgdpl2wok</th>\n",
       "      <th>rgdpl2pe</th>\n",
       "      <th>rgdpl2te</th>\n",
       "      <th>rgdpl2th</th>\n",
       "      <th>rgdptt</th>\n",
       "    </tr>\n",
       "  </thead>\n",
       "  <tbody>\n",
       "    <tr>\n",
       "      <th>11395</th>\n",
       "      <td>Zimbabwe</td>\n",
       "      <td>ZWE</td>\n",
       "      <td>2005</td>\n",
       "      <td>11639.470</td>\n",
       "      <td>2.236364e+01</td>\n",
       "      <td>Zimbabwe Dollar</td>\n",
       "      <td>39.482829</td>\n",
       "      <td>1968.205961</td>\n",
       "      <td>169.097559</td>\n",
       "      <td>184.183929</td>\n",
       "      <td>...</td>\n",
       "      <td>6.995770</td>\n",
       "      <td>9.376272</td>\n",
       "      <td>89.399427</td>\n",
       "      <td>214.739197</td>\n",
       "      <td>418.970867</td>\n",
       "      <td>418.970867</td>\n",
       "      <td>NaN</td>\n",
       "      <td>390.907086</td>\n",
       "      <td>NaN</td>\n",
       "      <td>169.097559</td>\n",
       "    </tr>\n",
       "    <tr>\n",
       "      <th>11396</th>\n",
       "      <td>Zimbabwe</td>\n",
       "      <td>ZWE</td>\n",
       "      <td>2006</td>\n",
       "      <td>11544.326</td>\n",
       "      <td>1.643606e+02</td>\n",
       "      <td>Zimbabwe Dollar</td>\n",
       "      <td>384.899651</td>\n",
       "      <td>2132.305773</td>\n",
       "      <td>184.705956</td>\n",
       "      <td>192.953943</td>\n",
       "      <td>...</td>\n",
       "      <td>7.648020</td>\n",
       "      <td>14.986823</td>\n",
       "      <td>81.697014</td>\n",
       "      <td>217.543648</td>\n",
       "      <td>424.754259</td>\n",
       "      <td>407.262097</td>\n",
       "      <td>NaN</td>\n",
       "      <td>377.352394</td>\n",
       "      <td>NaN</td>\n",
       "      <td>179.368685</td>\n",
       "    </tr>\n",
       "    <tr>\n",
       "      <th>11397</th>\n",
       "      <td>Zimbabwe</td>\n",
       "      <td>ZWE</td>\n",
       "      <td>2007</td>\n",
       "      <td>11443.187</td>\n",
       "      <td>9.675781e+03</td>\n",
       "      <td>Zimbabwe Dollar</td>\n",
       "      <td>38583.323960</td>\n",
       "      <td>2107.937100</td>\n",
       "      <td>184.208918</td>\n",
       "      <td>198.215361</td>\n",
       "      <td>...</td>\n",
       "      <td>8.387106</td>\n",
       "      <td>15.787322</td>\n",
       "      <td>84.483374</td>\n",
       "      <td>202.707080</td>\n",
       "      <td>396.486201</td>\n",
       "      <td>376.163064</td>\n",
       "      <td>NaN</td>\n",
       "      <td>345.764991</td>\n",
       "      <td>NaN</td>\n",
       "      <td>173.113448</td>\n",
       "    </tr>\n",
       "    <tr>\n",
       "      <th>11398</th>\n",
       "      <td>Zimbabwe</td>\n",
       "      <td>ZWE</td>\n",
       "      <td>2008</td>\n",
       "      <td>11350.000</td>\n",
       "      <td>6.715424e+09</td>\n",
       "      <td>Zimbabwe Dollar</td>\n",
       "      <td>38723.957740</td>\n",
       "      <td>1772.209867</td>\n",
       "      <td>156.141839</td>\n",
       "      <td>162.112294</td>\n",
       "      <td>...</td>\n",
       "      <td>7.685312</td>\n",
       "      <td>13.444449</td>\n",
       "      <td>85.117130</td>\n",
       "      <td>174.178806</td>\n",
       "      <td>343.159758</td>\n",
       "      <td>332.649861</td>\n",
       "      <td>NaN</td>\n",
       "      <td>302.945712</td>\n",
       "      <td>NaN</td>\n",
       "      <td>142.329054</td>\n",
       "    </tr>\n",
       "    <tr>\n",
       "      <th>11399</th>\n",
       "      <td>Zimbabwe</td>\n",
       "      <td>ZWE</td>\n",
       "      <td>2009</td>\n",
       "      <td>11383.000</td>\n",
       "      <td>1.400000e+17</td>\n",
       "      <td>Zimbabwe Dollar</td>\n",
       "      <td>40289.958990</td>\n",
       "      <td>1906.049843</td>\n",
       "      <td>167.447056</td>\n",
       "      <td>174.419700</td>\n",
       "      <td>...</td>\n",
       "      <td>7.905525</td>\n",
       "      <td>14.743667</td>\n",
       "      <td>83.749534</td>\n",
       "      <td>182.613004</td>\n",
       "      <td>NaN</td>\n",
       "      <td>NaN</td>\n",
       "      <td>NaN</td>\n",
       "      <td>314.171069</td>\n",
       "      <td>NaN</td>\n",
       "      <td>151.435285</td>\n",
       "    </tr>\n",
       "  </tbody>\n",
       "</table>\n",
       "<p>5 rows × 37 columns</p>\n",
       "</div>"
      ],
      "text/plain": [
       "        country isocode  year        POP          XRAT    Currency_Unit  \\\n",
       "11395  Zimbabwe     ZWE  2005  11639.470  2.236364e+01  Zimbabwe Dollar   \n",
       "11396  Zimbabwe     ZWE  2006  11544.326  1.643606e+02  Zimbabwe Dollar   \n",
       "11397  Zimbabwe     ZWE  2007  11443.187  9.675781e+03  Zimbabwe Dollar   \n",
       "11398  Zimbabwe     ZWE  2008  11350.000  6.715424e+09  Zimbabwe Dollar   \n",
       "11399  Zimbabwe     ZWE  2009  11383.000  1.400000e+17  Zimbabwe Dollar   \n",
       "\n",
       "                ppp        tcgdp        cgdp       cgdp2  ...        kg  \\\n",
       "11395     39.482829  1968.205961  169.097559  184.183929  ...  6.995770   \n",
       "11396    384.899651  2132.305773  184.705956  192.953943  ...  7.648020   \n",
       "11397  38583.323960  2107.937100  184.208918  198.215361  ...  8.387106   \n",
       "11398  38723.957740  1772.209867  156.141839  162.112294  ...  7.685312   \n",
       "11399  40289.958990  1906.049843  167.447056  174.419700  ...  7.905525   \n",
       "\n",
       "              ki      openk     rgdpeqa     rgdpwok   rgdpl2wok  rgdpl2pe  \\\n",
       "11395   9.376272  89.399427  214.739197  418.970867  418.970867       NaN   \n",
       "11396  14.986823  81.697014  217.543648  424.754259  407.262097       NaN   \n",
       "11397  15.787322  84.483374  202.707080  396.486201  376.163064       NaN   \n",
       "11398  13.444449  85.117130  174.178806  343.159758  332.649861       NaN   \n",
       "11399  14.743667  83.749534  182.613004         NaN         NaN       NaN   \n",
       "\n",
       "         rgdpl2te  rgdpl2th      rgdptt  \n",
       "11395  390.907086       NaN  169.097559  \n",
       "11396  377.352394       NaN  179.368685  \n",
       "11397  345.764991       NaN  173.113448  \n",
       "11398  302.945712       NaN  142.329054  \n",
       "11399  314.171069       NaN  151.435285  \n",
       "\n",
       "[5 rows x 37 columns]"
      ]
     },
     "execution_count": 67,
     "metadata": {},
     "output_type": "execute_result"
    }
   ],
   "source": [
    "df.tail(n)"
   ]
  },
  {
   "cell_type": "markdown",
   "id": "7fc4d38e",
   "metadata": {},
   "source": [
    "- `info()` 函数可以查看数据基本信息，包括字段类型和非空值计数。"
   ]
  },
  {
   "cell_type": "code",
   "execution_count": 68,
   "id": "5f0544f4",
   "metadata": {
    "execution": {
     "iopub.execute_input": "2023-09-11T14:28:40.885898Z",
     "iopub.status.busy": "2023-09-11T14:28:40.885620Z",
     "iopub.status.idle": "2023-09-11T14:28:40.902725Z",
     "shell.execute_reply": "2023-09-11T14:28:40.901977Z"
    }
   },
   "outputs": [
    {
     "name": "stdout",
     "output_type": "stream",
     "text": [
      "<class 'pandas.core.frame.DataFrame'>\n",
      "RangeIndex: 11400 entries, 0 to 11399\n",
      "Data columns (total 37 columns):\n",
      " #   Column         Non-Null Count  Dtype  \n",
      "---  ------         --------------  -----  \n",
      " 0   country        11400 non-null  object \n",
      " 1   isocode        11400 non-null  object \n",
      " 2   year           11400 non-null  int64  \n",
      " 3   POP            11398 non-null  float64\n",
      " 4   XRAT           10163 non-null  float64\n",
      " 5   Currency_Unit  10163 non-null  object \n",
      " 6   ppp            8745 non-null   float64\n",
      " 7   tcgdp          8745 non-null   float64\n",
      " 8   cgdp           8745 non-null   float64\n",
      " 9   cgdp2          8745 non-null   float64\n",
      " 10  cda2           8745 non-null   float64\n",
      " 11  cc             8745 non-null   float64\n",
      " 12  cg             8745 non-null   float64\n",
      " 13  ci             8745 non-null   float64\n",
      " 14  p              8745 non-null   float64\n",
      " 15  p2             8745 non-null   float64\n",
      " 16  pc             8745 non-null   float64\n",
      " 17  pg             8745 non-null   float64\n",
      " 18  pi             8745 non-null   float64\n",
      " 19  openc          8745 non-null   float64\n",
      " 20  cgnp           8305 non-null   float64\n",
      " 21  y              8745 non-null   float64\n",
      " 22  y2             8745 non-null   float64\n",
      " 23  rgdpl          8725 non-null   float64\n",
      " 24  rgdpl2         8725 non-null   float64\n",
      " 25  rgdpch         8725 non-null   float64\n",
      " 26  kc             8725 non-null   float64\n",
      " 27  kg             8725 non-null   float64\n",
      " 28  ki             8725 non-null   float64\n",
      " 29  openk          8725 non-null   float64\n",
      " 30  rgdpeqa        8555 non-null   float64\n",
      " 31  rgdpwok        8177 non-null   float64\n",
      " 32  rgdpl2wok      8177 non-null   float64\n",
      " 33  rgdpl2pe       845 non-null    float64\n",
      " 34  rgdpl2te       5399 non-null   float64\n",
      " 35  rgdpl2th       2274 non-null   float64\n",
      " 36  rgdptt         8745 non-null   float64\n",
      "dtypes: float64(33), int64(1), object(3)\n",
      "memory usage: 3.2+ MB\n"
     ]
    }
   ],
   "source": [
    "df.info()"
   ]
  },
  {
   "cell_type": "markdown",
   "id": "6da6d798",
   "metadata": {},
   "source": [
    "- `dtypes` 查看各变量数据类型。"
   ]
  },
  {
   "cell_type": "code",
   "execution_count": 69,
   "id": "821c9174",
   "metadata": {
    "execution": {
     "iopub.execute_input": "2023-09-11T14:28:40.906608Z",
     "iopub.status.busy": "2023-09-11T14:28:40.906159Z",
     "iopub.status.idle": "2023-09-11T14:28:40.912041Z",
     "shell.execute_reply": "2023-09-11T14:28:40.911460Z"
    }
   },
   "outputs": [
    {
     "data": {
      "text/plain": [
       "country           object\n",
       "isocode           object\n",
       "year               int64\n",
       "POP              float64\n",
       "XRAT             float64\n",
       "Currency_Unit     object\n",
       "ppp              float64\n",
       "tcgdp            float64\n",
       "cgdp             float64\n",
       "cgdp2            float64\n",
       "cda2             float64\n",
       "cc               float64\n",
       "cg               float64\n",
       "ci               float64\n",
       "p                float64\n",
       "p2               float64\n",
       "pc               float64\n",
       "pg               float64\n",
       "pi               float64\n",
       "openc            float64\n",
       "cgnp             float64\n",
       "y                float64\n",
       "y2               float64\n",
       "rgdpl            float64\n",
       "rgdpl2           float64\n",
       "rgdpch           float64\n",
       "kc               float64\n",
       "kg               float64\n",
       "ki               float64\n",
       "openk            float64\n",
       "rgdpeqa          float64\n",
       "rgdpwok          float64\n",
       "rgdpl2wok        float64\n",
       "rgdpl2pe         float64\n",
       "rgdpl2te         float64\n",
       "rgdpl2th         float64\n",
       "rgdptt           float64\n",
       "dtype: object"
      ]
     },
     "execution_count": 69,
     "metadata": {},
     "output_type": "execute_result"
    }
   ],
   "source": [
    "df.dtypes"
   ]
  },
  {
   "cell_type": "markdown",
   "id": "c785385d",
   "metadata": {},
   "source": [
    "- `.columns` 查看数据框列名（变量名）。"
   ]
  },
  {
   "cell_type": "code",
   "execution_count": 70,
   "id": "aae06a0c",
   "metadata": {
    "execution": {
     "iopub.execute_input": "2023-09-11T14:28:40.915371Z",
     "iopub.status.busy": "2023-09-11T14:28:40.915069Z",
     "iopub.status.idle": "2023-09-11T14:28:40.920483Z",
     "shell.execute_reply": "2023-09-11T14:28:40.919762Z"
    }
   },
   "outputs": [
    {
     "data": {
      "text/plain": [
       "Index(['country', 'isocode', 'year', 'POP', 'XRAT', 'Currency_Unit', 'ppp',\n",
       "       'tcgdp', 'cgdp', 'cgdp2', 'cda2', 'cc', 'cg', 'ci', 'p', 'p2', 'pc',\n",
       "       'pg', 'pi', 'openc', 'cgnp', 'y', 'y2', 'rgdpl', 'rgdpl2', 'rgdpch',\n",
       "       'kc', 'kg', 'ki', 'openk', 'rgdpeqa', 'rgdpwok', 'rgdpl2wok',\n",
       "       'rgdpl2pe', 'rgdpl2te', 'rgdpl2th', 'rgdptt'],\n",
       "      dtype='object')"
      ]
     },
     "execution_count": 70,
     "metadata": {},
     "output_type": "execute_result"
    }
   ],
   "source": [
    "df.columns"
   ]
  },
  {
   "cell_type": "markdown",
   "metadata": {},
   "source": [
    "- `rename()` 函数既可以用于更改行标签，也可以用于列标签。传入一个字典，其中键为当前名称，值为新名称，以更新相应的名称。\n",
    "\n",
    "例：\n",
    "1. 将 year 改为 Year，country 改为 Country：\n",
    "\n",
    "```\n",
    "df_renamed = df.rename(columns={'year':Year, 'country':'Country'})\n",
    "```\n",
    "\n",
    "2. 将所有列名改为小写：\n",
    "\n",
    "```\n",
    "df_renamed = df.rename(columns=str.lower)\n",
    "```"
   ]
  },
  {
   "cell_type": "markdown",
   "id": "caa074bf",
   "metadata": {},
   "source": [
    "- `.index` 查看数据框行名。"
   ]
  },
  {
   "cell_type": "code",
   "execution_count": 71,
   "id": "9e1b3c2f",
   "metadata": {
    "execution": {
     "iopub.execute_input": "2023-09-11T14:28:40.923853Z",
     "iopub.status.busy": "2023-09-11T14:28:40.923560Z",
     "iopub.status.idle": "2023-09-11T14:28:40.928749Z",
     "shell.execute_reply": "2023-09-11T14:28:40.928022Z"
    }
   },
   "outputs": [
    {
     "data": {
      "text/plain": [
       "RangeIndex(start=0, stop=11400, step=1)"
      ]
     },
     "execution_count": 71,
     "metadata": {},
     "output_type": "execute_result"
    }
   ],
   "source": [
    "df.index"
   ]
  },
  {
   "cell_type": "markdown",
   "id": "67b007e6",
   "metadata": {},
   "source": [
    "- `.shape` 可以查看 `DataFrame` 的维度，返回一个 tuple（元组对象），显示数据框的行数和列数。因此，可以用索引分别查看数据框的行数和列数。"
   ]
  },
  {
   "cell_type": "code",
   "execution_count": 72,
   "id": "ccc0d0c6",
   "metadata": {
    "execution": {
     "iopub.execute_input": "2023-09-11T14:28:40.932633Z",
     "iopub.status.busy": "2023-09-11T14:28:40.932224Z",
     "iopub.status.idle": "2023-09-11T14:28:40.937219Z",
     "shell.execute_reply": "2023-09-11T14:28:40.936043Z"
    }
   },
   "outputs": [
    {
     "name": "stdout",
     "output_type": "stream",
     "text": [
      "11400\n",
      "37\n"
     ]
    }
   ],
   "source": [
    "#查看数据框行数\n",
    "print(df.shape[0])\n",
    "\n",
    "#查看数据框列数\n",
    "print(df.shape[1])"
   ]
  }
 ],
 "metadata": {
  "kernelspec": {
   "display_name": "pyds",
   "language": "python",
   "name": "python3"
  },
  "language_info": {
   "codemirror_mode": {
    "name": "ipython",
    "version": 3
   },
   "file_extension": ".py",
   "mimetype": "text/x-python",
   "name": "python",
   "nbconvert_exporter": "python",
   "pygments_lexer": "ipython3",
   "version": "3.11.5"
  }
 },
 "nbformat": 4,
 "nbformat_minor": 5
}
