{
 "cells": [
  {
   "cell_type": "markdown",
   "id": "919cc8be",
   "metadata": {},
   "source": [
    "# 多表操作\n",
    "\n",
    "之前的操作主要在单个 `DataFrame` ，实际上，我们经常需要对多个 `DataFrame` 联合起来进行分析。pandas 提供了多 `DataFrame` 之间的合并和连接的操作，分别是 `merge()` 和 `concat()` 函数。比如，我们可以将两个 `DataFrame` 合并成一个，且保留所有的列。\n",
    "\n",
    "## merge\n",
    "\n",
    "pandas 的 `merge()` 操作可以合并两个 `DataFrame`（或者称为表） ，类似于 SQL 中的 JOIN 操作。 我们可以想象成：一个大表被拆分成两个小表，两个小表都包含一些同样的数据。现在我们需要把两个小表合并，生成一个大表，大表包含了两个小表的字段。\n",
    "\n",
    "```{figure} ../img/ch-pandas/merge.svg\n",
    "---\n",
    "width: 500px\n",
    "name: merge-img\n",
    "---\n",
    "对两个 DataFrame 进行 merge 操作\n",
    "```"
   ]
  },
  {
   "cell_type": "code",
   "execution_count": 1,
   "id": "5401d63b",
   "metadata": {
    "execution": {
     "iopub.execute_input": "2023-09-18T00:21:28.055958Z",
     "iopub.status.busy": "2023-09-18T00:21:28.055470Z",
     "iopub.status.idle": "2023-09-18T00:21:28.912913Z",
     "shell.execute_reply": "2023-09-18T00:21:28.910996Z"
    }
   },
   "outputs": [
    {
     "name": "stdout",
     "output_type": "stream",
     "text": [
      "customer_prod_df:\n"
     ]
    },
    {
     "data": {
      "text/html": [
       "<div>\n",
       "<style scoped>\n",
       "    .dataframe tbody tr th:only-of-type {\n",
       "        vertical-align: middle;\n",
       "    }\n",
       "\n",
       "    .dataframe tbody tr th {\n",
       "        vertical-align: top;\n",
       "    }\n",
       "\n",
       "    .dataframe thead th {\n",
       "        text-align: right;\n",
       "    }\n",
       "</style>\n",
       "<table border=\"1\" class=\"dataframe\">\n",
       "  <thead>\n",
       "    <tr style=\"text-align: right;\">\n",
       "      <th></th>\n",
       "      <th>customer_id</th>\n",
       "      <th>product</th>\n",
       "    </tr>\n",
       "  </thead>\n",
       "  <tbody>\n",
       "    <tr>\n",
       "      <th>0</th>\n",
       "      <td>1</td>\n",
       "      <td>Oven</td>\n",
       "    </tr>\n",
       "    <tr>\n",
       "      <th>1</th>\n",
       "      <td>2</td>\n",
       "      <td>Oven</td>\n",
       "    </tr>\n",
       "    <tr>\n",
       "      <th>2</th>\n",
       "      <td>3</td>\n",
       "      <td>Oven</td>\n",
       "    </tr>\n",
       "    <tr>\n",
       "      <th>3</th>\n",
       "      <td>4</td>\n",
       "      <td>Television</td>\n",
       "    </tr>\n",
       "    <tr>\n",
       "      <th>4</th>\n",
       "      <td>5</td>\n",
       "      <td>Television</td>\n",
       "    </tr>\n",
       "    <tr>\n",
       "      <th>5</th>\n",
       "      <td>6</td>\n",
       "      <td>Television</td>\n",
       "    </tr>\n",
       "  </tbody>\n",
       "</table>\n",
       "</div>"
      ],
      "text/plain": [
       "   customer_id     product\n",
       "0            1        Oven\n",
       "1            2        Oven\n",
       "2            3        Oven\n",
       "3            4  Television\n",
       "4            5  Television\n",
       "5            6  Television"
      ]
     },
     "execution_count": 1,
     "metadata": {},
     "output_type": "execute_result"
    }
   ],
   "source": [
    "import pandas as pd\n",
    "import numpy as np\n",
    "\n",
    "# customer_prod_df\n",
    "d1 = {'customer_id':pd.Series([1,2,3,4,5,6]),\n",
    "  'product':pd.Series(['Oven','Oven','Oven','Television','Television','Television'])}\n",
    "customer_prod_df = pd.DataFrame(d1)\n",
    "print(\"customer_prod_df:\")\n",
    "customer_prod_df"
   ]
  },
  {
   "cell_type": "code",
   "execution_count": 2,
   "id": "9c58fb7d",
   "metadata": {
    "execution": {
     "iopub.execute_input": "2023-09-18T00:21:28.919003Z",
     "iopub.status.busy": "2023-09-18T00:21:28.918278Z",
     "iopub.status.idle": "2023-09-18T00:21:28.933018Z",
     "shell.execute_reply": "2023-09-18T00:21:28.931754Z"
    }
   },
   "outputs": [
    {
     "name": "stdout",
     "output_type": "stream",
     "text": [
      "customer_state_df:\n"
     ]
    },
    {
     "data": {
      "text/html": [
       "<div>\n",
       "<style scoped>\n",
       "    .dataframe tbody tr th:only-of-type {\n",
       "        vertical-align: middle;\n",
       "    }\n",
       "\n",
       "    .dataframe tbody tr th {\n",
       "        vertical-align: top;\n",
       "    }\n",
       "\n",
       "    .dataframe thead th {\n",
       "        text-align: right;\n",
       "    }\n",
       "</style>\n",
       "<table border=\"1\" class=\"dataframe\">\n",
       "  <thead>\n",
       "    <tr style=\"text-align: right;\">\n",
       "      <th></th>\n",
       "      <th>customer_id</th>\n",
       "      <th>state</th>\n",
       "    </tr>\n",
       "  </thead>\n",
       "  <tbody>\n",
       "    <tr>\n",
       "      <th>0</th>\n",
       "      <td>2</td>\n",
       "      <td>California</td>\n",
       "    </tr>\n",
       "    <tr>\n",
       "      <th>1</th>\n",
       "      <td>4</td>\n",
       "      <td>California</td>\n",
       "    </tr>\n",
       "    <tr>\n",
       "      <th>2</th>\n",
       "      <td>6</td>\n",
       "      <td>Texas</td>\n",
       "    </tr>\n",
       "    <tr>\n",
       "      <th>3</th>\n",
       "      <td>7</td>\n",
       "      <td>New York</td>\n",
       "    </tr>\n",
       "    <tr>\n",
       "      <th>4</th>\n",
       "      <td>8</td>\n",
       "      <td>Indiana</td>\n",
       "    </tr>\n",
       "  </tbody>\n",
       "</table>\n",
       "</div>"
      ],
      "text/plain": [
       "   customer_id       state\n",
       "0            2  California\n",
       "1            4  California\n",
       "2            6       Texas\n",
       "3            7    New York\n",
       "4            8     Indiana"
      ]
     },
     "execution_count": 2,
     "metadata": {},
     "output_type": "execute_result"
    }
   ],
   "source": [
    "# customer_state_df\n",
    "d2 = {'customer_id':pd.Series([2,4,6,7,8]),\n",
    "    'state':pd.Series(['California','California','Texas','New York','Indiana'])}\n",
    "customer_state_df = pd.DataFrame(d2)\n",
    "print(\"customer_state_df:\")\n",
    "customer_state_df"
   ]
  },
  {
   "cell_type": "markdown",
   "id": "caf8dfde",
   "metadata": {},
   "source": [
    "我们先用下面的代码得到合并的结果，所使用的各类参数后面详细探讨。"
   ]
  },
  {
   "cell_type": "code",
   "execution_count": 3,
   "id": "4733ae6d",
   "metadata": {
    "execution": {
     "iopub.execute_input": "2023-09-18T00:21:28.939852Z",
     "iopub.status.busy": "2023-09-18T00:21:28.939384Z",
     "iopub.status.idle": "2023-09-18T00:21:28.965372Z",
     "shell.execute_reply": "2023-09-18T00:21:28.964057Z"
    }
   },
   "outputs": [
    {
     "data": {
      "text/html": [
       "<div>\n",
       "<style scoped>\n",
       "    .dataframe tbody tr th:only-of-type {\n",
       "        vertical-align: middle;\n",
       "    }\n",
       "\n",
       "    .dataframe tbody tr th {\n",
       "        vertical-align: top;\n",
       "    }\n",
       "\n",
       "    .dataframe thead th {\n",
       "        text-align: right;\n",
       "    }\n",
       "</style>\n",
       "<table border=\"1\" class=\"dataframe\">\n",
       "  <thead>\n",
       "    <tr style=\"text-align: right;\">\n",
       "      <th></th>\n",
       "      <th>customer_id</th>\n",
       "      <th>product</th>\n",
       "      <th>state</th>\n",
       "    </tr>\n",
       "  </thead>\n",
       "  <tbody>\n",
       "    <tr>\n",
       "      <th>0</th>\n",
       "      <td>2</td>\n",
       "      <td>Oven</td>\n",
       "      <td>California</td>\n",
       "    </tr>\n",
       "    <tr>\n",
       "      <th>1</th>\n",
       "      <td>4</td>\n",
       "      <td>Television</td>\n",
       "      <td>California</td>\n",
       "    </tr>\n",
       "    <tr>\n",
       "      <th>2</th>\n",
       "      <td>6</td>\n",
       "      <td>Television</td>\n",
       "      <td>Texas</td>\n",
       "    </tr>\n",
       "  </tbody>\n",
       "</table>\n",
       "</div>"
      ],
      "text/plain": [
       "   customer_id     product       state\n",
       "0            2        Oven  California\n",
       "1            4  Television  California\n",
       "2            6  Television       Texas"
      ]
     },
     "execution_count": 3,
     "metadata": {},
     "output_type": "execute_result"
    }
   ],
   "source": [
    "inner_join_df= pd.merge(customer_prod_df, customer_state_df, on='customer_id', how='inner')\n",
    "inner_join_df"
   ]
  },
  {
   "cell_type": "markdown",
   "id": "8a276b16",
   "metadata": {},
   "source": [
    "合并两个表时，通常需要使用键（key）来判断哪些数据与哪些数据合并。比如本例中，两个表都包含 `customer_id` 这个字段，`customer_id` 可以被用来连接这两个 `DataFrame`。相同 `customer_id` 的行被合并在一起。\n",
    "\n",
    "我们回到 `merge` 函数的参数。完整的参数形式为：`pd.merge(left, right, how='inner', on=None, left_on=None, right_on=None, left_index=False, right_index=False, sort=False,suffixes=('_x','_y'))`。虽然参数很多，其实大部分时间我们主要关心的是 `left`、`right`、`how` 和 `on`。\n",
    "\n",
    "`left` 与 `right` 是两个 `DataFrame`，分别为左侧表和右侧表。\n",
    "\n",
    "`on` 表示两个表依据哪个字段（或哪些字段）进行合并。这个字段或这些字段被称为键（key）。两个表的 key 字段应该是表示同一个事物。现在我们要根据 key，把两个 `DataFrame` 合并成一个更大的表。这个例子中，以 `customer_id` 为字段进行合并，主要对左右两个表中相同 `customer_id` 进行操作。\n",
    "\n",
    "`how` 表示合并的方式。在合并过程中，左侧表和右侧表的 key 不一定都包含同样的值。比如，如果左侧表包含某个 `customer_id` 但右侧表不包含这个 `customer_id`，那应该遵循什么样的逻辑去合并。`how='inner'` 是其中一种方式，叫做内连接：只有在左侧 DataFrame 和右侧 DataFrame 中 ** 都 ** 存在的行才会包含在结果中。\n",
    "\n",
    "`how` 除了 `inner`，还有其他的选项：`outer`、`left` 和 `right`。\n",
    "\n",
    "![合并方式](../img/ch-pandas/merge-how.svg)\n",
    ":width:`800px`\n",
    ":label:`merge-how`\n",
    "\n",
    "### 连接方式\n",
    "\n",
    "* 外连接\n",
    "\n",
    "外连接把左右两侧所有的数据都合并到一起，如果某个表有缺失值，无法左右对齐，则填充 `NaN`。"
   ]
  },
  {
   "cell_type": "code",
   "execution_count": 4,
   "id": "d4748529",
   "metadata": {
    "execution": {
     "iopub.execute_input": "2023-09-18T00:21:28.970312Z",
     "iopub.status.busy": "2023-09-18T00:21:28.969862Z",
     "iopub.status.idle": "2023-09-18T00:21:28.986406Z",
     "shell.execute_reply": "2023-09-18T00:21:28.985188Z"
    }
   },
   "outputs": [
    {
     "data": {
      "text/html": [
       "<div>\n",
       "<style scoped>\n",
       "    .dataframe tbody tr th:only-of-type {\n",
       "        vertical-align: middle;\n",
       "    }\n",
       "\n",
       "    .dataframe tbody tr th {\n",
       "        vertical-align: top;\n",
       "    }\n",
       "\n",
       "    .dataframe thead th {\n",
       "        text-align: right;\n",
       "    }\n",
       "</style>\n",
       "<table border=\"1\" class=\"dataframe\">\n",
       "  <thead>\n",
       "    <tr style=\"text-align: right;\">\n",
       "      <th></th>\n",
       "      <th>customer_id</th>\n",
       "      <th>product</th>\n",
       "      <th>state</th>\n",
       "    </tr>\n",
       "  </thead>\n",
       "  <tbody>\n",
       "    <tr>\n",
       "      <th>0</th>\n",
       "      <td>1</td>\n",
       "      <td>Oven</td>\n",
       "      <td>NaN</td>\n",
       "    </tr>\n",
       "    <tr>\n",
       "      <th>1</th>\n",
       "      <td>2</td>\n",
       "      <td>Oven</td>\n",
       "      <td>California</td>\n",
       "    </tr>\n",
       "    <tr>\n",
       "      <th>2</th>\n",
       "      <td>3</td>\n",
       "      <td>Oven</td>\n",
       "      <td>NaN</td>\n",
       "    </tr>\n",
       "    <tr>\n",
       "      <th>3</th>\n",
       "      <td>4</td>\n",
       "      <td>Television</td>\n",
       "      <td>California</td>\n",
       "    </tr>\n",
       "    <tr>\n",
       "      <th>4</th>\n",
       "      <td>5</td>\n",
       "      <td>Television</td>\n",
       "      <td>NaN</td>\n",
       "    </tr>\n",
       "    <tr>\n",
       "      <th>5</th>\n",
       "      <td>6</td>\n",
       "      <td>Television</td>\n",
       "      <td>Texas</td>\n",
       "    </tr>\n",
       "    <tr>\n",
       "      <th>6</th>\n",
       "      <td>7</td>\n",
       "      <td>NaN</td>\n",
       "      <td>New York</td>\n",
       "    </tr>\n",
       "    <tr>\n",
       "      <th>7</th>\n",
       "      <td>8</td>\n",
       "      <td>NaN</td>\n",
       "      <td>Indiana</td>\n",
       "    </tr>\n",
       "  </tbody>\n",
       "</table>\n",
       "</div>"
      ],
      "text/plain": [
       "   customer_id     product       state\n",
       "0            1        Oven         NaN\n",
       "1            2        Oven  California\n",
       "2            3        Oven         NaN\n",
       "3            4  Television  California\n",
       "4            5  Television         NaN\n",
       "5            6  Television       Texas\n",
       "6            7         NaN    New York\n",
       "7            8         NaN     Indiana"
      ]
     },
     "execution_count": 4,
     "metadata": {},
     "output_type": "execute_result"
    }
   ],
   "source": [
    "outer_join_df = pd.merge(customer_prod_df, customer_state_df, on='customer_id', how='outer')\n",
    "outer_join_df"
   ]
  },
  {
   "cell_type": "markdown",
   "id": "5ff183fa",
   "metadata": {},
   "source": [
    "* 左连接\n",
    "\n",
    "左侧表的数据都被保留，如果右侧表有缺失，填充 `NaN`。"
   ]
  },
  {
   "cell_type": "code",
   "execution_count": 5,
   "id": "ad7e0314",
   "metadata": {
    "execution": {
     "iopub.execute_input": "2023-09-18T00:21:28.992230Z",
     "iopub.status.busy": "2023-09-18T00:21:28.991689Z",
     "iopub.status.idle": "2023-09-18T00:21:29.005544Z",
     "shell.execute_reply": "2023-09-18T00:21:29.004080Z"
    }
   },
   "outputs": [
    {
     "data": {
      "text/html": [
       "<div>\n",
       "<style scoped>\n",
       "    .dataframe tbody tr th:only-of-type {\n",
       "        vertical-align: middle;\n",
       "    }\n",
       "\n",
       "    .dataframe tbody tr th {\n",
       "        vertical-align: top;\n",
       "    }\n",
       "\n",
       "    .dataframe thead th {\n",
       "        text-align: right;\n",
       "    }\n",
       "</style>\n",
       "<table border=\"1\" class=\"dataframe\">\n",
       "  <thead>\n",
       "    <tr style=\"text-align: right;\">\n",
       "      <th></th>\n",
       "      <th>customer_id</th>\n",
       "      <th>product</th>\n",
       "      <th>state</th>\n",
       "    </tr>\n",
       "  </thead>\n",
       "  <tbody>\n",
       "    <tr>\n",
       "      <th>0</th>\n",
       "      <td>1</td>\n",
       "      <td>Oven</td>\n",
       "      <td>NaN</td>\n",
       "    </tr>\n",
       "    <tr>\n",
       "      <th>1</th>\n",
       "      <td>2</td>\n",
       "      <td>Oven</td>\n",
       "      <td>California</td>\n",
       "    </tr>\n",
       "    <tr>\n",
       "      <th>2</th>\n",
       "      <td>3</td>\n",
       "      <td>Oven</td>\n",
       "      <td>NaN</td>\n",
       "    </tr>\n",
       "    <tr>\n",
       "      <th>3</th>\n",
       "      <td>4</td>\n",
       "      <td>Television</td>\n",
       "      <td>California</td>\n",
       "    </tr>\n",
       "    <tr>\n",
       "      <th>4</th>\n",
       "      <td>5</td>\n",
       "      <td>Television</td>\n",
       "      <td>NaN</td>\n",
       "    </tr>\n",
       "    <tr>\n",
       "      <th>5</th>\n",
       "      <td>6</td>\n",
       "      <td>Television</td>\n",
       "      <td>Texas</td>\n",
       "    </tr>\n",
       "  </tbody>\n",
       "</table>\n",
       "</div>"
      ],
      "text/plain": [
       "   customer_id     product       state\n",
       "0            1        Oven         NaN\n",
       "1            2        Oven  California\n",
       "2            3        Oven         NaN\n",
       "3            4  Television  California\n",
       "4            5  Television         NaN\n",
       "5            6  Television       Texas"
      ]
     },
     "execution_count": 5,
     "metadata": {},
     "output_type": "execute_result"
    }
   ],
   "source": [
    "left_join_df= pd.merge(customer_prod_df, customer_state_df, on='customer_id', how='left')\n",
    "left_join_df"
   ]
  },
  {
   "cell_type": "markdown",
   "id": "1f6b36ec",
   "metadata": {},
   "source": [
    "* 右连接\n",
    "\n",
    "右侧表的数据都被保留，如果左侧表有缺失，填充 `NaN`。"
   ]
  },
  {
   "cell_type": "code",
   "execution_count": 6,
   "id": "6b83a77d",
   "metadata": {
    "execution": {
     "iopub.execute_input": "2023-09-18T00:21:29.012252Z",
     "iopub.status.busy": "2023-09-18T00:21:29.011788Z",
     "iopub.status.idle": "2023-09-18T00:21:29.029078Z",
     "shell.execute_reply": "2023-09-18T00:21:29.027143Z"
    }
   },
   "outputs": [
    {
     "data": {
      "text/html": [
       "<div>\n",
       "<style scoped>\n",
       "    .dataframe tbody tr th:only-of-type {\n",
       "        vertical-align: middle;\n",
       "    }\n",
       "\n",
       "    .dataframe tbody tr th {\n",
       "        vertical-align: top;\n",
       "    }\n",
       "\n",
       "    .dataframe thead th {\n",
       "        text-align: right;\n",
       "    }\n",
       "</style>\n",
       "<table border=\"1\" class=\"dataframe\">\n",
       "  <thead>\n",
       "    <tr style=\"text-align: right;\">\n",
       "      <th></th>\n",
       "      <th>customer_id</th>\n",
       "      <th>product</th>\n",
       "      <th>state</th>\n",
       "    </tr>\n",
       "  </thead>\n",
       "  <tbody>\n",
       "    <tr>\n",
       "      <th>0</th>\n",
       "      <td>2</td>\n",
       "      <td>Oven</td>\n",
       "      <td>California</td>\n",
       "    </tr>\n",
       "    <tr>\n",
       "      <th>1</th>\n",
       "      <td>4</td>\n",
       "      <td>Television</td>\n",
       "      <td>California</td>\n",
       "    </tr>\n",
       "    <tr>\n",
       "      <th>2</th>\n",
       "      <td>6</td>\n",
       "      <td>Television</td>\n",
       "      <td>Texas</td>\n",
       "    </tr>\n",
       "    <tr>\n",
       "      <th>3</th>\n",
       "      <td>7</td>\n",
       "      <td>NaN</td>\n",
       "      <td>New York</td>\n",
       "    </tr>\n",
       "    <tr>\n",
       "      <th>4</th>\n",
       "      <td>8</td>\n",
       "      <td>NaN</td>\n",
       "      <td>Indiana</td>\n",
       "    </tr>\n",
       "  </tbody>\n",
       "</table>\n",
       "</div>"
      ],
      "text/plain": [
       "   customer_id     product       state\n",
       "0            2        Oven  California\n",
       "1            4  Television  California\n",
       "2            6  Television       Texas\n",
       "3            7         NaN    New York\n",
       "4            8         NaN     Indiana"
      ]
     },
     "execution_count": 6,
     "metadata": {},
     "output_type": "execute_result"
    }
   ],
   "source": [
    "right_join_df= pd.merge(customer_prod_df, customer_state_df, on='customer_id', how='right')\n",
    "right_join_df"
   ]
  },
  {
   "cell_type": "markdown",
   "id": "71de8bff",
   "metadata": {},
   "source": [
    "### 其他合并方式\n",
    "\n",
    "还有一些其他合并，不是根据 key 去在左右表中查找。比如，根据 `DataFrame` 最左侧的 index 列。`DataFrame` 默认有 index 列，根据该列合并两个表，由于此时不是根据 `customer_id` 来合并，合并之后保留了两个 `customer_id`，为了区别左右两表的 `customer_id`，这里加了后缀 `_x` 和 `_y`。"
   ]
  },
  {
   "cell_type": "code",
   "execution_count": 7,
   "id": "469b740a",
   "metadata": {
    "execution": {
     "iopub.execute_input": "2023-09-18T00:21:29.034598Z",
     "iopub.status.busy": "2023-09-18T00:21:29.034154Z",
     "iopub.status.idle": "2023-09-18T00:21:29.048944Z",
     "shell.execute_reply": "2023-09-18T00:21:29.047603Z"
    }
   },
   "outputs": [
    {
     "data": {
      "text/html": [
       "<div>\n",
       "<style scoped>\n",
       "    .dataframe tbody tr th:only-of-type {\n",
       "        vertical-align: middle;\n",
       "    }\n",
       "\n",
       "    .dataframe tbody tr th {\n",
       "        vertical-align: top;\n",
       "    }\n",
       "\n",
       "    .dataframe thead th {\n",
       "        text-align: right;\n",
       "    }\n",
       "</style>\n",
       "<table border=\"1\" class=\"dataframe\">\n",
       "  <thead>\n",
       "    <tr style=\"text-align: right;\">\n",
       "      <th></th>\n",
       "      <th>customer_id_x</th>\n",
       "      <th>product</th>\n",
       "      <th>customer_id_y</th>\n",
       "      <th>state</th>\n",
       "    </tr>\n",
       "  </thead>\n",
       "  <tbody>\n",
       "    <tr>\n",
       "      <th>0</th>\n",
       "      <td>1</td>\n",
       "      <td>Oven</td>\n",
       "      <td>2</td>\n",
       "      <td>California</td>\n",
       "    </tr>\n",
       "    <tr>\n",
       "      <th>1</th>\n",
       "      <td>2</td>\n",
       "      <td>Oven</td>\n",
       "      <td>4</td>\n",
       "      <td>California</td>\n",
       "    </tr>\n",
       "    <tr>\n",
       "      <th>2</th>\n",
       "      <td>3</td>\n",
       "      <td>Oven</td>\n",
       "      <td>6</td>\n",
       "      <td>Texas</td>\n",
       "    </tr>\n",
       "    <tr>\n",
       "      <th>3</th>\n",
       "      <td>4</td>\n",
       "      <td>Television</td>\n",
       "      <td>7</td>\n",
       "      <td>New York</td>\n",
       "    </tr>\n",
       "    <tr>\n",
       "      <th>4</th>\n",
       "      <td>5</td>\n",
       "      <td>Television</td>\n",
       "      <td>8</td>\n",
       "      <td>Indiana</td>\n",
       "    </tr>\n",
       "  </tbody>\n",
       "</table>\n",
       "</div>"
      ],
      "text/plain": [
       "   customer_id_x     product  customer_id_y       state\n",
       "0              1        Oven              2  California\n",
       "1              2        Oven              4  California\n",
       "2              3        Oven              6       Texas\n",
       "3              4  Television              7    New York\n",
       "4              5  Television              8     Indiana"
      ]
     },
     "execution_count": 7,
     "metadata": {},
     "output_type": "execute_result"
    }
   ],
   "source": [
    "index_df = pd.merge(customer_prod_df, customer_state_df, right_index=True, left_index=True)\n",
    "index_df"
   ]
  },
  {
   "cell_type": "markdown",
   "id": "bb52359b",
   "metadata": {},
   "source": [
    "## concat\n",
    "\n",
    "与 `merge()` 对表结构进行横向的操作不同，`concat()` 函数默认是进行纵向的合并，也就是将多行进行 **堆叠式** 的合并，如 {numref}`concat-img` 所示。\n",
    "\n",
    "```{figure} ../img/ch-pandas/concat.svg\n",
    "---\n",
    "width: 600px\n",
    "name: concat-img\n",
    "---\n",
    "对两个 DataFrame 进行 concat 操作\n",
    "```\n",
    "\n",
    "比如下面的例子，把所有的行和所有的列合并在一起，缺失的填充 `NaN`。"
   ]
  },
  {
   "cell_type": "code",
   "execution_count": 8,
   "id": "6fe73704",
   "metadata": {
    "execution": {
     "iopub.execute_input": "2023-09-18T00:21:29.054777Z",
     "iopub.status.busy": "2023-09-18T00:21:29.054244Z",
     "iopub.status.idle": "2023-09-18T00:21:29.073028Z",
     "shell.execute_reply": "2023-09-18T00:21:29.071342Z"
    }
   },
   "outputs": [
    {
     "data": {
      "text/html": [
       "<div>\n",
       "<style scoped>\n",
       "    .dataframe tbody tr th:only-of-type {\n",
       "        vertical-align: middle;\n",
       "    }\n",
       "\n",
       "    .dataframe tbody tr th {\n",
       "        vertical-align: top;\n",
       "    }\n",
       "\n",
       "    .dataframe thead th {\n",
       "        text-align: right;\n",
       "    }\n",
       "</style>\n",
       "<table border=\"1\" class=\"dataframe\">\n",
       "  <thead>\n",
       "    <tr style=\"text-align: right;\">\n",
       "      <th></th>\n",
       "      <th>customer_id</th>\n",
       "      <th>product</th>\n",
       "      <th>state</th>\n",
       "    </tr>\n",
       "  </thead>\n",
       "  <tbody>\n",
       "    <tr>\n",
       "      <th>0</th>\n",
       "      <td>1</td>\n",
       "      <td>Oven</td>\n",
       "      <td>NaN</td>\n",
       "    </tr>\n",
       "    <tr>\n",
       "      <th>1</th>\n",
       "      <td>2</td>\n",
       "      <td>Oven</td>\n",
       "      <td>NaN</td>\n",
       "    </tr>\n",
       "    <tr>\n",
       "      <th>2</th>\n",
       "      <td>3</td>\n",
       "      <td>Oven</td>\n",
       "      <td>NaN</td>\n",
       "    </tr>\n",
       "    <tr>\n",
       "      <th>3</th>\n",
       "      <td>4</td>\n",
       "      <td>Television</td>\n",
       "      <td>NaN</td>\n",
       "    </tr>\n",
       "    <tr>\n",
       "      <th>4</th>\n",
       "      <td>5</td>\n",
       "      <td>Television</td>\n",
       "      <td>NaN</td>\n",
       "    </tr>\n",
       "    <tr>\n",
       "      <th>5</th>\n",
       "      <td>6</td>\n",
       "      <td>Television</td>\n",
       "      <td>NaN</td>\n",
       "    </tr>\n",
       "    <tr>\n",
       "      <th>0</th>\n",
       "      <td>2</td>\n",
       "      <td>NaN</td>\n",
       "      <td>California</td>\n",
       "    </tr>\n",
       "    <tr>\n",
       "      <th>1</th>\n",
       "      <td>4</td>\n",
       "      <td>NaN</td>\n",
       "      <td>California</td>\n",
       "    </tr>\n",
       "    <tr>\n",
       "      <th>2</th>\n",
       "      <td>6</td>\n",
       "      <td>NaN</td>\n",
       "      <td>Texas</td>\n",
       "    </tr>\n",
       "    <tr>\n",
       "      <th>3</th>\n",
       "      <td>7</td>\n",
       "      <td>NaN</td>\n",
       "      <td>New York</td>\n",
       "    </tr>\n",
       "    <tr>\n",
       "      <th>4</th>\n",
       "      <td>8</td>\n",
       "      <td>NaN</td>\n",
       "      <td>Indiana</td>\n",
       "    </tr>\n",
       "  </tbody>\n",
       "</table>\n",
       "</div>"
      ],
      "text/plain": [
       "   customer_id     product       state\n",
       "0            1        Oven         NaN\n",
       "1            2        Oven         NaN\n",
       "2            3        Oven         NaN\n",
       "3            4  Television         NaN\n",
       "4            5  Television         NaN\n",
       "5            6  Television         NaN\n",
       "0            2         NaN  California\n",
       "1            4         NaN  California\n",
       "2            6         NaN       Texas\n",
       "3            7         NaN    New York\n",
       "4            8         NaN     Indiana"
      ]
     },
     "execution_count": 8,
     "metadata": {},
     "output_type": "execute_result"
    }
   ],
   "source": [
    "row_concat_df = pd.concat([customer_prod_df, customer_state_df])\n",
    "row_concat_df"
   ]
  },
  {
   "cell_type": "markdown",
   "id": "7732a2fb",
   "metadata": {},
   "source": [
    "下面的例子，设定了 `join=\"inner\"`，两个表中都包含 `customer_id` 字段进行了纵向合并。需要注意的是，`concat` 是进行纵向的堆叠，而没有去除重复的 `customer_id`。"
   ]
  },
  {
   "cell_type": "code",
   "execution_count": 9,
   "id": "d04c4d9a",
   "metadata": {
    "execution": {
     "iopub.execute_input": "2023-09-18T00:21:29.082931Z",
     "iopub.status.busy": "2023-09-18T00:21:29.082240Z",
     "iopub.status.idle": "2023-09-18T00:21:29.101471Z",
     "shell.execute_reply": "2023-09-18T00:21:29.099100Z"
    }
   },
   "outputs": [
    {
     "data": {
      "text/html": [
       "<div>\n",
       "<style scoped>\n",
       "    .dataframe tbody tr th:only-of-type {\n",
       "        vertical-align: middle;\n",
       "    }\n",
       "\n",
       "    .dataframe tbody tr th {\n",
       "        vertical-align: top;\n",
       "    }\n",
       "\n",
       "    .dataframe thead th {\n",
       "        text-align: right;\n",
       "    }\n",
       "</style>\n",
       "<table border=\"1\" class=\"dataframe\">\n",
       "  <thead>\n",
       "    <tr style=\"text-align: right;\">\n",
       "      <th></th>\n",
       "      <th>customer_id</th>\n",
       "    </tr>\n",
       "  </thead>\n",
       "  <tbody>\n",
       "    <tr>\n",
       "      <th>0</th>\n",
       "      <td>1</td>\n",
       "    </tr>\n",
       "    <tr>\n",
       "      <th>1</th>\n",
       "      <td>2</td>\n",
       "    </tr>\n",
       "    <tr>\n",
       "      <th>2</th>\n",
       "      <td>3</td>\n",
       "    </tr>\n",
       "    <tr>\n",
       "      <th>3</th>\n",
       "      <td>4</td>\n",
       "    </tr>\n",
       "    <tr>\n",
       "      <th>4</th>\n",
       "      <td>5</td>\n",
       "    </tr>\n",
       "    <tr>\n",
       "      <th>5</th>\n",
       "      <td>6</td>\n",
       "    </tr>\n",
       "    <tr>\n",
       "      <th>0</th>\n",
       "      <td>2</td>\n",
       "    </tr>\n",
       "    <tr>\n",
       "      <th>1</th>\n",
       "      <td>4</td>\n",
       "    </tr>\n",
       "    <tr>\n",
       "      <th>2</th>\n",
       "      <td>6</td>\n",
       "    </tr>\n",
       "    <tr>\n",
       "      <th>3</th>\n",
       "      <td>7</td>\n",
       "    </tr>\n",
       "    <tr>\n",
       "      <th>4</th>\n",
       "      <td>8</td>\n",
       "    </tr>\n",
       "  </tbody>\n",
       "</table>\n",
       "</div>"
      ],
      "text/plain": [
       "   customer_id\n",
       "0            1\n",
       "1            2\n",
       "2            3\n",
       "3            4\n",
       "4            5\n",
       "5            6\n",
       "0            2\n",
       "1            4\n",
       "2            6\n",
       "3            7\n",
       "4            8"
      ]
     },
     "execution_count": 9,
     "metadata": {},
     "output_type": "execute_result"
    }
   ],
   "source": [
    "concat_inner_df = pd.concat([customer_prod_df, customer_state_df], join = 'inner')\n",
    "concat_inner_df"
   ]
  },
  {
   "cell_type": "markdown",
   "id": "94b421dd",
   "metadata": {},
   "source": [
    "## 案例：学生成绩\n",
    "\n",
    "我们使用一个学生成绩的案例来演示如何对两个 `DataFrame` 进行 `merge`。"
   ]
  },
  {
   "cell_type": "code",
   "execution_count": 10,
   "id": "ba2002fd",
   "metadata": {
    "execution": {
     "iopub.execute_input": "2023-09-18T00:21:29.111913Z",
     "iopub.status.busy": "2023-09-18T00:21:29.110565Z",
     "iopub.status.idle": "2023-09-18T00:21:29.123036Z",
     "shell.execute_reply": "2023-09-18T00:21:29.120657Z"
    },
    "tags": [
     "hide-cell"
    ]
   },
   "outputs": [
    {
     "name": "stdout",
     "output_type": "stream",
     "text": [
      "文件夹已存在，无需操作。\n"
     ]
    }
   ],
   "source": [
    "import urllib.request\n",
    "import os\n",
    "import pandas as pd\n",
    "\n",
    "download_url_prefix = \"https://godaai.github.io/python-data-science/datasets/student-score\"\n",
    "folder_path = os.path.join(os.getcwd(), \"../data/student-score\")\n",
    "score_download_url = f\"{download_url_prefix}/score.csv\"\n",
    "student_attr_download_url = f\"{download_url_prefix}/student.csv\"\n",
    "\n",
    "score_file_name = score_download_url.split(\"/\")[-1]\n",
    "student_file_name = student_attr_download_url.split(\"/\")[-1]\n",
    "score_path = os.path.join(folder_path, score_file_name)\n",
    "student_path = os.path.join(folder_path, student_file_name)\n",
    "\n",
    "if not os.path.exists(folder_path):\n",
    "    # 创建文件夹\n",
    "    os.makedirs(folder_path)\n",
    "    print(f\"文件夹不存在，已创建。\")\n",
    "\n",
    "    urllib.request.urlretrieve(score_download_url, score_path)\n",
    "    urllib.request.urlretrieve(student_attr_download_url, student_path)\n",
    "    print(\"数据已下载。\")\n",
    "else:\n",
    "    print(f\"文件夹已存在，无需操作。\")"
   ]
  },
  {
   "cell_type": "code",
   "execution_count": 11,
   "id": "59f360b8",
   "metadata": {
    "execution": {
     "iopub.execute_input": "2023-09-18T00:21:29.131991Z",
     "iopub.status.busy": "2023-09-18T00:21:29.130505Z",
     "iopub.status.idle": "2023-09-18T00:21:29.161236Z",
     "shell.execute_reply": "2023-09-18T00:21:29.159685Z"
    }
   },
   "outputs": [
    {
     "name": "stdout",
     "output_type": "stream",
     "text": [
      "student DF:\n",
      "shape of this DF: (44, 7)\n",
      "the first 2 rows of this DF:\n"
     ]
    },
    {
     "data": {
      "text/html": [
       "<div>\n",
       "<style scoped>\n",
       "    .dataframe tbody tr th:only-of-type {\n",
       "        vertical-align: middle;\n",
       "    }\n",
       "\n",
       "    .dataframe tbody tr th {\n",
       "        vertical-align: top;\n",
       "    }\n",
       "\n",
       "    .dataframe thead th {\n",
       "        text-align: right;\n",
       "    }\n",
       "</style>\n",
       "<table border=\"1\" class=\"dataframe\">\n",
       "  <thead>\n",
       "    <tr style=\"text-align: right;\">\n",
       "      <th></th>\n",
       "      <th>sno</th>\n",
       "      <th>sname</th>\n",
       "      <th>sex</th>\n",
       "      <th>dept</th>\n",
       "      <th>major</th>\n",
       "      <th>claasno</th>\n",
       "      <th>home_address</th>\n",
       "    </tr>\n",
       "  </thead>\n",
       "  <tbody>\n",
       "    <tr>\n",
       "      <th>0</th>\n",
       "      <td>2019101101</td>\n",
       "      <td>张元</td>\n",
       "      <td>男</td>\n",
       "      <td>信息学院</td>\n",
       "      <td>计算机</td>\n",
       "      <td>1</td>\n",
       "      <td>北京市</td>\n",
       "    </tr>\n",
       "    <tr>\n",
       "      <th>1</th>\n",
       "      <td>2019101102</td>\n",
       "      <td>李玲</td>\n",
       "      <td>女</td>\n",
       "      <td>信息学院</td>\n",
       "      <td>计算机</td>\n",
       "      <td>1</td>\n",
       "      <td>天津市</td>\n",
       "    </tr>\n",
       "  </tbody>\n",
       "</table>\n",
       "</div>"
      ],
      "text/plain": [
       "          sno sname sex  dept major  claasno home_address\n",
       "0  2019101101    张元   男  信息学院   计算机        1          北京市\n",
       "1  2019101102    李玲   女  信息学院   计算机        1          天津市"
      ]
     },
     "execution_count": 11,
     "metadata": {},
     "output_type": "execute_result"
    }
   ],
   "source": [
    "print(\"student DF:\")\n",
    "student_df = pd.read_csv(student_path, encoding = \"UTF-8\")\n",
    "print(f\"shape of this DF: {student_df.shape}\")\n",
    "print(\"the first 2 rows of this DF:\")\n",
    "student_df.head(2)"
   ]
  },
  {
   "cell_type": "code",
   "execution_count": 12,
   "id": "9e55dc36",
   "metadata": {
    "execution": {
     "iopub.execute_input": "2023-09-18T00:21:29.166773Z",
     "iopub.status.busy": "2023-09-18T00:21:29.166234Z",
     "iopub.status.idle": "2023-09-18T00:21:29.188574Z",
     "shell.execute_reply": "2023-09-18T00:21:29.185874Z"
    }
   },
   "outputs": [
    {
     "name": "stdout",
     "output_type": "stream",
     "text": [
      "score DF:\n",
      "Shape of this DF: (43, 4)\n",
      "the first 2 rows of this DF:\n"
     ]
    },
    {
     "data": {
      "text/html": [
       "<div>\n",
       "<style scoped>\n",
       "    .dataframe tbody tr th:only-of-type {\n",
       "        vertical-align: middle;\n",
       "    }\n",
       "\n",
       "    .dataframe tbody tr th {\n",
       "        vertical-align: top;\n",
       "    }\n",
       "\n",
       "    .dataframe thead th {\n",
       "        text-align: right;\n",
       "    }\n",
       "</style>\n",
       "<table border=\"1\" class=\"dataframe\">\n",
       "  <thead>\n",
       "    <tr style=\"text-align: right;\">\n",
       "      <th></th>\n",
       "      <th>sno</th>\n",
       "      <th>cno</th>\n",
       "      <th>cname</th>\n",
       "      <th>score</th>\n",
       "    </tr>\n",
       "  </thead>\n",
       "  <tbody>\n",
       "    <tr>\n",
       "      <th>0</th>\n",
       "      <td>2019101103</td>\n",
       "      <td>E202</td>\n",
       "      <td>宏观经济</td>\n",
       "      <td>78</td>\n",
       "    </tr>\n",
       "    <tr>\n",
       "      <th>1</th>\n",
       "      <td>2019102105</td>\n",
       "      <td>E202</td>\n",
       "      <td>宏观经济</td>\n",
       "      <td>97</td>\n",
       "    </tr>\n",
       "  </tbody>\n",
       "</table>\n",
       "</div>"
      ],
      "text/plain": [
       "          sno   cno cname  score\n",
       "0  2019101103  E202  宏观经济     78\n",
       "1  2019102105  E202  宏观经济     97"
      ]
     },
     "execution_count": 12,
     "metadata": {},
     "output_type": "execute_result"
    }
   ],
   "source": [
    "print(\"score DF:\")\n",
    "score_df = pd.read_csv(score_path, encoding = \"UTF-8\")\n",
    "print(f\"Shape of this DF: {score_df.shape}\")\n",
    "print(\"the first 2 rows of this DF:\")\n",
    "score_df.head(2)"
   ]
  },
  {
   "cell_type": "markdown",
   "id": "0abd0436",
   "metadata": {},
   "source": [
    "可以看到两个表都包含了 `sno`，也就是学号，可以使用学号作为 key 进行合并。"
   ]
  },
  {
   "cell_type": "code",
   "execution_count": 13,
   "id": "e14eccc0",
   "metadata": {
    "execution": {
     "iopub.execute_input": "2023-09-18T00:21:29.196566Z",
     "iopub.status.busy": "2023-09-18T00:21:29.195187Z",
     "iopub.status.idle": "2023-09-18T00:21:29.237552Z",
     "shell.execute_reply": "2023-09-18T00:21:29.236024Z"
    }
   },
   "outputs": [
    {
     "name": "stdout",
     "output_type": "stream",
     "text": [
      "shape of this DF: (44, 10)\n",
      "the first 2 rows:\n"
     ]
    },
    {
     "data": {
      "text/html": [
       "<div>\n",
       "<style scoped>\n",
       "    .dataframe tbody tr th:only-of-type {\n",
       "        vertical-align: middle;\n",
       "    }\n",
       "\n",
       "    .dataframe tbody tr th {\n",
       "        vertical-align: top;\n",
       "    }\n",
       "\n",
       "    .dataframe thead th {\n",
       "        text-align: right;\n",
       "    }\n",
       "</style>\n",
       "<table border=\"1\" class=\"dataframe\">\n",
       "  <thead>\n",
       "    <tr style=\"text-align: right;\">\n",
       "      <th></th>\n",
       "      <th>sno</th>\n",
       "      <th>sname</th>\n",
       "      <th>sex</th>\n",
       "      <th>dept</th>\n",
       "      <th>major</th>\n",
       "      <th>claasno</th>\n",
       "      <th>home_address</th>\n",
       "      <th>cno</th>\n",
       "      <th>cname</th>\n",
       "      <th>score</th>\n",
       "    </tr>\n",
       "  </thead>\n",
       "  <tbody>\n",
       "    <tr>\n",
       "      <th>0</th>\n",
       "      <td>2019101101</td>\n",
       "      <td>张元</td>\n",
       "      <td>男</td>\n",
       "      <td>信息学院</td>\n",
       "      <td>计算机</td>\n",
       "      <td>1</td>\n",
       "      <td>北京市</td>\n",
       "      <td>CS101</td>\n",
       "      <td>程序设计</td>\n",
       "      <td>89.0</td>\n",
       "    </tr>\n",
       "    <tr>\n",
       "      <th>1</th>\n",
       "      <td>2019101102</td>\n",
       "      <td>李玲</td>\n",
       "      <td>女</td>\n",
       "      <td>信息学院</td>\n",
       "      <td>计算机</td>\n",
       "      <td>1</td>\n",
       "      <td>天津市</td>\n",
       "      <td>CS203</td>\n",
       "      <td>数据结构与算法</td>\n",
       "      <td>80.0</td>\n",
       "    </tr>\n",
       "  </tbody>\n",
       "</table>\n",
       "</div>"
      ],
      "text/plain": [
       "          sno sname sex  dept major  claasno home_address    cno    cname  \\\n",
       "0  2019101101    张元   男  信息学院   计算机        1          北京市  CS101     程序设计   \n",
       "1  2019101102    李玲   女  信息学院   计算机        1          天津市  CS203  数据结构与算法   \n",
       "\n",
       "   score  \n",
       "0   89.0  \n",
       "1   80.0  "
      ]
     },
     "execution_count": 13,
     "metadata": {},
     "output_type": "execute_result"
    }
   ],
   "source": [
    "merged_df = pd.merge(left = student_df, right = score_df, how = 'left', on = 'sno')\n",
    "print(f\"shape of this DF: {merged_df.shape}\")\n",
    "print(\"the first 2 rows:\")\n",
    "merged_df.head(2)"
   ]
  },
  {
   "cell_type": "markdown",
   "id": "d38f8d62",
   "metadata": {},
   "source": [
    "关于合并后的新表，列数一共10列。`student_df` 一共7列， `score_df` 一共4列，即：7 + 4 - 1，因为两个表都包含同样的一列 `sno`，所以需要减一。\n",
    "\n",
    "我们使用的是 `how='left'` 的方式进行的合并。行数一共44，这与 `student_df` 的列数一致。我们打印完整合并后的新表，可以发现，在`student_df`中包含但 `score_df` 中不包含的成绩相关的信息显示 NaN。\n",
    "\n",
    "接下来我们就可以使用各类其他分析方式，对这个新的大表进行数据分析，这里不再赘述。"
   ]
  }
 ],
 "metadata": {
  "kernelspec": {
   "display_name": "pyds",
   "language": "python",
   "name": "python3"
  },
  "language_info": {
   "codemirror_mode": {
    "name": "ipython",
    "version": 3
   },
   "file_extension": ".py",
   "mimetype": "text/x-python",
   "name": "python",
   "nbconvert_exporter": "python",
   "pygments_lexer": "ipython3",
   "version": "3.11.5"
  }
 },
 "nbformat": 4,
 "nbformat_minor": 5
}
