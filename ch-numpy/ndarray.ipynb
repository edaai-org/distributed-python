{
 "cells": [
  {
   "cell_type": "markdown",
   "id": "61d699fe",
   "metadata": {},
   "source": [
    "(numpy-ndarray)=\n",
    "# ndarray\n",
    "\n",
    "NumPy 最核心的数据结构是多维数组（N-dimensional Array）： `ndarray`。 `ndarray` 是由同一数据类型的数据组成的数组列表。"
   ]
  },
  {
   "cell_type": "code",
   "execution_count": 1,
   "id": "fc701292",
   "metadata": {
    "execution": {
     "iopub.execute_input": "2023-09-23T02:14:27.699471Z",
     "iopub.status.busy": "2023-09-23T02:14:27.699099Z",
     "iopub.status.idle": "2023-09-23T02:14:27.840514Z",
     "shell.execute_reply": "2023-09-23T02:14:27.839666Z"
    }
   },
   "outputs": [],
   "source": [
    "import numpy as np"
   ]
  },
  {
   "cell_type": "markdown",
   "metadata": {},
   "source": [
    "## 数组 array\n",
    "\n",
    "数组 array （或 `ndarray`） 是 NumPy 最为核心的数据结构。array 里的数据类型是一致的，比如都是整数还是浮点数，数据类型被记录在了 `dtype` 里。\n",
    "\n",
    "数组可以通过非负整数元组、布尔、另一个数组或整数进行索引。数组的秩 `rank` 是维数。数组的形状 `shape` 给出了数组在每个维度上的大小。\n",
    "\n",
    "生成一个 NumPy array 最简单的一种方法是从 Python 列表（list）开始。"
   ]
  },
  {
   "cell_type": "code",
   "execution_count": 2,
   "metadata": {},
   "outputs": [
    {
     "data": {
      "text/plain": [
       "array([1, 2, 3, 4])"
      ]
     },
     "execution_count": 2,
     "metadata": {},
     "output_type": "execute_result"
    }
   ],
   "source": [
    "# 数组 array\n",
    "arr1 = np.array([1, 2, 3, 4])\n",
    "arr1"
   ]
  },
  {
   "cell_type": "code",
   "execution_count": 3,
   "metadata": {},
   "outputs": [
    {
     "data": {
      "text/plain": [
       "array([[ 1,  2,  3,  4],\n",
       "       [ 5,  6,  7,  8],\n",
       "       [ 9, 10, 11, 12]])"
      ]
     },
     "execution_count": 3,
     "metadata": {},
     "output_type": "execute_result"
    }
   ],
   "source": [
    "arr2 = np.array([[1, 2, 3, 4], [5, 6, 7, 8], [9, 10, 11, 12]])\n",
    "arr2"
   ]
  },
  {
   "cell_type": "markdown",
   "metadata": {},
   "source": [
    "我们可以使用方括号来查找数组中的元素，查找元素的过程又被称为索引（Indexing）。 NumPy 中的索引从 0 开始：如果你想索引数组中的第一个元素，那就用 0 作为索引。"
   ]
  },
  {
   "cell_type": "code",
   "execution_count": 4,
   "metadata": {},
   "outputs": [
    {
     "name": "stdout",
     "output_type": "stream",
     "text": [
      "[1 2 3 4]\n"
     ]
    }
   ],
   "source": [
    "print(arr2[0])"
   ]
  },
  {
   "cell_type": "markdown",
   "metadata": {},
   "source": [
    "array 可以是一个数组，也可以是数组的数组，即高维数组。数组中的维数和项数由其形状 `shape` 决定。数组的形状 `shape` 是一组非负整数，指定每个维度的大小。\n",
    "\n",
    "在 NumPy 中，维度被称为轴线 `axes` 。\n",
    "\n",
    "例如，这有一个二维数组:\n",
    "\n",
    "```\n",
    "[[0., 0., 0.],\n",
    " [1., 1., 1.]]\n",
    "```\n",
    "\n",
    "这个数组有两个轴  `axes` 。第一轴的长度为 2 ，第二轴的长度为 3 。"
   ]
  },
  {
   "cell_type": "markdown",
   "id": "0bee596e",
   "metadata": {},
   "source": [
    "## 创建 `ndarray`\n",
    "\n",
    "array 的底层数据结构是 `ndarray`。\n",
    "\n",
    "`array()` 函数接收来自原生 Python 的各类数据，如列表、元组等，并转化为 `ndarray`；`array()` 函数也可以接收一个 NumPy 的 `ndarray`。数组中的数据类型必须是一致的。"
   ]
  },
  {
   "cell_type": "code",
   "execution_count": 5,
   "id": "154800db",
   "metadata": {
    "execution": {
     "iopub.execute_input": "2023-09-23T02:14:27.844982Z",
     "iopub.status.busy": "2023-09-23T02:14:27.844513Z",
     "iopub.status.idle": "2023-09-23T02:14:27.852500Z",
     "shell.execute_reply": "2023-09-23T02:14:27.851541Z"
    }
   },
   "outputs": [
    {
     "data": {
      "text/plain": [
       "array([1, 2, 3, 4])"
      ]
     },
     "execution_count": 5,
     "metadata": {},
     "output_type": "execute_result"
    }
   ],
   "source": [
    "# 列表 list\n",
    "ar1 = np.array([1,2,3,4])\n",
    "ar1"
   ]
  },
  {
   "cell_type": "code",
   "execution_count": 6,
   "id": "dc7931f8",
   "metadata": {
    "execution": {
     "iopub.execute_input": "2023-09-23T02:14:27.856321Z",
     "iopub.status.busy": "2023-09-23T02:14:27.856054Z",
     "iopub.status.idle": "2023-09-23T02:14:27.860735Z",
     "shell.execute_reply": "2023-09-23T02:14:27.859948Z"
    }
   },
   "outputs": [
    {
     "data": {
      "text/plain": [
       "array([1, 2, 3, 4])"
      ]
     },
     "execution_count": 6,
     "metadata": {},
     "output_type": "execute_result"
    }
   ],
   "source": [
    "# 元组 tuple\n",
    "ar2 = np.array((1,2,3,4))\n",
    "ar2"
   ]
  },
  {
   "cell_type": "markdown",
   "id": "49448406",
   "metadata": {},
   "source": [
    "## 数据类型：`dtype`\n",
    "\n",
    "在进一步深入了解各种创建 `ndarray` 的方式之前，我们需要了解一下数据类型的基础知识。计算机无法直接表征数值，其底层基于二进制表示数值，整数和浮点数（其实就是小数，计算机科学中一般称小数为浮点数）基于科学计数法，字符串是一个从整数到字符的映射。 NumPy 提供了不同的数据类型 `dtype`，不同的 `dtype` 所能表示的区间范围不同。比如，同为整数，就有以下几种类型，其所表示的数值区间差异较大。\n",
    "\n",
    "| dtype    \t| 区间                     \t|\n",
    "|----------\t|-----------------------\t|\n",
    "| np.int8  \t| -128 ~ 127            \t|\n",
    "| np.int16 \t| -32768 ~ 32767        \t|\n",
    "| np.int32 \t| $-2.1*10^9 \\sim 2.1*10 ^9$ \t|\n",
    "\n",
    "NumPy 所支持的数据类型主要有：\n",
    "\n",
    "* `np.bool_` ：布尔类型\n",
    "* `np.number` ：又细分为整数（比如 `np.int8` 等）和浮点类型（`np.float32` 等）。\n",
    "* `np.datetime64`：表示日期的数据类型\n",
    "* `np.character`：字符串类型\n",
    "\n",
    "这些数据类型往往都带有一个数字，比如 `np.int8`，数字表示这个数据类型占用了多少个比特（bit）的存储空间。1 个 bit 为一个 0/1 二进制。8 bit = 1 byte，即 8 比特位等于 1 个字节。\n",
    "\n",
    "根据上表，整数占用的存储空间越大，所能表示的数值范围越大。当我们编写简单的程序时，数值范围一般不会出现问题，但是当我们编写复杂的科学计算程序时，数值范围决定了计算的精度。例如，`np.int8` 只能表示 -128 ~ 127 范围的数值，超过这个数值的数字，如何被 `np.int8` 表示，存在较大不确定性，进而造成程序运行不准确。\n",
    "\n",
    "占用的 bit 越多，数据越精准，但也会使得对内存消耗越大。选择合适的数据类型有助于节省内存。刚刚接触数据类型的朋友，对于如何选择合适数据类型并不熟悉。大概可以按照如下准则：\n",
    "\n",
    "* 整数类型默认是 `np.int64`，但很多应用 `np.32` 就足够了。\n",
    "* 浮点数类型一般科学计算应用都使用 `np.float64`，深度学习类应用使用 `np.float32` 或者甚至更小的数据类型也足够了。\n",
    "\n",
    "## 创建特定的 `ndarray`\n",
    "\n",
    "### arange() 与 linspace()\n",
    "\n",
    "`arange()` 和 `linspace()` 函数可用于生成一个数值数组。数值从区间为 $[start,stop)$ 中选择，一般从 `start` 开始，到 `stop` 结束，在这个区间内生成一系列值。\n",
    "\n",
    "`arange()` 函数的常见形式：\n",
    "\n",
    "* `arange(stop)`\n",
    "* `arange(start, stop)`\n",
    "* `arange(start, stop, step)`\n",
    "\n",
    "其中，`step` 用于指定数值之间的间隔，默认为 1。\n",
    "\n",
    "以下两种方式是等效的。"
   ]
  },
  {
   "cell_type": "code",
   "execution_count": 7,
   "id": "2cdcfb21",
   "metadata": {
    "execution": {
     "iopub.execute_input": "2023-09-23T02:14:27.863752Z",
     "iopub.status.busy": "2023-09-23T02:14:27.863505Z",
     "iopub.status.idle": "2023-09-23T02:14:27.868915Z",
     "shell.execute_reply": "2023-09-23T02:14:27.868138Z"
    }
   },
   "outputs": [
    {
     "data": {
      "text/plain": [
       "array([0, 1, 2, 3, 4, 5, 6, 7, 8, 9])"
      ]
     },
     "execution_count": 7,
     "metadata": {},
     "output_type": "execute_result"
    }
   ],
   "source": [
    "np.arange(10)\n",
    "np.arange(stop=10)"
   ]
  },
  {
   "cell_type": "markdown",
   "id": "b2f3eae0",
   "metadata": {},
   "source": [
    "`linspace()` 函数生成 `num` 个均匀间隔的数值，也就是创建一个等差数列。常见形式：`linspace(start, stop, num)`。\n",
    "\n",
    "生成在 1 和 5 之间 5 个均匀间隔的数组："
   ]
  },
  {
   "cell_type": "code",
   "execution_count": 8,
   "id": "4a05b43b",
   "metadata": {
    "execution": {
     "iopub.execute_input": "2023-09-23T02:14:27.872613Z",
     "iopub.status.busy": "2023-09-23T02:14:27.872277Z",
     "iopub.status.idle": "2023-09-23T02:14:27.879506Z",
     "shell.execute_reply": "2023-09-23T02:14:27.878895Z"
    }
   },
   "outputs": [
    {
     "data": {
      "text/plain": [
       "array([1., 2., 3., 4., 5.])"
      ]
     },
     "execution_count": 8,
     "metadata": {},
     "output_type": "execute_result"
    }
   ],
   "source": [
    "a = np.linspace(1,5,5)\n",
    "a"
   ]
  },
  {
   "cell_type": "markdown",
   "id": "aa645e7b",
   "metadata": {},
   "source": [
    "### ones() 与 ones_like()\n",
    "\n",
    "`np.ones(shape)` 生成 `shape` 大小的、全为 1 数组。例如，生成 $3 \\times 3 \\times 6$ 的高维数组："
   ]
  },
  {
   "cell_type": "code",
   "execution_count": 9,
   "id": "ca7408c0",
   "metadata": {
    "execution": {
     "iopub.execute_input": "2023-09-23T02:14:27.882826Z",
     "iopub.status.busy": "2023-09-23T02:14:27.882516Z",
     "iopub.status.idle": "2023-09-23T02:14:27.889284Z",
     "shell.execute_reply": "2023-09-23T02:14:27.888622Z"
    }
   },
   "outputs": [
    {
     "data": {
      "text/plain": [
       "array([[[1., 1., 1., 1.],\n",
       "        [1., 1., 1., 1.],\n",
       "        [1., 1., 1., 1.]],\n",
       "\n",
       "       [[1., 1., 1., 1.],\n",
       "        [1., 1., 1., 1.],\n",
       "        [1., 1., 1., 1.]]], dtype=float32)"
      ]
     },
     "execution_count": 9,
     "metadata": {},
     "output_type": "execute_result"
    }
   ],
   "source": [
    "np.ones((2,3,4), dtype=np.float32)"
   ]
  },
  {
   "cell_type": "markdown",
   "id": "83ac9c3a",
   "metadata": {},
   "source": [
    "如果已经有一个多维数组 `a`，我们想根据这个数组 `a` 的形状生成一个全为 1 的数组："
   ]
  },
  {
   "cell_type": "code",
   "execution_count": 10,
   "id": "d071c196",
   "metadata": {
    "execution": {
     "iopub.execute_input": "2023-09-23T02:14:27.892517Z",
     "iopub.status.busy": "2023-09-23T02:14:27.892248Z",
     "iopub.status.idle": "2023-09-23T02:14:27.896955Z",
     "shell.execute_reply": "2023-09-23T02:14:27.896149Z"
    }
   },
   "outputs": [
    {
     "data": {
      "text/plain": [
       "array([1., 1., 1., 1., 1.])"
      ]
     },
     "execution_count": 10,
     "metadata": {},
     "output_type": "execute_result"
    }
   ],
   "source": [
    "np.ones_like(a)"
   ]
  },
  {
   "cell_type": "markdown",
   "id": "50aa7a97",
   "metadata": {},
   "source": [
    "### zeros() 与 zeros_like()\n",
    "\n",
    "`np.zeros()` 与 `np.ones()` 类似。`np.zeros(shape)` 生成 `shape` 大小的、全为 0 的数组。"
   ]
  },
  {
   "cell_type": "code",
   "execution_count": 11,
   "id": "69d14970",
   "metadata": {
    "execution": {
     "iopub.execute_input": "2023-09-23T02:14:27.900171Z",
     "iopub.status.busy": "2023-09-23T02:14:27.899883Z",
     "iopub.status.idle": "2023-09-23T02:14:27.904721Z",
     "shell.execute_reply": "2023-09-23T02:14:27.904155Z"
    }
   },
   "outputs": [
    {
     "data": {
      "text/plain": [
       "array([[[0., 0., 0., 0.],\n",
       "        [0., 0., 0., 0.],\n",
       "        [0., 0., 0., 0.]],\n",
       "\n",
       "       [[0., 0., 0., 0.],\n",
       "        [0., 0., 0., 0.],\n",
       "        [0., 0., 0., 0.]]])"
      ]
     },
     "execution_count": 11,
     "metadata": {},
     "output_type": "execute_result"
    }
   ],
   "source": [
    "np.zeros((2,3,4))"
   ]
  },
  {
   "cell_type": "markdown",
   "id": "97228004",
   "metadata": {},
   "source": [
    "如果已经有一个多维数组 `a`，我们想根据这个数组 `a` 的形状生成一个全为 0 的数组："
   ]
  },
  {
   "cell_type": "code",
   "execution_count": 12,
   "id": "4cf851df",
   "metadata": {
    "execution": {
     "iopub.execute_input": "2023-09-23T02:14:27.907821Z",
     "iopub.status.busy": "2023-09-23T02:14:27.907567Z",
     "iopub.status.idle": "2023-09-23T02:14:27.911745Z",
     "shell.execute_reply": "2023-09-23T02:14:27.910973Z"
    }
   },
   "outputs": [
    {
     "data": {
      "text/plain": [
       "array([0., 0., 0., 0., 0.])"
      ]
     },
     "execution_count": 12,
     "metadata": {},
     "output_type": "execute_result"
    }
   ],
   "source": [
    "np.zeros_like(a)"
   ]
  },
  {
   "cell_type": "markdown",
   "id": "1e1d83d4",
   "metadata": {},
   "source": [
    "### full() 与 full_like()\n",
    "\n",
    "`np.full(shape,val)` 生成 `shape` 大小的、全为 `val` 的数组，即数组中每个元素值都是 `val`。"
   ]
  },
  {
   "cell_type": "code",
   "execution_count": 13,
   "id": "32182b95",
   "metadata": {
    "execution": {
     "iopub.execute_input": "2023-09-23T02:14:27.914690Z",
     "iopub.status.busy": "2023-09-23T02:14:27.914439Z",
     "iopub.status.idle": "2023-09-23T02:14:27.919146Z",
     "shell.execute_reply": "2023-09-23T02:14:27.918174Z"
    }
   },
   "outputs": [
    {
     "data": {
      "text/plain": [
       "array([[[6, 6, 6, 6],\n",
       "        [6, 6, 6, 6],\n",
       "        [6, 6, 6, 6]],\n",
       "\n",
       "       [[6, 6, 6, 6],\n",
       "        [6, 6, 6, 6],\n",
       "        [6, 6, 6, 6]]])"
      ]
     },
     "execution_count": 13,
     "metadata": {},
     "output_type": "execute_result"
    }
   ],
   "source": [
    "np.full((2,3,4), 6)"
   ]
  },
  {
   "cell_type": "markdown",
   "id": "dbbcb0de",
   "metadata": {},
   "source": [
    "根据数组 `a` 的形状生成一个数组，元素值全为 `val`。这里生成一个全为 6 的数组："
   ]
  },
  {
   "cell_type": "code",
   "execution_count": 14,
   "id": "eac91e51",
   "metadata": {
    "execution": {
     "iopub.execute_input": "2023-09-23T02:14:27.922652Z",
     "iopub.status.busy": "2023-09-23T02:14:27.922362Z",
     "iopub.status.idle": "2023-09-23T02:14:27.926995Z",
     "shell.execute_reply": "2023-09-23T02:14:27.926158Z"
    }
   },
   "outputs": [
    {
     "data": {
      "text/plain": [
       "array([6., 6., 6., 6., 6.])"
      ]
     },
     "execution_count": 14,
     "metadata": {},
     "output_type": "execute_result"
    }
   ],
   "source": [
    "np.full_like(a, 6)"
   ]
  },
  {
   "cell_type": "markdown",
   "id": "14c67afe",
   "metadata": {},
   "source": [
    "### eye()\n",
    "\n",
    "`np.eye(n)` 创建一个 $n \\times n$ 单位矩阵，对角线为 1，其余为 0。"
   ]
  },
  {
   "cell_type": "code",
   "execution_count": 15,
   "id": "8ebe1377",
   "metadata": {
    "execution": {
     "iopub.execute_input": "2023-09-23T02:14:27.930247Z",
     "iopub.status.busy": "2023-09-23T02:14:27.929977Z",
     "iopub.status.idle": "2023-09-23T02:14:27.934585Z",
     "shell.execute_reply": "2023-09-23T02:14:27.933786Z"
    }
   },
   "outputs": [
    {
     "data": {
      "text/plain": [
       "array([[1., 0., 0.],\n",
       "       [0., 1., 0.],\n",
       "       [0., 0., 1.]])"
      ]
     },
     "execution_count": 15,
     "metadata": {},
     "output_type": "execute_result"
    }
   ],
   "source": [
    "np.eye(3)"
   ]
  },
  {
   "cell_type": "markdown",
   "id": "d3f93f7f",
   "metadata": {},
   "source": [
    "## 常用属性\n",
    "\n",
    "直接打印一个 `ndarray` 可以看到它的值、`dtype` 等属性。"
   ]
  },
  {
   "cell_type": "code",
   "execution_count": 16,
   "id": "33d477a9",
   "metadata": {
    "execution": {
     "iopub.execute_input": "2023-09-23T02:14:27.938488Z",
     "iopub.status.busy": "2023-09-23T02:14:27.938184Z",
     "iopub.status.idle": "2023-09-23T02:14:27.943942Z",
     "shell.execute_reply": "2023-09-23T02:14:27.942888Z"
    }
   },
   "outputs": [
    {
     "data": {
      "text/plain": [
       "array([[ 1,  1,  2,  3],\n",
       "       [ 4,  5,  6,  7],\n",
       "       [ 8,  9, 10, 11]])"
      ]
     },
     "execution_count": 16,
     "metadata": {},
     "output_type": "execute_result"
    }
   ],
   "source": [
    "ar = np.array([[1,1,2,3,],\n",
    "               [4,5,6,7],\n",
    "               [8,9,10,11]])\n",
    "ar"
   ]
  },
  {
   "cell_type": "markdown",
   "id": "fa1f3aa4",
   "metadata": {},
   "source": [
    "或者打印某些具体的属性。\n",
    "\n",
    "* ndim：多维数组的秩，或者说轴的数量，或者说数组有多少维度"
   ]
  },
  {
   "cell_type": "code",
   "execution_count": 17,
   "id": "7a848ead",
   "metadata": {
    "execution": {
     "iopub.execute_input": "2023-09-23T02:14:27.948362Z",
     "iopub.status.busy": "2023-09-23T02:14:27.948013Z",
     "iopub.status.idle": "2023-09-23T02:14:27.953403Z",
     "shell.execute_reply": "2023-09-23T02:14:27.952161Z"
    }
   },
   "outputs": [
    {
     "data": {
      "text/plain": [
       "2"
      ]
     },
     "execution_count": 17,
     "metadata": {},
     "output_type": "execute_result"
    }
   ],
   "source": [
    "ar.ndim"
   ]
  },
  {
   "cell_type": "markdown",
   "id": "18a3d721",
   "metadata": {},
   "source": [
    "* 数组的尺度"
   ]
  },
  {
   "cell_type": "code",
   "execution_count": 18,
   "id": "ef93dd8e",
   "metadata": {
    "execution": {
     "iopub.execute_input": "2023-09-23T02:14:27.956946Z",
     "iopub.status.busy": "2023-09-23T02:14:27.956651Z",
     "iopub.status.idle": "2023-09-23T02:14:27.961200Z",
     "shell.execute_reply": "2023-09-23T02:14:27.960462Z"
    }
   },
   "outputs": [
    {
     "data": {
      "text/plain": [
       "(3, 4)"
      ]
     },
     "execution_count": 18,
     "metadata": {},
     "output_type": "execute_result"
    }
   ],
   "source": [
    "ar.shape"
   ]
  },
  {
   "cell_type": "markdown",
   "id": "c9f584c0",
   "metadata": {},
   "source": [
    "* 数组中元素的个数"
   ]
  },
  {
   "cell_type": "code",
   "execution_count": 19,
   "id": "78c262b9",
   "metadata": {
    "execution": {
     "iopub.execute_input": "2023-09-23T02:14:27.964884Z",
     "iopub.status.busy": "2023-09-23T02:14:27.964593Z",
     "iopub.status.idle": "2023-09-23T02:14:27.969349Z",
     "shell.execute_reply": "2023-09-23T02:14:27.968302Z"
    }
   },
   "outputs": [
    {
     "data": {
      "text/plain": [
       "12"
      ]
     },
     "execution_count": 19,
     "metadata": {},
     "output_type": "execute_result"
    }
   ],
   "source": [
    "ar.size"
   ]
  },
  {
   "cell_type": "markdown",
   "id": "531cc159",
   "metadata": {},
   "source": [
    "* 元素的数据类型"
   ]
  },
  {
   "cell_type": "code",
   "execution_count": 20,
   "id": "158acc4e",
   "metadata": {
    "execution": {
     "iopub.execute_input": "2023-09-23T02:14:27.973241Z",
     "iopub.status.busy": "2023-09-23T02:14:27.972911Z",
     "iopub.status.idle": "2023-09-23T02:14:27.977542Z",
     "shell.execute_reply": "2023-09-23T02:14:27.976635Z"
    }
   },
   "outputs": [
    {
     "data": {
      "text/plain": [
       "dtype('int64')"
      ]
     },
     "execution_count": 20,
     "metadata": {},
     "output_type": "execute_result"
    }
   ],
   "source": [
    "ar.dtype"
   ]
  },
  {
   "cell_type": "markdown",
   "id": "522aee3e",
   "metadata": {},
   "source": [
    "* 每个元素的大小，以字节（Byte）为单位"
   ]
  },
  {
   "cell_type": "code",
   "execution_count": 21,
   "id": "691936aa",
   "metadata": {
    "execution": {
     "iopub.execute_input": "2023-09-23T02:14:27.981341Z",
     "iopub.status.busy": "2023-09-23T02:14:27.981040Z",
     "iopub.status.idle": "2023-09-23T02:14:27.985605Z",
     "shell.execute_reply": "2023-09-23T02:14:27.984741Z"
    }
   },
   "outputs": [
    {
     "data": {
      "text/plain": [
       "8"
      ]
     },
     "execution_count": 21,
     "metadata": {},
     "output_type": "execute_result"
    }
   ],
   "source": [
    "ar.itemsize"
   ]
  },
  {
   "cell_type": "markdown",
   "id": "4d8cb0b8",
   "metadata": {},
   "source": [
    "## 数组维度变换\n",
    "\n",
    "我们经常要对数据进行一些变换。\n",
    "\n",
    "### 不改变原数组\n",
    "\n",
    "* `reshape()` 函数\n",
    "\n",
    "`reshape(shape)` 函数，不改变数组的元素，根据 `shape` 形状，生成一个新的数组。"
   ]
  },
  {
   "cell_type": "code",
   "execution_count": 22,
   "id": "18aed250",
   "metadata": {
    "execution": {
     "iopub.execute_input": "2023-09-23T02:14:27.989513Z",
     "iopub.status.busy": "2023-09-23T02:14:27.989202Z",
     "iopub.status.idle": "2023-09-23T02:14:27.994596Z",
     "shell.execute_reply": "2023-09-23T02:14:27.993663Z"
    }
   },
   "outputs": [
    {
     "data": {
      "text/plain": [
       "array([[ 1,  1,  2,  3,  4,  5],\n",
       "       [ 6,  7,  8,  9, 10, 11]])"
      ]
     },
     "execution_count": 22,
     "metadata": {},
     "output_type": "execute_result"
    }
   ],
   "source": [
    "ar.reshape((2,6))"
   ]
  },
  {
   "cell_type": "markdown",
   "id": "78ad865e",
   "metadata": {},
   "source": [
    "* `flatten()` 函数\n",
    "\n",
    "`flatten()` 函数，对数组进行降维，将高维数组压缩成一个一维数组。"
   ]
  },
  {
   "cell_type": "code",
   "execution_count": 23,
   "id": "f5ada6b6",
   "metadata": {
    "execution": {
     "iopub.execute_input": "2023-09-23T02:14:27.998079Z",
     "iopub.status.busy": "2023-09-23T02:14:27.997712Z",
     "iopub.status.idle": "2023-09-23T02:14:28.001832Z",
     "shell.execute_reply": "2023-09-23T02:14:28.001301Z"
    }
   },
   "outputs": [
    {
     "data": {
      "text/plain": [
       "array([ 1,  1,  2,  3,  4,  5,  6,  7,  8,  9, 10, 11])"
      ]
     },
     "execution_count": 23,
     "metadata": {},
     "output_type": "execute_result"
    }
   ],
   "source": [
    "ar.flatten()"
   ]
  },
  {
   "cell_type": "markdown",
   "id": "fcb5795b",
   "metadata": {},
   "source": [
    "### 改变原数组\n",
    "\n",
    "* `resize()` 函数\n",
    "\n",
    "`resize(shape)` 函数，返回一个 `shape` 形状的数组，功能与 `reshape()` 函数一致，但是修改原数组。\n",
    "\n",
    ":::{note}\n",
    "当新数组可容纳数据少于原数据，按照原数据选择前 `shape` 个数据；如果多于，则新数组会按照原数组中的数据顺序进行填补。\n",
    ":::"
   ]
  },
  {
   "cell_type": "code",
   "execution_count": 24,
   "id": "788ebdbe",
   "metadata": {
    "execution": {
     "iopub.execute_input": "2023-09-23T02:14:28.005308Z",
     "iopub.status.busy": "2023-09-23T02:14:28.005017Z",
     "iopub.status.idle": "2023-09-23T02:14:28.009168Z",
     "shell.execute_reply": "2023-09-23T02:14:28.008630Z"
    }
   },
   "outputs": [
    {
     "data": {
      "text/plain": [
       "array([[1, 1, 2, 3, 4],\n",
       "       [5, 6, 7, 8, 9]])"
      ]
     },
     "execution_count": 24,
     "metadata": {},
     "output_type": "execute_result"
    }
   ],
   "source": [
    "ar_new = np.resize(ar, (2, 5))\n",
    "ar_new"
   ]
  },
  {
   "cell_type": "code",
   "execution_count": 25,
   "id": "e9dd6176",
   "metadata": {
    "execution": {
     "iopub.execute_input": "2023-09-23T02:14:28.012388Z",
     "iopub.status.busy": "2023-09-23T02:14:28.012091Z",
     "iopub.status.idle": "2023-09-23T02:14:28.016319Z",
     "shell.execute_reply": "2023-09-23T02:14:28.015807Z"
    }
   },
   "outputs": [
    {
     "data": {
      "text/plain": [
       "array([[ 1,  1,  2,  3,  4],\n",
       "       [ 5,  6,  7,  8,  9],\n",
       "       [10, 11,  1,  1,  2]])"
      ]
     },
     "execution_count": 25,
     "metadata": {},
     "output_type": "execute_result"
    }
   ],
   "source": [
    "ar_new = np.resize(ar, (3, 5))\n",
    "ar_new"
   ]
  },
  {
   "cell_type": "markdown",
   "id": "649fda2e",
   "metadata": {},
   "source": [
    "## 数据类型变换\n",
    "\n",
    "### `astype()`\n",
    "\n",
    "`astype(new_type)` 函数，对数组的数据类型进行类型变化，基于对原始数据的拷贝创建一个新的数组。比如，将 `np.int` 类型元素修改为 `np.float64` 类型："
   ]
  },
  {
   "cell_type": "code",
   "execution_count": 26,
   "id": "6a7ae15f",
   "metadata": {
    "execution": {
     "iopub.execute_input": "2023-09-23T02:14:28.019548Z",
     "iopub.status.busy": "2023-09-23T02:14:28.019240Z",
     "iopub.status.idle": "2023-09-23T02:14:28.023657Z",
     "shell.execute_reply": "2023-09-23T02:14:28.023140Z"
    }
   },
   "outputs": [
    {
     "data": {
      "text/plain": [
       "array([[ 1.,  1.,  2.,  3.],\n",
       "       [ 4.,  5.,  6.,  7.],\n",
       "       [ 8.,  9., 10., 11.]])"
      ]
     },
     "execution_count": 26,
     "metadata": {},
     "output_type": "execute_result"
    }
   ],
   "source": [
    "new_ar = ar.astype(np.float64)\n",
    "new_ar"
   ]
  },
  {
   "cell_type": "markdown",
   "id": "40d612d0",
   "metadata": {},
   "source": [
    "## 合并函数\n",
    "\n",
    "`np.concatenate()` 将两个或者多个数组合并成一个新数组。"
   ]
  },
  {
   "cell_type": "code",
   "execution_count": 27,
   "id": "d01912a7",
   "metadata": {
    "execution": {
     "iopub.execute_input": "2023-09-23T02:14:28.026765Z",
     "iopub.status.busy": "2023-09-23T02:14:28.026505Z",
     "iopub.status.idle": "2023-09-23T02:14:28.031406Z",
     "shell.execute_reply": "2023-09-23T02:14:28.030848Z"
    }
   },
   "outputs": [
    {
     "data": {
      "text/plain": [
       "array([1.        , 2.        , 3.        , 4.        , 5.        ,\n",
       "       1.        , 2.33333333, 3.66666667, 5.        , 6.33333333,\n",
       "       7.66666667, 9.        ])"
      ]
     },
     "execution_count": 27,
     "metadata": {},
     "output_type": "execute_result"
    }
   ],
   "source": [
    "b = np.linspace(1,9,7)\n",
    "\n",
    "c = np.concatenate((a,b)) #将 a,b 两个数组合并成为 c\n",
    "c"
   ]
  },
  {
   "cell_type": "markdown",
   "id": "e04e0e80",
   "metadata": {},
   "source": [
    "## `ndarray` 与 Python 列表的转换\n",
    "\n",
    "列表作为 Python 中原始的数据类型，运算速度慢于 NumPy。如果需要与原生 Python 语言相适配，需做转换："
   ]
  },
  {
   "cell_type": "code",
   "execution_count": 28,
   "id": "686db530",
   "metadata": {
    "execution": {
     "iopub.execute_input": "2023-09-23T02:14:28.034595Z",
     "iopub.status.busy": "2023-09-23T02:14:28.034319Z",
     "iopub.status.idle": "2023-09-23T02:14:28.038710Z",
     "shell.execute_reply": "2023-09-23T02:14:28.038102Z"
    }
   },
   "outputs": [
    {
     "data": {
      "text/plain": [
       "[[1, 1, 2, 3], [4, 5, 6, 7], [8, 9, 10, 11]]"
      ]
     },
     "execution_count": 28,
     "metadata": {},
     "output_type": "execute_result"
    }
   ],
   "source": [
    "ar.tolist()"
   ]
  }
 ],
 "metadata": {
  "kernelspec": {
   "display_name": "pyds",
   "language": "python",
   "name": "python3"
  },
  "language_info": {
   "codemirror_mode": {
    "name": "ipython",
    "version": 3
   },
   "file_extension": ".py",
   "mimetype": "text/x-python",
   "name": "python",
   "nbconvert_exporter": "python",
   "pygments_lexer": "ipython3",
   "version": "3.11.5"
  }
 },
 "nbformat": 4,
 "nbformat_minor": 5
}
