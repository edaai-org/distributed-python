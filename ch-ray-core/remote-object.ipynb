{
 "cells": [
  {
   "cell_type": "markdown",
   "id": "2df780af",
   "metadata": {
    "origin_pos": 0
   },
   "source": [
    "(sec-remote-object)=\n",
    "# 分布式对象存储\n",
    "\n",
    "Ray 分布式计算中涉及共享数据可被放在分布式对象存储（Distributed Ojbect Store）中，被放置在分布式对象存储中的数据被称为远程对象（Remote Object）中。我们可以使用 [`ray.get()`](https://docs.ray.io/en/latest/ray-core/api/doc/ray.get.html) 和 [`ray.put()`](https://docs.ray.io/en/latest/ray-core/api/doc/ray.put.html) 读写这些 Remote Object。与内存中的 Python 对象实例不同，Remote Object 是不可原地直接更改的（Immutable）。\n",
    "\n",
    "## `ray.put()` 与 `ray.get()`\n"
   ]
  },
  {
   "cell_type": "code",
   "execution_count": 1,
   "id": "e2c5d3c4",
   "metadata": {
    "execution": {
     "iopub.execute_input": "2023-08-14T10:28:17.780671Z",
     "iopub.status.busy": "2023-08-14T10:28:17.780313Z",
     "iopub.status.idle": "2023-08-14T10:28:29.825646Z",
     "shell.execute_reply": "2023-08-14T10:28:29.823916Z"
    },
    "origin_pos": 1,
    "tab": [
     "ray"
    ],
    "tags": [
     "hide-cell"
    ]
   },
   "outputs": [
    {
     "data": {
      "application/vnd.jupyter.widget-view+json": {
       "model_id": "13de9da91de34038b536ee817f7ce2fc",
       "version_major": 2,
       "version_minor": 0
      },
      "text/html": [
       "<div class=\"lm-Widget p-Widget lm-Panel p-Panel jp-Cell-outputWrapper\">\n",
       "    <div style=\"margin-left: 50px;display: flex;flex-direction: row;align-items: center\">\n",
       "        <div class=\"jp-RenderedHTMLCommon\" style=\"display: flex; flex-direction: row;\">\n",
       "  <svg viewBox=\"0 0 567 224\" fill=\"none\" xmlns=\"http://www.w3.org/2000/svg\" style=\"height: 3em;\">\n",
       "    <g clip-path=\"url(#clip0_4338_178347)\">\n",
       "        <path d=\"M341.29 165.561H355.29L330.13 129.051C345.63 123.991 354.21 112.051 354.21 94.2307C354.21 71.3707 338.72 58.1807 311.88 58.1807H271V165.561H283.27V131.661H311.8C314.25 131.661 316.71 131.501 319.01 131.351L341.25 165.561H341.29ZM283.29 119.851V70.0007H311.82C331.3 70.0007 342.34 78.2907 342.34 94.5507C342.34 111.271 331.34 119.861 311.82 119.861L283.29 119.851ZM451.4 138.411L463.4 165.561H476.74L428.74 58.1807H416L367.83 165.561H380.83L392.83 138.411H451.4ZM446.19 126.601H398L422 72.1407L446.24 126.601H446.19ZM526.11 128.741L566.91 58.1807H554.35L519.99 114.181L485.17 58.1807H472.44L514.01 129.181V165.541H526.13V128.741H526.11Z\" fill=\"var(--jp-ui-font-color0)\"/>\n",
       "        <path d=\"M82.35 104.44C84.0187 97.8827 87.8248 92.0678 93.1671 87.9146C98.5094 83.7614 105.083 81.5067 111.85 81.5067C118.617 81.5067 125.191 83.7614 130.533 87.9146C135.875 92.0678 139.681 97.8827 141.35 104.44H163.75C164.476 101.562 165.622 98.8057 167.15 96.2605L127.45 56.5605C121.071 60.3522 113.526 61.6823 106.235 60.3005C98.9443 58.9187 92.4094 54.9203 87.8602 49.0574C83.3109 43.1946 81.0609 35.8714 81.5332 28.4656C82.0056 21.0599 85.1679 14.0819 90.4252 8.8446C95.6824 3.60726 102.672 0.471508 110.08 0.0272655C117.487 -0.416977 124.802 1.86091 130.647 6.4324C136.493 11.0039 140.467 17.5539 141.821 24.8501C143.175 32.1463 141.816 39.6859 138 46.0505L177.69 85.7505C182.31 82.9877 187.58 81.4995 192.962 81.4375C198.345 81.3755 203.648 82.742 208.33 85.3976C213.012 88.0532 216.907 91.9029 219.616 96.5544C222.326 101.206 223.753 106.492 223.753 111.875C223.753 117.258 222.326 122.545 219.616 127.197C216.907 131.848 213.012 135.698 208.33 138.353C203.648 141.009 198.345 142.375 192.962 142.313C187.58 142.251 182.31 140.763 177.69 138L138 177.7C141.808 184.071 143.155 191.614 141.79 198.91C140.424 206.205 136.44 212.75 130.585 217.313C124.731 221.875 117.412 224.141 110.004 223.683C102.596 223.226 95.6103 220.077 90.3621 214.828C85.1139 209.58 81.9647 202.595 81.5072 195.187C81.0497 187.779 83.3154 180.459 87.878 174.605C92.4405 168.751 98.9853 164.766 106.281 163.401C113.576 162.035 121.119 163.383 127.49 167.19L167.19 127.49C165.664 124.941 164.518 122.182 163.79 119.3H141.39C139.721 125.858 135.915 131.673 130.573 135.826C125.231 139.98 118.657 142.234 111.89 142.234C105.123 142.234 98.5494 139.98 93.2071 135.826C87.8648 131.673 84.0587 125.858 82.39 119.3H60C58.1878 126.495 53.8086 132.78 47.6863 136.971C41.5641 141.163 34.1211 142.972 26.7579 142.059C19.3947 141.146 12.6191 137.574 7.70605 132.014C2.79302 126.454 0.0813599 119.29 0.0813599 111.87C0.0813599 104.451 2.79302 97.2871 7.70605 91.7272C12.6191 86.1673 19.3947 82.5947 26.7579 81.6817C34.1211 80.7686 41.5641 82.5781 47.6863 86.7696C53.8086 90.9611 58.1878 97.2456 60 104.44H82.35ZM100.86 204.32C103.407 206.868 106.759 208.453 110.345 208.806C113.93 209.159 117.527 208.258 120.522 206.256C123.517 204.254 125.725 201.276 126.771 197.828C127.816 194.38 127.633 190.677 126.253 187.349C124.874 184.021 122.383 181.274 119.205 179.577C116.027 177.88 112.359 177.337 108.826 178.042C105.293 178.746 102.113 180.654 99.8291 183.44C97.5451 186.226 96.2979 189.718 96.3 193.32C96.2985 195.364 96.7006 197.388 97.4831 199.275C98.2656 201.163 99.4132 202.877 100.86 204.32ZM204.32 122.88C206.868 120.333 208.453 116.981 208.806 113.396C209.159 109.811 208.258 106.214 206.256 103.219C204.254 100.223 201.275 98.0151 197.827 96.97C194.38 95.9249 190.676 96.1077 187.348 97.4873C184.02 98.8669 181.274 101.358 179.577 104.536C177.879 107.714 177.337 111.382 178.041 114.915C178.746 118.448 180.653 121.627 183.439 123.911C186.226 126.195 189.717 127.443 193.32 127.44C195.364 127.443 197.388 127.042 199.275 126.259C201.163 125.476 202.878 124.328 204.32 122.88ZM122.88 19.4205C120.333 16.8729 116.981 15.2876 113.395 14.9347C109.81 14.5817 106.213 15.483 103.218 17.4849C100.223 19.4868 98.0146 22.4654 96.9696 25.9131C95.9245 29.3608 96.1073 33.0642 97.4869 36.3922C98.8665 39.7202 101.358 42.4668 104.535 44.1639C107.713 45.861 111.381 46.4036 114.914 45.6992C118.447 44.9949 121.627 43.0871 123.911 40.301C126.195 37.515 127.442 34.0231 127.44 30.4205C127.44 28.3772 127.038 26.3539 126.255 24.4664C125.473 22.5788 124.326 20.8642 122.88 19.4205ZM19.42 100.86C16.8725 103.408 15.2872 106.76 14.9342 110.345C14.5813 113.93 15.4826 117.527 17.4844 120.522C19.4863 123.518 22.4649 125.726 25.9127 126.771C29.3604 127.816 33.0638 127.633 36.3918 126.254C39.7198 124.874 42.4664 122.383 44.1635 119.205C45.8606 116.027 46.4032 112.359 45.6988 108.826C44.9944 105.293 43.0866 102.114 40.3006 99.8296C37.5145 97.5455 34.0227 96.2983 30.42 96.3005C26.2938 96.3018 22.337 97.9421 19.42 100.86ZM100.86 100.86C98.3125 103.408 96.7272 106.76 96.3742 110.345C96.0213 113.93 96.9226 117.527 98.9244 120.522C100.926 123.518 103.905 125.726 107.353 126.771C110.8 127.816 114.504 127.633 117.832 126.254C121.16 124.874 123.906 122.383 125.604 119.205C127.301 116.027 127.843 112.359 127.139 108.826C126.434 105.293 124.527 102.114 121.741 99.8296C118.955 97.5455 115.463 96.2983 111.86 96.3005C109.817 96.299 107.793 96.701 105.905 97.4835C104.018 98.2661 102.303 99.4136 100.86 100.86Z\" fill=\"#00AEEF\"/>\n",
       "    </g>\n",
       "    <defs>\n",
       "        <clipPath id=\"clip0_4338_178347\">\n",
       "            <rect width=\"566.93\" height=\"223.75\" fill=\"white\"/>\n",
       "        </clipPath>\n",
       "    </defs>\n",
       "  </svg>\n",
       "</div>\n",
       "\n",
       "        <table class=\"jp-RenderedHTMLCommon\" style=\"border-collapse: collapse;color: var(--jp-ui-font-color1);font-size: var(--jp-ui-font-size1);\">\n",
       "    <tr>\n",
       "        <td style=\"text-align: left\"><b>Python version:</b></td>\n",
       "        <td style=\"text-align: left\"><b>3.10.9</b></td>\n",
       "    </tr>\n",
       "    <tr>\n",
       "        <td style=\"text-align: left\"><b>Ray version:</b></td>\n",
       "        <td style=\"text-align: left\"><b>2.7.0</b></td>\n",
       "    </tr>\n",
       "    <tr>\n",
       "    <td style=\"text-align: left\"><b>Dashboard:</b></td>\n",
       "    <td style=\"text-align: left\"><b><a href=\"http://127.0.0.1:8265\" target=\"_blank\">http://127.0.0.1:8265</a></b></td>\n",
       "</tr>\n",
       "\n",
       "</table>\n",
       "\n",
       "    </div>\n",
       "</div>\n"
      ],
      "text/plain": [
       "RayContext(dashboard_url='127.0.0.1:8265', python_version='3.10.9', ray_version='2.7.0', ray_commit='b4bba4717f5ba04ee25580fe8f88eed63ef0c5dc', protocol_version=None)"
      ]
     },
     "execution_count": 1,
     "metadata": {},
     "output_type": "execute_result"
    }
   ],
   "source": [
    "import logging\n",
    "import random\n",
    "from typing import Tuple\n",
    "import numpy as np\n",
    "import pandas as pd\n",
    "import ray\n",
    "import torch\n",
    "\n",
    "if ray.is_initialized:\n",
    "    ray.shutdown()\n",
    "ray.init(logging_level=logging.ERROR)"
   ]
  },
  {
   "cell_type": "markdown",
   "id": "67a36ab9",
   "metadata": {
    "origin_pos": 2
   },
   "source": [
    "如 {numref}`fig-put-get-object-store` 所示，操作 Remote Object 主要有 `ray.put()` 和 `ray.get()` 两个 API。\n",
    "\n",
    "* `ray.put()` 把某个计算节点中的对象数据进行序列化，并将其写入到 Ray 集群的分布式对象存储中，返回一个 `RefObjectID`，`RefObjectID` 是指向这个 Remote Object 的指针。我们可以通过引用这个 `RefObjectID`，在 Remote Function 或 Remote Class 中分布式地使用这个数据对象。\n",
    "\n",
    "* `ray.get()` 使用 `RefObjectID` 把数据从分布式对象存储中拉取回来，并进行反序列化。\n",
    "\n",
    "```{figure} ../img/ch-ray-core/put-get-object-store.svg\n",
    "---\n",
    "width: 800px\n",
    "name: fig-put-get-object-store\n",
    "---\n",
    "Ray 分布式对象存储示意图\n",
    "```"
   ]
  },
  {
   "cell_type": "code",
   "execution_count": 2,
   "id": "36f23339",
   "metadata": {
    "execution": {
     "iopub.execute_input": "2023-08-14T10:28:29.923015Z",
     "iopub.status.busy": "2023-08-14T10:28:29.920703Z",
     "iopub.status.idle": "2023-08-14T10:28:30.049972Z",
     "shell.execute_reply": "2023-08-14T10:28:30.048254Z"
    },
    "origin_pos": 3,
    "tab": [
     "ray"
    ]
   },
   "outputs": [
    {
     "data": {
      "text/plain": [
       "(ObjectRef(00ffffffffffffffffffffffffffffffffffffff0100000001e1f505), 15)"
      ]
     },
     "execution_count": 2,
     "metadata": {},
     "output_type": "execute_result"
    }
   ],
   "source": [
    "def create_rand_tensor(size: Tuple[int, int, int]) -> torch.tensor:\n",
    "    return torch.randn(size=(size), dtype=torch.float)\n",
    "\n",
    "torch.manual_seed(42)\n",
    "# 创建 16 个张量，每个张量大小为 (X, 8, 8)\n",
    "tensor_obj_ref_list = [ray.put(create_rand_tensor((i, 8, 8))) for i in range(1, 16)]\n",
    "tensor_obj_ref_list[0], len(tensor_obj_ref_list)"
   ]
  },
  {
   "cell_type": "markdown",
   "id": "c2a39402",
   "metadata": {
    "origin_pos": 4
   },
   "source": [
    "使用 `ray.get()` 从分布式对象存储中拉取数据。\n"
   ]
  },
  {
   "cell_type": "code",
   "execution_count": 3,
   "id": "c5213a29",
   "metadata": {
    "execution": {
     "iopub.execute_input": "2023-08-14T10:28:30.058352Z",
     "iopub.status.busy": "2023-08-14T10:28:30.057488Z",
     "iopub.status.idle": "2023-08-14T10:28:30.143564Z",
     "shell.execute_reply": "2023-08-14T10:28:30.141538Z"
    },
    "origin_pos": 5,
    "tab": [
     "ray"
    ]
   },
   "outputs": [
    {
     "data": {
      "text/plain": [
       "(torch.Size([1, 8, 8]),\n",
       " tensor([[[ 1.9269,  1.4873,  0.9007, -2.1055,  0.6784, -1.2345, -0.0431,\n",
       "           -1.6047],\n",
       "          [-0.7521,  1.6487, -0.3925, -1.4036, -0.7279, -0.5594, -0.7688,\n",
       "            0.7624],\n",
       "          [ 1.6423, -0.1596, -0.4974,  0.4396, -0.7581,  1.0783,  0.8008,\n",
       "            1.6806],\n",
       "          [ 1.2791,  1.2964,  0.6105,  1.3347, -0.2316,  0.0418, -0.2516,\n",
       "            0.8599],\n",
       "          [-1.3847, -0.8712, -0.2234,  1.7174,  0.3189, -0.4245,  0.3057,\n",
       "           -0.7746],\n",
       "          [-1.5576,  0.9956, -0.8798, -0.6011, -1.2742,  2.1228, -1.2347,\n",
       "           -0.4879],\n",
       "          [-0.9138, -0.6581,  0.0780,  0.5258, -0.4880,  1.1914, -0.8140,\n",
       "           -0.7360],\n",
       "          [-1.4032,  0.0360, -0.0635,  0.6756, -0.0978,  1.8446, -1.1845,\n",
       "            1.3835]]]))"
      ]
     },
     "execution_count": 3,
     "metadata": {},
     "output_type": "execute_result"
    }
   ],
   "source": [
    "val = ray.get(tensor_obj_ref_list[0])\n",
    "val.size(), val"
   ]
  },
  {
   "cell_type": "markdown",
   "id": "b22646c2",
   "metadata": {
    "origin_pos": 6
   },
   "source": [
    "或者把 `ObjectRefID` 列表的所有对象都拉取过来："
   ]
  },
  {
   "cell_type": "code",
   "execution_count": 4,
   "id": "5666eb01",
   "metadata": {
    "execution": {
     "iopub.execute_input": "2023-08-14T10:28:30.151842Z",
     "iopub.status.busy": "2023-08-14T10:28:30.150853Z",
     "iopub.status.idle": "2023-08-14T10:28:30.167409Z",
     "shell.execute_reply": "2023-08-14T10:28:30.165680Z"
    },
    "origin_pos": 7,
    "tab": [
     "ray"
    ]
   },
   "outputs": [
    {
     "data": {
      "text/plain": [
       "(torch.Size([1, 8, 8]),\n",
       " tensor([[[ 1.9269,  1.4873,  0.9007, -2.1055,  0.6784, -1.2345, -0.0431,\n",
       "           -1.6047],\n",
       "          [-0.7521,  1.6487, -0.3925, -1.4036, -0.7279, -0.5594, -0.7688,\n",
       "            0.7624],\n",
       "          [ 1.6423, -0.1596, -0.4974,  0.4396, -0.7581,  1.0783,  0.8008,\n",
       "            1.6806],\n",
       "          [ 1.2791,  1.2964,  0.6105,  1.3347, -0.2316,  0.0418, -0.2516,\n",
       "            0.8599],\n",
       "          [-1.3847, -0.8712, -0.2234,  1.7174,  0.3189, -0.4245,  0.3057,\n",
       "           -0.7746],\n",
       "          [-1.5576,  0.9956, -0.8798, -0.6011, -1.2742,  2.1228, -1.2347,\n",
       "           -0.4879],\n",
       "          [-0.9138, -0.6581,  0.0780,  0.5258, -0.4880,  1.1914, -0.8140,\n",
       "           -0.7360],\n",
       "          [-1.4032,  0.0360, -0.0635,  0.6756, -0.0978,  1.8446, -1.1845,\n",
       "            1.3835]]]))"
      ]
     },
     "execution_count": 4,
     "metadata": {},
     "output_type": "execute_result"
    }
   ],
   "source": [
    "results = ray.get(tensor_obj_ref_list)\n",
    "results[0].size(), results[0]"
   ]
  },
  {
   "cell_type": "markdown",
   "id": "e6e4638d",
   "metadata": {
    "origin_pos": 8
   },
   "source": [
    "## 案例：对数据进行转换\n",
    "\n",
    "Remote Ojbect 中的数据是不可修改的（Immutable），即无法对变量原地更改。下面的代码中，在单机上，我们可以对变量 `a` 进行赋值；但在 Ray 中，我们无法原地更改 Remote Object 的值。"
   ]
  },
  {
   "cell_type": "code",
   "execution_count": 5,
   "id": "207b8a90",
   "metadata": {
    "execution": {
     "iopub.execute_input": "2023-08-14T10:28:30.174491Z",
     "iopub.status.busy": "2023-08-14T10:28:30.173991Z",
     "iopub.status.idle": "2023-08-14T10:28:30.189453Z",
     "shell.execute_reply": "2023-08-14T10:28:30.187820Z"
    },
    "origin_pos": 9,
    "tab": [
     "ray"
    ]
   },
   "outputs": [
    {
     "data": {
      "text/plain": [
       "tensor([[[1., 1., 1., 1., 1., 1., 1., 1.],\n",
       "         [1., 1., 1., 1., 1., 1., 1., 1.],\n",
       "         [1., 1., 1., 1., 1., 1., 1., 1.],\n",
       "         [1., 1., 1., 1., 1., 1., 1., 1.],\n",
       "         [1., 1., 1., 1., 1., 1., 1., 1.],\n",
       "         [1., 1., 1., 1., 1., 1., 1., 1.],\n",
       "         [1., 1., 1., 1., 1., 1., 1., 1.],\n",
       "         [1., 1., 1., 1., 1., 1., 1., 1.]]])"
      ]
     },
     "execution_count": 5,
     "metadata": {},
     "output_type": "execute_result"
    }
   ],
   "source": [
    "a = torch.rand(size=(1, 8, 8))\n",
    "a[0] = torch.ones(8, 8)\n",
    "a"
   ]
  },
  {
   "cell_type": "markdown",
   "id": "9c3d6a28",
   "metadata": {
    "origin_pos": 10
   },
   "source": [
    "如果我们想使用新数据，应该使用 Remote Function 或者 Remote Class 对 Remote Object 进行转换操作，生成新的 Remote Object。"
   ]
  },
  {
   "cell_type": "code",
   "execution_count": 6,
   "id": "4d60543b",
   "metadata": {
    "execution": {
     "iopub.execute_input": "2023-08-14T10:28:30.197431Z",
     "iopub.status.busy": "2023-08-14T10:28:30.196825Z",
     "iopub.status.idle": "2023-08-14T10:28:30.310122Z",
     "shell.execute_reply": "2023-08-14T10:28:30.241418Z"
    },
    "origin_pos": 11,
    "tab": [
     "ray"
    ]
   },
   "outputs": [
    {
     "data": {
      "text/plain": [
       "28"
      ]
     },
     "execution_count": 6,
     "metadata": {},
     "output_type": "execute_result"
    }
   ],
   "source": [
    "@ray.remote\n",
    "def transform_tensor(tensor: torch.tensor) -> torch.tensor:\n",
    "    return torch.transpose(tensor, 0, 1)\n",
    "\n",
    "transformed_object_list = [transform_tensor.remote(t_obj_ref) for t_obj_ref in tensor_obj_ref_list]\n",
    "transformed_object_list[0].size()"
   ]
  },
  {
   "cell_type": "markdown",
   "id": "717f92e7",
   "metadata": {
    "origin_pos": 12
   },
   "source": [
    "## 传递参数\n",
    "\n",
    "Remote Object 可以通过 `RefObjectID` 在 Task、Actor 之间传递。\n",
    "\n",
    "### 直接传递\n",
    "\n",
    "直接传递指在 Task 或者 Actor 的函数调用时将 `RefObjectID` 作为参数传递进去。在下面这个例子中，`x_obj_ref` 是一个 `RefObjectID` ，`echo()` 这个 Remote Function 将自动从 `x_obj_ref` 获取 `x` 的值。这个自动获取值的过程被称为自动反引用（De-referenced）。"
   ]
  },
  {
   "cell_type": "code",
   "execution_count": 7,
   "id": "f43bc75f",
   "metadata": {
    "execution": {
     "iopub.execute_input": "2023-08-14T10:28:30.324410Z",
     "iopub.status.busy": "2023-08-14T10:28:30.323995Z",
     "iopub.status.idle": "2023-08-14T10:28:30.338087Z",
     "shell.execute_reply": "2023-08-14T10:28:30.335736Z"
    },
    "origin_pos": 13,
    "tab": [
     "ray"
    ]
   },
   "outputs": [
    {
     "data": {
      "text/plain": [
       "ObjectRef(00ffffffffffffffffffffffffffffffffffffff0100000010e1f505)"
      ]
     },
     "execution_count": 7,
     "metadata": {},
     "output_type": "execute_result"
    }
   ],
   "source": [
    "@ray.remote\n",
    "def echo(x):\n",
    "    print(f\"current value of argument x: {x}\")\n",
    "    return x\n",
    "\n",
    "x = list(range(5))\n",
    "x_obj_ref = ray.put(x)\n",
    "x_obj_ref"
   ]
  },
  {
   "cell_type": "code",
   "execution_count": 8,
   "id": "7f993426",
   "metadata": {
    "execution": {
     "iopub.execute_input": "2023-08-14T10:28:30.345571Z",
     "iopub.status.busy": "2023-08-14T10:28:30.344803Z",
     "iopub.status.idle": "2023-08-14T10:28:34.985166Z",
     "shell.execute_reply": "2023-08-14T10:28:34.983544Z"
    },
    "origin_pos": 14,
    "tab": [
     "ray"
    ]
   },
   "outputs": [
    {
     "data": {
      "text/plain": [
       "[0, 1, 2, 3, 4]"
      ]
     },
     "execution_count": 8,
     "metadata": {},
     "output_type": "execute_result"
    }
   ],
   "source": [
    "ray.get(echo.remote(x_obj_ref))"
   ]
  },
  {
   "cell_type": "code",
   "execution_count": 9,
   "id": "9a01df1e",
   "metadata": {
    "execution": {
     "iopub.execute_input": "2023-08-14T10:28:34.991259Z",
     "iopub.status.busy": "2023-08-14T10:28:34.990728Z",
     "iopub.status.idle": "2023-08-14T10:28:35.001069Z",
     "shell.execute_reply": "2023-08-14T10:28:34.999410Z"
    },
    "origin_pos": 15,
    "tab": [
     "ray"
    ]
   },
   "outputs": [
    {
     "name": "stdout",
     "output_type": "stream",
     "text": [
      "\u001b[2m\u001b[36m(echo pid=22623)\u001b[0m current value of argument x: [0, 1, 2, 3, 4]\n"
     ]
    },
    {
     "data": {
      "text/plain": [
       "[0, 1, 2, 3, 4]"
      ]
     },
     "execution_count": 9,
     "metadata": {},
     "output_type": "execute_result"
    }
   ],
   "source": [
    "ray.get(echo.remote(x))"
   ]
  },
  {
   "cell_type": "markdown",
   "id": "5d8bc13a",
   "metadata": {
    "origin_pos": 16
   },
   "source": [
    "### 复杂数据结构\n",
    "\n",
    "如果 `RefObjectID` 被包裹在一个复杂的数据结构中，Ray 并不会自动获取 `RefObjectID` 对应的值，即 De-referenced 并不是自动的。复杂数据结构包括：\n",
    "\n",
    "* `RefObjectID` 被包裹在一个 `dict` 中，比如：`.remote({\"obj\": x_obj_ref})`\n",
    "* `RefObjectID` 被包裹在一个 `list` 中，比如：`.remote([x_obj_ref])`"
   ]
  },
  {
   "cell_type": "code",
   "execution_count": 10,
   "id": "be3fb0e0",
   "metadata": {
    "execution": {
     "iopub.execute_input": "2023-08-14T10:28:35.005203Z",
     "iopub.status.busy": "2023-08-14T10:28:35.004680Z",
     "iopub.status.idle": "2023-08-14T10:28:35.016134Z",
     "shell.execute_reply": "2023-08-14T10:28:35.014778Z"
    },
    "origin_pos": 17,
    "tab": [
     "ray"
    ]
   },
   "outputs": [
    {
     "data": {
      "text/plain": [
       "{'obj': ObjectRef(00ffffffffffffffffffffffffffffffffffffff0100000010000000)}"
      ]
     },
     "execution_count": 10,
     "metadata": {},
     "output_type": "execute_result"
    },
    {
     "name": "stdout",
     "output_type": "stream",
     "text": [
      "\u001b[2m\u001b[36m(echo pid=22630)\u001b[0m current value of argument x: [0, 1, 2, 3, 4]\n"
     ]
    },
    {
     "data": {
      "text/plain": [
       "{'obj': ObjectRef(00ffffffffffffffffffffffffffffffffffffff0100000010e1f505)}"
      ]
     },
     "execution_count": 10,
     "metadata": {},
     "output_type": "execute_result"
    }
   ],
   "source": [
    "ray.get(echo.remote({\"obj\": x_obj_ref}))"
   ]
  },
  {
   "cell_type": "code",
   "execution_count": 11,
   "id": "19ee5717",
   "metadata": {
    "execution": {
     "iopub.execute_input": "2023-08-14T10:28:35.020425Z",
     "iopub.status.busy": "2023-08-14T10:28:35.020061Z",
     "iopub.status.idle": "2023-08-14T10:28:35.029955Z",
     "shell.execute_reply": "2023-08-14T10:28:35.029113Z"
    },
    "origin_pos": 18,
    "tab": [
     "ray"
    ]
   },
   "outputs": [
    {
     "name": "stdout",
     "output_type": "stream",
     "text": [
      "\u001b[2m\u001b[36m(echo pid=70968)\u001b[0m current value of argument x: [0, 1, 2, 3, 4]\n",
      "\u001b[2m\u001b[36m(echo pid=70962)\u001b[0m current value of argument x: [0, 1, 2, 3, 4]\n",
      "\u001b[2m\u001b[36m(echo pid=70963)\u001b[0m current value of argument x: {'obj': ObjectRef(00ffffffffffffffffffffffffffffffffffffff0100000010000000)}\n",
      "\u001b[2m\u001b[36m(echo pid=70963)\u001b[0m current value of argument x: [ObjectRef(00ffffffffffffffffffffffffffffffffffffff0100000010000000)]\n"
     ]
    },
    {
     "data": {
      "text/plain": [
       "[ObjectRef(00ffffffffffffffffffffffffffffffffffffff0100000010000000)]"
      ]
     },
     "execution_count": 11,
     "metadata": {},
     "output_type": "execute_result"
    },
    {
     "name": "stdout",
     "output_type": "stream",
     "text": [
      "\u001b[2m\u001b[36m(echo pid=22630)\u001b[0m current value of argument x: {'obj': ObjectRef(00ffffffffffffffffffffffffffffffffffffff0100000010e1f505)}\n"
     ]
    },
    {
     "data": {
      "text/plain": [
       "[ObjectRef(00ffffffffffffffffffffffffffffffffffffff0100000010e1f505)]"
      ]
     },
     "execution_count": 11,
     "metadata": {},
     "output_type": "execute_result"
    }
   ],
   "source": [
    "ray.get(echo.remote([x_obj_ref]))"
   ]
  },
  {
   "cell_type": "markdown",
   "id": "693e64d2",
   "metadata": {
    "origin_pos": 19
   },
   "source": [
    "## 底层实现\n",
    "\n",
    "Ray 集群的每个计算节点都有一个基于共享内存的对象存储， Remote Object 的数据会存储在集群某个或者某些计算节点的对象存储中，所有计算节点的共享内存共同组成了分布式对象存储。\n",
    "\n",
    "当某个 Remote Object 的数据量较小时（<= 100 KB），它会被存储在计算节点进程内存中；当数据量较大时，它会被存储在分布式的共享内存中；当集群的共享内存的空间不够时，数据会被外溢（Spill）到持久化的存储上，比如硬盘或者S3。"
   ]
  },
  {
   "cell_type": "code",
   "execution_count": 12,
   "id": "b19d6dc4",
   "metadata": {
    "execution": {
     "iopub.execute_input": "2023-08-14T10:28:35.033400Z",
     "iopub.status.busy": "2023-08-14T10:28:35.033105Z",
     "iopub.status.idle": "2023-08-14T10:28:37.705302Z",
     "shell.execute_reply": "2023-08-14T10:28:37.703637Z"
    },
    "origin_pos": 20,
    "tab": [
     "ray"
    ]
   },
   "outputs": [],
   "source": [
    "ray.shutdown()"
   ]
  }
 ],
 "metadata": {
  "kernelspec": {
   "display_name": "tpch",
   "language": "python",
   "name": "python3"
  },
  "language_info": {
   "codemirror_mode": {
    "name": "ipython",
    "version": 3
   },
   "file_extension": ".py",
   "mimetype": "text/x-python",
   "name": "python",
   "nbconvert_exporter": "python",
   "pygments_lexer": "ipython3",
   "version": "3.10.9"
  },
  "required_libs": []
 },
 "nbformat": 4,
 "nbformat_minor": 5
}
