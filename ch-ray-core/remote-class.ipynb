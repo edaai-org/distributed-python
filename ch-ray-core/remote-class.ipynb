{
 "cells": [
  {
   "cell_type": "markdown",
   "id": "0dbf8b97",
   "metadata": {
    "origin_pos": 0
   },
   "source": [
    "(sec-remote-class)=\n",
    "# 分布式类\n",
    "\n",
    "{numref}`sec-remote-function` 展示了如何将一个无状态的函数扩展到 Ray 集群上进行分布式计算，但实际的场景中，我们经常需要进行有状态的计算。最简单的有状态计算包括维护一个计数器，每遇到某种条件，计数器加一。这类有状态的计算对于给定的输入，不一定得到确定的输出。单机场景我们可以使用 Python 的类（Class）来实现，计数器可作为类的成员变量。Ray 可以将 Python 类拓展到集群上，即远程类（Remote Class），又被称为行动者（Actor）。Actor 的名字来自 Actor 编程模型 {cite}`hewitt1973Universal` ，这是一个典型的分布式计算编程模型，被广泛应用在大数据和人工智能领域，但 Actor 编程模型比较抽象，我们先从计数器的案例来入手。\n",
    "\n",
    "## 案例：分布式计数器"
   ]
  },
  {
   "cell_type": "code",
   "execution_count": 1,
   "id": "c158da7a",
   "metadata": {
    "execution": {
     "iopub.execute_input": "2023-08-14T10:28:19.639823Z",
     "iopub.status.busy": "2023-08-14T10:28:19.639437Z",
     "iopub.status.idle": "2023-08-14T10:28:26.747308Z",
     "shell.execute_reply": "2023-08-14T10:28:26.745809Z"
    },
    "origin_pos": 1,
    "tab": [
     "ray"
    ],
    "tags": [
     "hide-cell"
    ]
   },
   "outputs": [
    {
     "data": {
      "application/vnd.jupyter.widget-view+json": {
       "model_id": "05fad1c7643f4f028f2ee9cb6097f749",
       "version_major": 2,
       "version_minor": 0
      },
      "text/html": [
       "<div class=\"lm-Widget p-Widget lm-Panel p-Panel jp-Cell-outputWrapper\">\n",
       "    <div style=\"margin-left: 50px;display: flex;flex-direction: row;align-items: center\">\n",
       "        <div class=\"jp-RenderedHTMLCommon\" style=\"display: flex; flex-direction: row;\">\n",
       "  <svg viewBox=\"0 0 567 224\" fill=\"none\" xmlns=\"http://www.w3.org/2000/svg\" style=\"height: 3em;\">\n",
       "    <g clip-path=\"url(#clip0_4338_178347)\">\n",
       "        <path d=\"M341.29 165.561H355.29L330.13 129.051C345.63 123.991 354.21 112.051 354.21 94.2307C354.21 71.3707 338.72 58.1807 311.88 58.1807H271V165.561H283.27V131.661H311.8C314.25 131.661 316.71 131.501 319.01 131.351L341.25 165.561H341.29ZM283.29 119.851V70.0007H311.82C331.3 70.0007 342.34 78.2907 342.34 94.5507C342.34 111.271 331.34 119.861 311.82 119.861L283.29 119.851ZM451.4 138.411L463.4 165.561H476.74L428.74 58.1807H416L367.83 165.561H380.83L392.83 138.411H451.4ZM446.19 126.601H398L422 72.1407L446.24 126.601H446.19ZM526.11 128.741L566.91 58.1807H554.35L519.99 114.181L485.17 58.1807H472.44L514.01 129.181V165.541H526.13V128.741H526.11Z\" fill=\"var(--jp-ui-font-color0)\"/>\n",
       "        <path d=\"M82.35 104.44C84.0187 97.8827 87.8248 92.0678 93.1671 87.9146C98.5094 83.7614 105.083 81.5067 111.85 81.5067C118.617 81.5067 125.191 83.7614 130.533 87.9146C135.875 92.0678 139.681 97.8827 141.35 104.44H163.75C164.476 101.562 165.622 98.8057 167.15 96.2605L127.45 56.5605C121.071 60.3522 113.526 61.6823 106.235 60.3005C98.9443 58.9187 92.4094 54.9203 87.8602 49.0574C83.3109 43.1946 81.0609 35.8714 81.5332 28.4656C82.0056 21.0599 85.1679 14.0819 90.4252 8.8446C95.6824 3.60726 102.672 0.471508 110.08 0.0272655C117.487 -0.416977 124.802 1.86091 130.647 6.4324C136.493 11.0039 140.467 17.5539 141.821 24.8501C143.175 32.1463 141.816 39.6859 138 46.0505L177.69 85.7505C182.31 82.9877 187.58 81.4995 192.962 81.4375C198.345 81.3755 203.648 82.742 208.33 85.3976C213.012 88.0532 216.907 91.9029 219.616 96.5544C222.326 101.206 223.753 106.492 223.753 111.875C223.753 117.258 222.326 122.545 219.616 127.197C216.907 131.848 213.012 135.698 208.33 138.353C203.648 141.009 198.345 142.375 192.962 142.313C187.58 142.251 182.31 140.763 177.69 138L138 177.7C141.808 184.071 143.155 191.614 141.79 198.91C140.424 206.205 136.44 212.75 130.585 217.313C124.731 221.875 117.412 224.141 110.004 223.683C102.596 223.226 95.6103 220.077 90.3621 214.828C85.1139 209.58 81.9647 202.595 81.5072 195.187C81.0497 187.779 83.3154 180.459 87.878 174.605C92.4405 168.751 98.9853 164.766 106.281 163.401C113.576 162.035 121.119 163.383 127.49 167.19L167.19 127.49C165.664 124.941 164.518 122.182 163.79 119.3H141.39C139.721 125.858 135.915 131.673 130.573 135.826C125.231 139.98 118.657 142.234 111.89 142.234C105.123 142.234 98.5494 139.98 93.2071 135.826C87.8648 131.673 84.0587 125.858 82.39 119.3H60C58.1878 126.495 53.8086 132.78 47.6863 136.971C41.5641 141.163 34.1211 142.972 26.7579 142.059C19.3947 141.146 12.6191 137.574 7.70605 132.014C2.79302 126.454 0.0813599 119.29 0.0813599 111.87C0.0813599 104.451 2.79302 97.2871 7.70605 91.7272C12.6191 86.1673 19.3947 82.5947 26.7579 81.6817C34.1211 80.7686 41.5641 82.5781 47.6863 86.7696C53.8086 90.9611 58.1878 97.2456 60 104.44H82.35ZM100.86 204.32C103.407 206.868 106.759 208.453 110.345 208.806C113.93 209.159 117.527 208.258 120.522 206.256C123.517 204.254 125.725 201.276 126.771 197.828C127.816 194.38 127.633 190.677 126.253 187.349C124.874 184.021 122.383 181.274 119.205 179.577C116.027 177.88 112.359 177.337 108.826 178.042C105.293 178.746 102.113 180.654 99.8291 183.44C97.5451 186.226 96.2979 189.718 96.3 193.32C96.2985 195.364 96.7006 197.388 97.4831 199.275C98.2656 201.163 99.4132 202.877 100.86 204.32ZM204.32 122.88C206.868 120.333 208.453 116.981 208.806 113.396C209.159 109.811 208.258 106.214 206.256 103.219C204.254 100.223 201.275 98.0151 197.827 96.97C194.38 95.9249 190.676 96.1077 187.348 97.4873C184.02 98.8669 181.274 101.358 179.577 104.536C177.879 107.714 177.337 111.382 178.041 114.915C178.746 118.448 180.653 121.627 183.439 123.911C186.226 126.195 189.717 127.443 193.32 127.44C195.364 127.443 197.388 127.042 199.275 126.259C201.163 125.476 202.878 124.328 204.32 122.88ZM122.88 19.4205C120.333 16.8729 116.981 15.2876 113.395 14.9347C109.81 14.5817 106.213 15.483 103.218 17.4849C100.223 19.4868 98.0146 22.4654 96.9696 25.9131C95.9245 29.3608 96.1073 33.0642 97.4869 36.3922C98.8665 39.7202 101.358 42.4668 104.535 44.1639C107.713 45.861 111.381 46.4036 114.914 45.6992C118.447 44.9949 121.627 43.0871 123.911 40.301C126.195 37.515 127.442 34.0231 127.44 30.4205C127.44 28.3772 127.038 26.3539 126.255 24.4664C125.473 22.5788 124.326 20.8642 122.88 19.4205ZM19.42 100.86C16.8725 103.408 15.2872 106.76 14.9342 110.345C14.5813 113.93 15.4826 117.527 17.4844 120.522C19.4863 123.518 22.4649 125.726 25.9127 126.771C29.3604 127.816 33.0638 127.633 36.3918 126.254C39.7198 124.874 42.4664 122.383 44.1635 119.205C45.8606 116.027 46.4032 112.359 45.6988 108.826C44.9944 105.293 43.0866 102.114 40.3006 99.8296C37.5145 97.5455 34.0227 96.2983 30.42 96.3005C26.2938 96.3018 22.337 97.9421 19.42 100.86ZM100.86 100.86C98.3125 103.408 96.7272 106.76 96.3742 110.345C96.0213 113.93 96.9226 117.527 98.9244 120.522C100.926 123.518 103.905 125.726 107.353 126.771C110.8 127.816 114.504 127.633 117.832 126.254C121.16 124.874 123.906 122.383 125.604 119.205C127.301 116.027 127.843 112.359 127.139 108.826C126.434 105.293 124.527 102.114 121.741 99.8296C118.955 97.5455 115.463 96.2983 111.86 96.3005C109.817 96.299 107.793 96.701 105.905 97.4835C104.018 98.2661 102.303 99.4136 100.86 100.86Z\" fill=\"#00AEEF\"/>\n",
       "    </g>\n",
       "    <defs>\n",
       "        <clipPath id=\"clip0_4338_178347\">\n",
       "            <rect width=\"566.93\" height=\"223.75\" fill=\"white\"/>\n",
       "        </clipPath>\n",
       "    </defs>\n",
       "  </svg>\n",
       "</div>\n",
       "\n",
       "        <table class=\"jp-RenderedHTMLCommon\" style=\"border-collapse: collapse;color: var(--jp-ui-font-color1);font-size: var(--jp-ui-font-size1);\">\n",
       "    <tr>\n",
       "        <td style=\"text-align: left\"><b>Python version:</b></td>\n",
       "        <td style=\"text-align: left\"><b>3.11.7</b></td>\n",
       "    </tr>\n",
       "    <tr>\n",
       "        <td style=\"text-align: left\"><b>Ray version:</b></td>\n",
       "        <td style=\"text-align: left\"><b>2.9.0</b></td>\n",
       "    </tr>\n",
       "    \n",
       "</table>\n",
       "\n",
       "    </div>\n",
       "</div>\n"
      ],
      "text/plain": [
       "RayContext(dashboard_url='', python_version='3.11.7', ray_version='2.9.0', ray_commit='9be5a16e3ccad0710bba08d0f75e9ff774ae6880', protocol_version=None)"
      ]
     },
     "execution_count": 1,
     "metadata": {},
     "output_type": "execute_result"
    }
   ],
   "source": [
    "import logging\n",
    "from typing import Dict, List, Tuple\n",
    "import ray\n",
    "\n",
    "if ray.is_initialized:\n",
    "    ray.shutdown()\n",
    "ray.init(logging_level=logging.ERROR)"
   ]
  },
  {
   "cell_type": "markdown",
   "id": "ca5c24ca",
   "metadata": {
    "origin_pos": 2
   },
   "source": [
    "Ray 的 Remote Class 也使用 [`ray.remote()`](https://docs.ray.io/en/latest/ray-core/api/doc/ray.remote.html) 来装饰。"
   ]
  },
  {
   "cell_type": "code",
   "execution_count": 2,
   "id": "fc16472e",
   "metadata": {
    "execution": {
     "iopub.execute_input": "2023-08-14T10:28:26.798161Z",
     "iopub.status.busy": "2023-08-14T10:28:26.796992Z",
     "iopub.status.idle": "2023-08-14T10:28:26.805691Z",
     "shell.execute_reply": "2023-08-14T10:28:26.804816Z"
    },
    "origin_pos": 3,
    "tab": [
     "ray"
    ]
   },
   "outputs": [],
   "source": [
    "@ray.remote\n",
    "class Counter:\n",
    "    def __init__(self):\n",
    "        self.value = 0\n",
    "\n",
    "    def increment(self):\n",
    "        self.value += 1\n",
    "        return self.value\n",
    "\n",
    "    def get_counter(self):\n",
    "        return self.value"
   ]
  },
  {
   "cell_type": "markdown",
   "id": "fd0e3c9e",
   "metadata": {
    "origin_pos": 4
   },
   "source": [
    "初始化一个实例，在类名 `Counter` 后面加上 `remote()`，即创建一个分布式的 Actor。"
   ]
  },
  {
   "cell_type": "code",
   "execution_count": 3,
   "id": "d3231f57",
   "metadata": {
    "execution": {
     "iopub.execute_input": "2023-08-14T10:28:26.809551Z",
     "iopub.status.busy": "2023-08-14T10:28:26.809194Z",
     "iopub.status.idle": "2023-08-14T10:28:26.825195Z",
     "shell.execute_reply": "2023-08-14T10:28:26.824337Z"
    },
    "origin_pos": 5,
    "tab": [
     "ray"
    ]
   },
   "outputs": [],
   "source": [
    "counter = Counter.remote()"
   ]
  },
  {
   "cell_type": "markdown",
   "id": "05e34058",
   "metadata": {
    "origin_pos": 6
   },
   "source": [
    "接下来我们要使用 `Counter` 类的计数功能：`increment()` 函数，我们也要在函数后面添加 `remote()` ，即 `对象实例.函数名.remote()`。"
   ]
  },
  {
   "cell_type": "code",
   "execution_count": 4,
   "id": "1d627911",
   "metadata": {
    "execution": {
     "iopub.execute_input": "2023-08-14T10:28:26.828944Z",
     "iopub.status.busy": "2023-08-14T10:28:26.828621Z",
     "iopub.status.idle": "2023-08-14T10:28:29.538369Z",
     "shell.execute_reply": "2023-08-14T10:28:29.537343Z"
    },
    "origin_pos": 7,
    "tab": [
     "ray"
    ]
   },
   "outputs": [
    {
     "name": "stdout",
     "output_type": "stream",
     "text": [
      "1\n"
     ]
    }
   ],
   "source": [
    "obj_ref = counter.increment.remote()\n",
    "print(ray.get(obj_ref))"
   ]
  },
  {
   "cell_type": "markdown",
   "id": "cb986d67",
   "metadata": {
    "origin_pos": 8
   },
   "source": [
    "我们可以用同一个类创建不同的 Actor 实例，不同 Actor 实例的成员函数调用可以被并行化执行，但同一个 Actor 的成员函数调用是顺序执行的。"
   ]
  },
  {
   "cell_type": "code",
   "execution_count": 5,
   "id": "332d3cd3",
   "metadata": {
    "execution": {
     "iopub.execute_input": "2023-08-14T10:28:29.543247Z",
     "iopub.status.busy": "2023-08-14T10:28:29.542664Z",
     "iopub.status.idle": "2023-08-14T10:28:35.505728Z",
     "shell.execute_reply": "2023-08-14T10:28:35.505082Z"
    },
    "origin_pos": 9,
    "tab": [
     "ray"
    ]
   },
   "outputs": [
    {
     "name": "stdout",
     "output_type": "stream",
     "text": [
      "[1, 1, 1, 1, 1, 1, 1, 1, 1, 1]\n"
     ]
    }
   ],
   "source": [
    "# 创建 10 个 Actor 实例\n",
    "counters = [Counter.remote() for _ in range(10)]\n",
    "\n",
    "# 对每个 Actor 进行 increment 操作\n",
    "# 这些操作可以分布式执行\n",
    "results = ray.get([c.increment.remote() for c in counters])\n",
    "print(results)"
   ]
  },
  {
   "cell_type": "markdown",
   "id": "5a0afba3",
   "metadata": {
    "origin_pos": 10
   },
   "source": [
    "同一个 Actor 实例是互相共享状态的，所谓共享状态是指，Actor 可能被分布式地调度，无论调度到哪个计算节点，对 Actor 实例的任何操作都像对单机 Python 类和实例的操作一样，对象实例的成员变量是可被访问、修改以及实时更新的。"
   ]
  },
  {
   "cell_type": "code",
   "execution_count": 6,
   "id": "9c8fa1d9",
   "metadata": {
    "execution": {
     "iopub.execute_input": "2023-08-14T10:28:35.509211Z",
     "iopub.status.busy": "2023-08-14T10:28:35.508941Z",
     "iopub.status.idle": "2023-08-14T10:28:35.514698Z",
     "shell.execute_reply": "2023-08-14T10:28:35.514060Z"
    },
    "origin_pos": 11,
    "tab": [
     "ray"
    ]
   },
   "outputs": [
    {
     "name": "stdout",
     "output_type": "stream",
     "text": [
      "[2, 3, 4, 5, 6]\n"
     ]
    }
   ],
   "source": [
    "# 对第一个 Actor 进行5次 increment 操作\n",
    "# 这5次 increment 操作是顺序执行的，5次操作共享状态数据 value\n",
    "results = ray.get([counters[0].increment.remote() for _ in range(5)])\n",
    "print(results)"
   ]
  },
  {
   "cell_type": "markdown",
   "id": "10931c80",
   "metadata": {
    "origin_pos": 12
   },
   "source": [
    "## Actor 编程模型\n",
    "\n",
    "Actor 编程模型是一种分布式编程的范式，每门编程语言或框架有自己的实现。Actor 编程模型的基本要素是 Actor 实例，即每个 Actor 对象都是唯一的。我们可以把单个 Actor 实例理解成单个带地址信息的进程。每个 Actor 都拥有地址信息，我们就可以从别的 Actor 向这个 Actor 发送信息，就像我们通过手机号或电子邮件地址互相发送信息一样。一个 Actor 可以有一个地址，也可以有多个地址，多个 Actor 可以共享同一个地址，拥有多少个地址主要取决于我们想以怎样的方式收发数据。多个 Actor 共享同一个地址，就像公司里有一个群组邮箱，群组包含了多个人，有个对外的公共地址，向这个群组发邮件，群组中的每个人都可以收到消息。\n",
    "\n",
    "拥有地址和内存空间，Actor 可以做以下事情：\n",
    "\n",
    "* 存储数据，比如状态数据\n",
    "* 从别的 Actor 接收消息\n",
    "* 向别的 Actor 接收消息\n",
    "* 创建新的 Actor\n",
    "\n",
    "Actor 存储的状态数据只能由 Actor 自己来管理，不能被其他 Actor 修改。这有点像面向对象编程语言中类的实例，如果想修改实例的数据，一般通过实例的成员函数。如果我们想修改 Actor 里面存储的状态数据，应该向 Actor 发送消息，Actor 接收到消息，并基于自己存储的数据，做出决策：决定修改状态数据，或者再向其他 Actor 发送消息。比如，刚才的计数器案例中，Actor 收到 `increment()` 的消息，并根据自己存储的状态，做自增操作。\n",
    "\n",
    "为了保证 Actor 编程模型分布式环境下状态的一致性，对同一个 Actor 多次发送同样请求，多次请求是顺序执行的。就像计数器案例中，对同一个 Actor 进行 5 次 `increment()` 操作，这 5 次操作是顺序执行的。\n",
    "\n",
    "Actor 编程模型是消息驱动的，给某个 Actor 发送消息，它就会对该消息进行响应，修改自身的状态或者继续给其他 Actor 发送消息。Actor 编程模型不需要显式地在多个进程之间同步数据，因此也没有锁的问题以及同步等待的时间。Actor 编程模型可被用于大量异步操作的场景。\n",
    "\n",
    "## 案例：排行榜\n",
    "\n",
    "接下来我们基于 Actor 实现一个更加复杂的案例：成绩排行榜。这个排行榜的状态是一个键值对，名为 `self.board`，键是名字（`name`），是一个 `str` 类型，值是分数（`score`），是一个 `float` 类型。"
   ]
  },
  {
   "cell_type": "code",
   "execution_count": 7,
   "id": "c731c869",
   "metadata": {
    "execution": {
     "iopub.execute_input": "2023-08-14T10:28:35.518053Z",
     "iopub.status.busy": "2023-08-14T10:28:35.517783Z",
     "iopub.status.idle": "2023-08-14T10:28:35.525393Z",
     "shell.execute_reply": "2023-08-14T10:28:35.524639Z"
    },
    "origin_pos": 13,
    "tab": [
     "ray"
    ]
   },
   "outputs": [],
   "source": [
    "@ray.remote\n",
    "class Ranking:\n",
    "    def __init__(self, minimal_score: float = 60.0):\n",
    "        self.minimal = minimal_score\n",
    "        self.board = dict()\n",
    "\n",
    "    def add(self, name: str, score: float) -> Dict[str, float]:\n",
    "        try:\n",
    "            score = float(score)\n",
    "            if score < self.minimal:\n",
    "                return\n",
    "            if name in self.board:\n",
    "                self.board[name] = max(score, self.board[name])\n",
    "            else:\n",
    "                self.board[name] = score\n",
    "            self.board = dict(sorted(self.board.items(), key=lambda item: item[1]))\n",
    "            return self.board\n",
    "        except Exception as e:\n",
    "            print(f\"The data type of score should be float but we receive {type(score)}.\")\n",
    "            return self.board\n",
    "\n",
    "    def top(self, n: int = 1) -> List[Tuple[str, float]]:\n",
    "        n = min(n, len(self.board))\n",
    "        results = list(self.board.items())[:n]\n",
    "        return results\n",
    "\n",
    "    def pop(self) -> Dict[str, float]:\n",
    "        if len(self.board) <= 0:\n",
    "            raise Exception(\"The board is empty.\")\n",
    "        else:\n",
    "            _, _ = self.board.popitem()\n",
    "        return self.board"
   ]
  },
  {
   "cell_type": "markdown",
   "id": "20d46cc5",
   "metadata": {
    "origin_pos": 14
   },
   "source": [
    "在这个排行榜的例子中，一共三个函数：\n",
    "\n",
    "* `__init__()` ：构造器。\n",
    "* `add()`：添加一条新记录，同时对输入进行解析，如果 `score` 不能转换成 `float` 会抛出异常；并对已有记录排序。\n",
    "* `pop()`：删除最大值的那条记录，如果 `self.board` 为空，会抛出异常。\n",
    "\n",
    "使用 `.remote()` 函数来创建这个 Remote Class 对应的 Actor 实例。"
   ]
  },
  {
   "cell_type": "code",
   "execution_count": 8,
   "id": "2be74150",
   "metadata": {
    "execution": {
     "iopub.execute_input": "2023-08-14T10:28:35.529318Z",
     "iopub.status.busy": "2023-08-14T10:28:35.528613Z",
     "iopub.status.idle": "2023-08-14T10:28:35.538228Z",
     "shell.execute_reply": "2023-08-14T10:28:35.537334Z"
    },
    "origin_pos": 15,
    "tab": [
     "ray"
    ]
   },
   "outputs": [],
   "source": [
    "# 创建排行榜\n",
    "ranking = Ranking.remote()"
   ]
  },
  {
   "cell_type": "markdown",
   "id": "6fcf665e",
   "metadata": {
    "origin_pos": 16
   },
   "source": [
    "这里的 `ranking` 是一个 Actor 的引用（Actor Handle），有点像 `ObjectRef`，我们用 `ranking` 这个 Actor Handle 来管理这个 Actor。一旦 Actor Handle 被销毁，对应的 Actor 以及其状态也被销毁。\n",
    "\n",
    "我们可以创建多个 Actor 实例，每个实例管理自己的状态。还可以用 [`ActorClass.options()`](https://docs.ray.io/en/latest/ray-core/api/doc/ray.actor.ActorClass.options.html) 给这些 Actor 实例设置一些选项，起名字，设置 CPU、GPU 计算资源等。"
   ]
  },
  {
   "cell_type": "code",
   "execution_count": 9,
   "id": "86976b73",
   "metadata": {
    "execution": {
     "iopub.execute_input": "2023-08-14T10:28:35.542515Z",
     "iopub.status.busy": "2023-08-14T10:28:35.542189Z",
     "iopub.status.idle": "2023-08-14T10:28:35.554633Z",
     "shell.execute_reply": "2023-08-14T10:28:35.553236Z"
    },
    "origin_pos": 17,
    "tab": [
     "ray"
    ]
   },
   "outputs": [],
   "source": [
    "# 创建一个数学排行榜 math_ranking\n",
    "# 它与刚创建的 ranking 相互独立\n",
    "math_ranking = Ranking.remote(minimal_score=80)\n",
    "\n",
    "# 创建一个化学排行榜 chem_ranking\n",
    "# 并且有一个名字\n",
    "chem_ranking = Ranking.options(name=\"Chemistry\").remote()"
   ]
  },
  {
   "cell_type": "markdown",
   "id": "2d7d9844",
   "metadata": {
    "origin_pos": 18
   },
   "source": [
    "有了名字之后，就可以通过 [`ray.get_actor()`](https://docs.ray.io/en/latest/ray-core/api/doc/ray.get_actor.html) 来获取 Actor Handle，"
   ]
  },
  {
   "cell_type": "code",
   "execution_count": 10,
   "id": "77a7e13d",
   "metadata": {
    "execution": {
     "iopub.execute_input": "2023-08-14T10:28:35.559274Z",
     "iopub.status.busy": "2023-08-14T10:28:35.558935Z",
     "iopub.status.idle": "2023-08-14T10:28:35.566079Z",
     "shell.execute_reply": "2023-08-14T10:28:35.564888Z"
    },
    "origin_pos": 19,
    "tab": [
     "ray"
    ]
   },
   "outputs": [],
   "source": [
    "# 获取名为 Chemistry 的 Actor Handle\n",
    "cr = ray.get_actor(\"Chemistry\")"
   ]
  },
  {
   "cell_type": "markdown",
   "id": "25fad3b7",
   "metadata": {
    "origin_pos": 20
   },
   "source": [
    "向 `ranking` 排行榜内添加新记录，即调用 `add()` 函数。调用类成员函数，都要记得加上 `.remote()` ，否则会报错。"
   ]
  },
  {
   "cell_type": "code",
   "execution_count": 11,
   "id": "9f4331f8",
   "metadata": {
    "execution": {
     "iopub.execute_input": "2023-08-14T10:28:35.571587Z",
     "iopub.status.busy": "2023-08-14T10:28:35.571008Z",
     "iopub.status.idle": "2023-08-14T10:28:36.512335Z",
     "shell.execute_reply": "2023-08-14T10:28:36.511112Z"
    },
    "origin_pos": 21,
    "tab": [
     "ray"
    ]
   },
   "outputs": [
    {
     "name": "stdout",
     "output_type": "stream",
     "text": [
      "Current ranking: [('Bob', 60.0), ('Alice', 90.0)]\n"
     ]
    }
   ],
   "source": [
    "# 增加新记录\n",
    "ranking.add.remote(\"Alice\", 90)\n",
    "ranking.add.remote(\"Bob\", 60)\n",
    "\n",
    "print(f\"Current ranking: {ray.get(ranking.top.remote(3))}\")"
   ]
  },
  {
   "cell_type": "code",
   "execution_count": 12,
   "id": "997d6df5",
   "metadata": {
    "execution": {
     "iopub.execute_input": "2023-08-14T10:28:36.517441Z",
     "iopub.status.busy": "2023-08-14T10:28:36.517049Z",
     "iopub.status.idle": "2023-08-14T10:28:36.524237Z",
     "shell.execute_reply": "2023-08-14T10:28:36.523339Z"
    },
    "origin_pos": 22,
    "tab": [
     "ray"
    ]
   },
   "outputs": [
    {
     "data": {
      "text/plain": [
       "{'Bob': 60.0, 'Alice': 90.0}"
      ]
     },
     "execution_count": 12,
     "metadata": {},
     "output_type": "execute_result"
    }
   ],
   "source": [
    "ray.get(ranking.add.remote(\"Mark\", 'a88'))"
   ]
  },
  {
   "cell_type": "markdown",
   "id": "c1deb393",
   "metadata": {
    "origin_pos": 23
   },
   "source": [
    "在上面的案例中，有些调用会引发异常，比如插入一个字符串，Ray 通常会处理异常并打印出来，但是为了保险起见，你也可以在调用这些 Remote Class 的成员方法时手动做好 `try/except` 的异常捕获："
   ]
  },
  {
   "cell_type": "code",
   "execution_count": 13,
   "id": "6e0eb163",
   "metadata": {},
   "outputs": [
    {
     "name": "stdout",
     "output_type": "stream",
     "text": [
      "\u001b[36m(Ranking pid=94276)\u001b[0m The data type of score should be float but we receive <class 'str'>.\n",
      "\u001b[36mray::Ranking.pop()\u001b[39m (pid=94276, ip=127.0.0.1, actor_id=ad9e8acb97292b765b95c42501000000, repr=<__main__.Ranking object at 0x10348d690>)\n",
      "           ^^^^^^^^^^^^^^^^^^^^^^^^^^^^^^^^^^^^\n",
      "           ^^^^^^^^^^^^^^^^^^^^^^^^^^^^^^^\n",
      "  File \"/var/folders/4n/v40br47s46ggrjm9bdm64lwh0000gn/T/ipykernel_94239/1570506600.py\", line 29, in pop\n",
      "Exception: The board is empty.\n"
     ]
    }
   ],
   "source": [
    "try:\n",
    "    ray.get(ranking.pop.remote())\n",
    "    ray.get(ranking.pop.remote())\n",
    "    ray.get(ranking.pop.remote())\n",
    "except Exception as e:\n",
    "    print(e)"
   ]
  },
  {
   "cell_type": "markdown",
   "id": "25814b1f",
   "metadata": {},
   "source": [
    "## 案例：Actor Pool\n",
    "\n",
    "实践上，经常创建一个 Actor 资源池（Actor Pool），[`ActorPool`](https://docs.ray.io/en/latest/ray-core/api/doc/ray.util.ActorPool.html) 有点像 `multiprocessing.Pool`，Actor Pool 中有包含多个 Actor，每个 Actor 功能一样，而且可以分式地在多个计算节点上运行。"
   ]
  },
  {
   "cell_type": "code",
   "execution_count": 14,
   "id": "f9cc6e68",
   "metadata": {
    "execution": {
     "iopub.execute_input": "2023-08-14T10:28:36.528912Z",
     "iopub.status.busy": "2023-08-14T10:28:36.528519Z",
     "iopub.status.idle": "2023-08-14T10:28:36.544643Z",
     "shell.execute_reply": "2023-08-14T10:28:36.543485Z"
    },
    "origin_pos": 24,
    "tab": [
     "ray"
    ]
   },
   "outputs": [],
   "source": [
    "from ray.util import ActorPool\n",
    "\n",
    "@ray.remote\n",
    "class PoolActor:\n",
    "    def add(self, operands):\n",
    "        (a, b) = operands\n",
    "        return a + b\n",
    "\n",
    "    def double(self, operand):\n",
    "        return operand * 2\n",
    "\n",
    "# 将创建的 Actor 添加至 ActorPool 中\n",
    "a1, a2, a3 = PoolActor.remote(), PoolActor.remote(), PoolActor.remote()\n",
    "pool = ActorPool([a1, a2, a3])"
   ]
  },
  {
   "cell_type": "markdown",
   "id": "8cc35760",
   "metadata": {
    "origin_pos": 25
   },
   "source": [
    "如果我们想调用 `ActorPool` 中的 Actor，可以使用 [`map(fn, values)`](https://docs.ray.io/en/latest/ray-core/api/doc/ray.util.ActorPool.map.html) 和 [`submit(fn, value)`](https://docs.ray.io/en/latest/ray-core/api/doc/ray.util.ActorPool.submit.html) 方法。这两个方法非常相似，所接收的参数是一个函数 `fn` 和参数 `value` 或者参数列表 `values`。`map()` 的 `values` 是一个列表，让函数并行地分发给多个 Actor 去处理；`submit()` 的 `value` 是单个值，每次从 `ActorPool` 中选择一个 Actor 去执行。`fn` 是一个 Lambda 表达式，或者说是一个匿名函数。这个 Lambda 表达式有两个参数：`actor` 和 `value`，`actor` 就是我们定义的单个 Actor 的函数调用，`value` 是这个函数的参数。匿名函数 `fn` 的第一个参数是 `ActorPool` 中的 Actor，第二个参数是函数的参数。"
   ]
  },
  {
   "cell_type": "code",
   "execution_count": 15,
   "id": "369c4bcb",
   "metadata": {
    "execution": {
     "iopub.execute_input": "2023-08-14T10:28:36.550245Z",
     "iopub.status.busy": "2023-08-14T10:28:36.549752Z",
     "iopub.status.idle": "2023-08-14T10:28:36.557383Z",
     "shell.execute_reply": "2023-08-14T10:28:36.555979Z"
    },
    "origin_pos": 26,
    "tab": [
     "ray"
    ]
   },
   "outputs": [],
   "source": [
    "pool.map(lambda a, v: a.double.remote(v), [3, 4, 5, 4])\n",
    "\n",
    "pool.submit(lambda a, v: a.double.remote(v), 3)\n",
    "pool.submit(lambda a, v: a.double.remote(v), 4)"
   ]
  },
  {
   "cell_type": "markdown",
   "id": "051cb351",
   "metadata": {
    "origin_pos": 27
   },
   "source": [
    "`map()` 和 `submit()` 将计算任务提交到了 `ActorPool` 中，`ActorPool` 并不是直接返回结果，而是异步地分发给后台不同的 Actor 去执行。需要使用 [`get_next()`](https://docs.ray.io/en/latest/ray-core/api/doc/ray.util.ActorPool.get_next.html) 阻塞地返回结果。"
   ]
  },
  {
   "cell_type": "code",
   "execution_count": 16,
   "id": "a957c593",
   "metadata": {
    "execution": {
     "iopub.execute_input": "2023-08-14T10:28:36.562816Z",
     "iopub.status.busy": "2023-08-14T10:28:36.562397Z",
     "iopub.status.idle": "2023-08-14T10:28:37.472619Z",
     "shell.execute_reply": "2023-08-14T10:28:37.471924Z"
    },
    "origin_pos": 28,
    "tab": [
     "ray"
    ]
   },
   "outputs": [
    {
     "name": "stdout",
     "output_type": "stream",
     "text": [
      "6\n",
      "8\n",
      "10\n"
     ]
    }
   ],
   "source": [
    "try:\n",
    "    print(pool.get_next())\n",
    "    print(pool.get_next())\n",
    "    print(pool.get_next())\n",
    "except Exception as e:\n",
    "    print(e)"
   ]
  },
  {
   "cell_type": "markdown",
   "id": "0b37047d",
   "metadata": {
    "origin_pos": 29
   },
   "source": [
    "当然，如果已经把所有结果都取回，仍然再去 `get_next()`，将会抛出异常。\n",
    "\n",
    "在这里，`submit()` 的 `value` 参数只能是单个对象，不能是参数列表，如果想传入多个参数，可以把参数包裹成元组。比如 `add()` 方法对两个操作数做计算，我们把两个操作数包裹为一个元组，实现 `add()` 函数时使用 `(a, b) = operands` 解析这个元组。"
   ]
  },
  {
   "cell_type": "code",
   "execution_count": 17,
   "id": "b7876c67",
   "metadata": {
    "execution": {
     "iopub.execute_input": "2023-08-14T10:28:37.476115Z",
     "iopub.status.busy": "2023-08-14T10:28:37.475774Z",
     "iopub.status.idle": "2023-08-14T10:28:37.481272Z",
     "shell.execute_reply": "2023-08-14T10:28:37.480552Z"
    },
    "origin_pos": 30,
    "tab": [
     "ray"
    ]
   },
   "outputs": [
    {
     "name": "stdout",
     "output_type": "stream",
     "text": [
      "8\n"
     ]
    }
   ],
   "source": [
    "pool.submit(lambda a, v: a.add.remote(v), (1, 10))\n",
    "print(pool.get_next())"
   ]
  },
  {
   "cell_type": "code",
   "execution_count": 18,
   "id": "2eaf995d",
   "metadata": {
    "execution": {
     "iopub.execute_input": "2023-08-14T10:28:37.484747Z",
     "iopub.status.busy": "2023-08-14T10:28:37.484421Z",
     "iopub.status.idle": "2023-08-14T10:28:39.961418Z",
     "shell.execute_reply": "2023-08-14T10:28:39.960376Z"
    },
    "origin_pos": 31,
    "tab": [
     "ray"
    ],
    "tags": [
     "hide-output"
    ]
   },
   "outputs": [],
   "source": [
    "ray.shutdown()"
   ]
  },
  {
   "cell_type": "markdown",
   "id": "c4fd91e2",
   "metadata": {},
   "source": [
    "<!-- ```{bibliography}\n",
    "``` -->"
   ]
  }
 ],
 "metadata": {
  "kernelspec": {
   "display_name": "tpch",
   "language": "python",
   "name": "python3"
  },
  "language_info": {
   "codemirror_mode": {
    "name": "ipython",
    "version": 3
   },
   "file_extension": ".py",
   "mimetype": "text/x-python",
   "name": "python",
   "nbconvert_exporter": "python",
   "pygments_lexer": "ipython3",
   "version": "3.11.7"
  },
  "required_libs": []
 },
 "nbformat": 4,
 "nbformat_minor": 5
}
